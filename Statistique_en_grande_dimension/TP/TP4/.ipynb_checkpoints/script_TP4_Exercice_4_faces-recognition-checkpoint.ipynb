{
 "cells": [
  {
   "cell_type": "markdown",
   "metadata": {},
   "source": [
    "# Reconnaissance faciale par SVM (et ACP) "
   ]
  },
  {
   "cell_type": "markdown",
   "metadata": {},
   "source": [
    "https://github.com/gouravaich/faces-recognition-pca/blob/master/PCA%20Mini-Project.ipynb"
   ]
  },
  {
   "cell_type": "code",
   "execution_count": 1,
   "metadata": {},
   "outputs": [
    {
     "name": "stderr",
     "output_type": "stream",
     "text": [
      "/home/malick/.local/lib/python3.6/site-packages/sklearn/externals/joblib/__init__.py:15: DeprecationWarning: sklearn.externals.joblib is deprecated in 0.21 and will be removed in 0.23. Please import this functionality directly from joblib, which can be installed with: pip install joblib. If this warning is raised when loading pickled models, you may need to re-serialize those models with scikit-learn 0.21+.\n",
      "  warnings.warn(msg, category=DeprecationWarning)\n"
     ]
    }
   ],
   "source": [
    "import time\n",
    "import logging\n",
    "import pylab as pl\n",
    "import numpy as np\n",
    "\n",
    "from sklearn.model_selection import train_test_split\n",
    "from sklearn.datasets import fetch_lfw_people\n",
    "from sklearn.model_selection import GridSearchCV\n",
    "from sklearn.metrics import classification_report\n",
    "from sklearn.metrics import confusion_matrix\n",
    "from sklearn.decomposition import PCA\n",
    "\n",
    "from sklearn.svm import SVC\n",
    "from sklearn.neighbors import KNeighborsClassifier\n",
    "from sklearn.ensemble import VotingClassifier\n",
    "\n",
    "from sklearn.externals import joblib # save and load models\n",
    "\n",
    "# # save the model to disk\n",
    "# filename = 'modeles/SVM'\n",
    "# joblib.dump(SVM, filename)\n",
    "\n",
    "# # load the model from disk\n",
    "# loaded_model = joblib.load(filename)"
   ]
  },
  {
   "cell_type": "markdown",
   "metadata": {},
   "source": [
    "### Loading the dataset"
   ]
  },
  {
   "cell_type": "code",
   "execution_count": 2,
   "metadata": {},
   "outputs": [],
   "source": [
    "# On télécharge les données, si elles ne sont pas déjà sur le disque et on les charge sous forme de tableaux numpy.\n",
    "path_home = '/home/malick/Bureau/Data/Statistique_en_grande_dimension/data'\n",
    "lfw_people = fetch_lfw_people(path_home, min_faces_per_person=70, resize=0.4)"
   ]
  },
  {
   "cell_type": "code",
   "execution_count": 3,
   "metadata": {},
   "outputs": [
    {
     "name": "stdout",
     "output_type": "stream",
     "text": [
      "Information sur le dataset:\n",
      " * nombre de lignes: 1288\n",
      " * nombre de variables: 1850\n",
      " * nombre de classes: 7\n"
     ]
    }
   ],
   "source": [
    "# introspect the images arrays to find the shapes (for plotting)\n",
    "n_samples, h, w = lfw_people.images.shape\n",
    "np.random.seed(42)\n",
    "\n",
    "\n",
    "# for machine learning we use the data directly (as relative pixel position info is ignored by this model)\n",
    "X = lfw_people.data\n",
    "n_features = X.shape[1]\n",
    "\n",
    "# the label to predict is the id of the person\n",
    "y = lfw_people.target\n",
    "target_names = lfw_people.target_names\n",
    "n_classes = target_names.shape[0]\n",
    "\n",
    "print(\"Information sur le dataset:\")\n",
    "print(\" * nombre de lignes: %d\" % n_samples)\n",
    "print(\" * nombre de variables: %d\" % n_features)\n",
    "print( \" * nombre de classes: %d\" % n_classes)"
   ]
  },
  {
   "cell_type": "code",
   "execution_count": 4,
   "metadata": {},
   "outputs": [
    {
     "data": {
      "text/plain": [
       "<matplotlib.image.AxesImage at 0x7f5e62caec88>"
      ]
     },
     "execution_count": 4,
     "metadata": {},
     "output_type": "execute_result"
    },
    {
     "data": {
      "image/png": "[encoded data removed]",
      "text/plain": [
       "<Figure size 432x288 with 1 Axes>"
      ]
     },
     "metadata": {
      "needs_background": "light"
     },
     "output_type": "display_data"
    }
   ],
   "source": [
    "pl.imshow(X[2,:].reshape((h, w)), cmap=pl.cm.gray)"
   ]
  },
  {
   "cell_type": "markdown",
   "metadata": {},
   "source": [
    "### Split into a training and testing set"
   ]
  },
  {
   "cell_type": "code",
   "execution_count": 5,
   "metadata": {},
   "outputs": [],
   "source": [
    "X_train, X_test, y_train, y_test = train_test_split(X, y, test_size=0.3, random_state=42)"
   ]
  },
  {
   "cell_type": "markdown",
   "metadata": {},
   "source": [
    "### ACP "
   ]
  },
  {
   "cell_type": "code",
   "execution_count": 6,
   "metadata": {},
   "outputs": [],
   "source": [
    "n_components = 100\n",
    "\n",
    "# TODO: Create an instance of PCA, initializing with n_components=n_components and whiten=True\n",
    "pca = PCA(n_components=n_components, whiten=True, svd_solver='randomized')\n",
    "\n",
    "#TODO: pass the training dataset (X_train) to pca's 'fit()' method\n",
    "pca = pca.fit(X_train)"
   ]
  },
  {
   "cell_type": "code",
   "execution_count": 7,
   "metadata": {},
   "outputs": [
    {
     "name": "stdout",
     "output_type": "stream",
     "text": [
      "proportion de variance associée aux 10 premiéres axex:\n",
      " [0.18945077 0.15410423 0.07173893 0.05956379 0.05092185 0.02902107\n",
      " 0.02535695 0.02199671 0.02019029 0.01868446]\n"
     ]
    }
   ],
   "source": [
    "print(\"proportion de variance associée aux 10 premiéres axex:\\n\",pca.explained_variance_ratio_[:10])"
   ]
  },
  {
   "cell_type": "code",
   "execution_count": 8,
   "metadata": {},
   "outputs": [
    {
     "name": "stdout",
     "output_type": "stream",
     "text": [
      "proportion total de variance associées aux axes:  0.9292\n"
     ]
    }
   ],
   "source": [
    "print(\"proportion total de variance associées aux axes: \",round(sum(pca.explained_variance_ratio_),4))"
   ]
  },
  {
   "cell_type": "code",
   "execution_count": 9,
   "metadata": {},
   "outputs": [],
   "source": [
    "#Principal axes in feature space, representing the directions of maximum variance in the data.\n",
    "#The components are sorted by explained_variance_.\n",
    "eigenfaces = pca.components_.reshape((n_components, h, w))\n",
    "\n",
    "#Apply dimensionality reduction to X.\n",
    "X_train_pca = pca.transform(X_train)\n",
    "X_test_pca = pca.transform(X_test)"
   ]
  },
  {
   "cell_type": "markdown",
   "metadata": {},
   "source": [
    "### Train a SVM classification model "
   ]
  },
  {
   "cell_type": "markdown",
   "metadata": {},
   "source": [
    "##### a. SVM Linear "
   ]
  },
  {
   "cell_type": "code",
   "execution_count": 10,
   "metadata": {
    "scrolled": true
   },
   "outputs": [],
   "source": [
    "# #on crée un nouveau modèle SVM à noyau Polynomiale\n",
    "# svmLINEAR = SVC(kernel='linear',class_weight='balanced',probability=True)\n",
    "\n",
    "# #on crée un dictionnaire de toutes les valeurs que nous voulons tester\n",
    "# param_grid_LINEAR = {\"C\": [0.01,1,10,20,50,100,500,1000,10000]}\n",
    "\n",
    "# #on utilise gridsearch pour tester toutes les valeurs\n",
    "# svmLINEAR_gscv = GridSearchCV(svmLINEAR, param_grid_LINEAR, cv=5, n_jobs=-1, verbose=10)\n",
    "\n",
    "# #ajustement du modèle aux données\n",
    "# t_debut = time.time()\n",
    "# svmLINEAR_gscv.fit(X_train_pca, y_train)\n",
    "# t_fin = time.time()\n",
    "\n",
    "# temps_SVM_Linear = (t_fin - t_debut)/60\n",
    "\n",
    "# print(\"Précision Train: \",round(svmLINEAR_gscv.score(X_train_pca, y_train),3))\n",
    "# print(\"Précision Test: \",round(svmLINEAR_gscv.score(X_test_pca, y_test),3))\n",
    "# print(\"\\n\")\n",
    "# print(svmLINEAR_gscv.best_params_)"
   ]
  },
  {
   "cell_type": "code",
   "execution_count": 11,
   "metadata": {},
   "outputs": [],
   "source": [
    "# save the model to disk\n",
    "filename = 'modeles/svmLINEAR_gscv'\n",
    "#joblib.dump(svmLINEAR_gscv, filename)\n",
    "\n",
    "# load the model from disk\n",
    "svmLINEAR_gscv = joblib.load(filename)"
   ]
  },
  {
   "cell_type": "code",
   "execution_count": 12,
   "metadata": {},
   "outputs": [
    {
     "name": "stdout",
     "output_type": "stream",
     "text": [
      "Précision Train:  0.927\n",
      "Précision Test:  0.788\n",
      "\n",
      "\n",
      "{'C': 0.01}\n"
     ]
    }
   ],
   "source": [
    "print(\"Précision Train: \",round(svmLINEAR_gscv.score(X_train_pca, y_train),3))\n",
    "print(\"Précision Test: \",round(svmLINEAR_gscv.score(X_test_pca, y_test),3))\n",
    "print(\"\\n\")\n",
    "print(svmLINEAR_gscv.best_params_)"
   ]
  },
  {
   "cell_type": "raw",
   "metadata": {},
   "source": [
    "VP FP\n",
    "FN VN\n",
    "\n",
    "1. La précision permet de répondre à la question suivante :\n",
    "   Quelle proportion d'identifications positives était effectivement correcte ?\n",
    "   La précision peut être définie comme suit : VP/(VP+FP)\n",
    "   \n",
    "2. Le rappel permet de répondre à la question suivante :\n",
    "   Quelle proportion de résultats positifs réels a été identifiée correctement ?\n",
    "   Le rappel est défini comme suit : VP/(VP+FN)"
   ]
  },
  {
   "cell_type": "code",
   "execution_count": 13,
   "metadata": {},
   "outputs": [
    {
     "name": "stdout",
     "output_type": "stream",
     "text": [
      "                   precision    recall  f1-score   support\n",
      "\n",
      "     Ariel Sharon       0.54      0.83      0.65        18\n",
      "     Colin Powell       0.76      0.84      0.80        69\n",
      "  Donald Rumsfeld       0.64      0.68      0.66        34\n",
      "    George W Bush       0.93      0.80      0.86       166\n",
      "Gerhard Schroeder       0.63      0.84      0.72        31\n",
      "      Hugo Chavez       0.86      0.63      0.73        19\n",
      "       Tony Blair       0.78      0.78      0.78        50\n",
      "\n",
      "         accuracy                           0.79       387\n",
      "        macro avg       0.73      0.77      0.74       387\n",
      "     weighted avg       0.81      0.79      0.79       387\n",
      "\n"
     ]
    }
   ],
   "source": [
    "y_pred_LINEAR = svmLINEAR_gscv.predict(X_test_pca)\n",
    "\n",
    "#Sklearn's classification_report montre quelques-unes des principales mesures de classification pour chaque classe:\n",
    "print(classification_report(y_test, y_pred_LINEAR, target_names=target_names))"
   ]
  },
  {
   "cell_type": "code",
   "execution_count": 14,
   "metadata": {},
   "outputs": [
    {
     "name": "stdout",
     "output_type": "stream",
     "text": [
      "[[ 15   0   3   0   0   0   0]\n",
      " [  3  58   1   3   1   1   2]\n",
      " [  4   2  23   2   2   0   1]\n",
      " [  4  10   7 132   6   1   6]\n",
      " [  1   1   0   1  26   0   2]\n",
      " [  1   3   0   1   2  12   0]\n",
      " [  0   2   2   3   4   0  39]]\n"
     ]
    }
   ],
   "source": [
    "print(confusion_matrix(y_test, y_pred_LINEAR, labels=range(n_classes)))"
   ]
  },
  {
   "cell_type": "markdown",
   "metadata": {},
   "source": [
    "#### b. SVM Poly"
   ]
  },
  {
   "cell_type": "code",
   "execution_count": 15,
   "metadata": {},
   "outputs": [],
   "source": [
    "# #on crée un nouveau modèle SVM à noyau Polynomiale\n",
    "# svmPOLY = SVC(kernel='poly',class_weight='balanced', probability=True)\n",
    "\n",
    "# #on crée un dictionnaire de toutes les valeurs que nous voulons tester\n",
    "# param_grid_POLY = {\n",
    "#                    \"C\": [0.01,1,10,20,50,100,500,1000],\n",
    "#                    \"gamma\" : np.arange(0,1.1,0.1),\n",
    "#                    \"degree\": [2,3,4,6],\n",
    "#                    \"coef0\": np.arange(0,1,0.5)\n",
    "#                    }\n",
    "\n",
    "# #on utilise gridsearch pour tester toutes les valeurs\n",
    "# svmPOLY_gscv = GridSearchCV(svmPOLY, param_grid_POLY, cv=5, n_jobs=-1, verbose=10)\n",
    "\n",
    "# #ajustement du modèle aux données\n",
    "# t_debut = time.time()\n",
    "# svmPOLY_gscv.fit(X_train_pca, y_train)\n",
    "# t_fin = time.time()\n",
    "\n",
    "# temps_SVM_Poly = (t_fin - t_debut)/60\n",
    "\n",
    "# print(\"Précision Train: \",round(svmPOLY_gscv.score(X_train_pca, y_train),3))\n",
    "# print(\"Précision Test: \",round(svmPOLY_gscv.score(X_test_pca, y_test),3))\n",
    "# print(\"\\n\")\n",
    "# print(svmPOLY_gscv.best_params_)"
   ]
  },
  {
   "cell_type": "code",
   "execution_count": 16,
   "metadata": {},
   "outputs": [],
   "source": [
    "# save the model to disk\n",
    "filename = 'modeles/svmPOLY_gscv'\n",
    "#joblib.dump(svmPOLY_gscv, filename)\n",
    "\n",
    "# load the model from disk\n",
    "svmPOLY_gscv = joblib.load(filename)"
   ]
  },
  {
   "cell_type": "code",
   "execution_count": 17,
   "metadata": {},
   "outputs": [
    {
     "name": "stdout",
     "output_type": "stream",
     "text": [
      "Précision Train:  1.0\n",
      "Précision Test:  0.788\n",
      "\n",
      "\n",
      "{'C': 1, 'coef0': 0.5, 'degree': 2, 'gamma': 0.1}\n"
     ]
    }
   ],
   "source": [
    "print(\"Précision Train: \",round(svmPOLY_gscv.score(X_train_pca, y_train),3))\n",
    "print(\"Précision Test: \",round(svmPOLY_gscv.score(X_test_pca, y_test),3))\n",
    "print(\"\\n\")\n",
    "print(svmPOLY_gscv.best_params_)"
   ]
  },
  {
   "cell_type": "code",
   "execution_count": 18,
   "metadata": {},
   "outputs": [
    {
     "name": "stdout",
     "output_type": "stream",
     "text": [
      "                   precision    recall  f1-score   support\n",
      "\n",
      "     Ariel Sharon       0.67      0.33      0.44        18\n",
      "     Colin Powell       0.92      0.86      0.89        69\n",
      "  Donald Rumsfeld       0.77      0.59      0.67        34\n",
      "    George W Bush       0.73      0.96      0.83       166\n",
      "Gerhard Schroeder       0.76      0.61      0.68        31\n",
      "      Hugo Chavez       0.89      0.42      0.57        19\n",
      "       Tony Blair       0.92      0.66      0.77        50\n",
      "\n",
      "         accuracy                           0.79       387\n",
      "        macro avg       0.81      0.63      0.69       387\n",
      "     weighted avg       0.80      0.79      0.78       387\n",
      "\n"
     ]
    }
   ],
   "source": [
    "y_pred_POLY = svmPOLY_gscv.predict(X_test_pca)\n",
    "\n",
    "#Sklearn's classification_report montre quelques-unes des principales mesures de classification pour chaque classe:\n",
    "print(classification_report(y_test, y_pred_POLY, target_names=target_names))"
   ]
  },
  {
   "cell_type": "code",
   "execution_count": 19,
   "metadata": {},
   "outputs": [
    {
     "name": "stdout",
     "output_type": "stream",
     "text": [
      "[[  6   0   2  10   0   0   0]\n",
      " [  1  59   0   6   1   1   1]\n",
      " [  1   1  20  12   0   0   0]\n",
      " [  0   2   3 160   1   0   0]\n",
      " [  0   0   1  10  19   0   1]\n",
      " [  1   2   0   4   3   8   1]\n",
      " [  0   0   0  16   1   0  33]]\n"
     ]
    }
   ],
   "source": [
    "print(confusion_matrix(y_test, y_pred_POLY, labels=range(n_classes)))"
   ]
  },
  {
   "cell_type": "markdown",
   "metadata": {},
   "source": [
    "#### c. SMV Rbf"
   ]
  },
  {
   "cell_type": "code",
   "execution_count": 20,
   "metadata": {},
   "outputs": [],
   "source": [
    "# #on crée un nouveau modèle SVM à noyau Gaussien\n",
    "# svmRBF = SVC(kernel='rbf',class_weight='balanced',probability=True)\n",
    "\n",
    "# #on crée un dictionnaire de toutes les valeurs que nous voulons tester\n",
    "# param_grid_RBF = {\n",
    "#                   \"C\": [0.01,1,10,20,50,100,500,1000,10000],\n",
    "#                   \"gamma\" : np.arange(0,1,0.05)\n",
    "#                  }\n",
    "\n",
    "# #on utilise gridsearch pour tester toutes les valeurs de param_grid\n",
    "# svmRBF_gscv = GridSearchCV(svmRBF, param_grid_RBF, cv=5, n_jobs=-1, verbose=10)\n",
    "\n",
    "# #ajustement du modèle aux données\n",
    "# t_debut = time.time()\n",
    "# svmRBF_gscv.fit(X_train_pca,y_train)\n",
    "# t_fin = time.time()\n",
    "\n",
    "# temps_SVM_Rbf = (t_fin - t_debut)/60\n",
    "\n",
    "# print(\"Précision Train: \",round(svmRBF_gscv.score(X_train_pca,y_train),3))\n",
    "# print(\"Précision Test: \",round(svmRBF_gscv.score(X_test_pca,y_test),3))\n",
    "# print(\"\\n\")\n",
    "\n",
    "# print(svmRBF_gscv.best_params_)"
   ]
  },
  {
   "cell_type": "code",
   "execution_count": 21,
   "metadata": {},
   "outputs": [],
   "source": [
    "# save the model to disk\n",
    "filename = 'modeles/svmRBF_gscv'\n",
    "#joblib.dump(svmRBF_gscv, filename)\n",
    "\n",
    "# load the model from disk\n",
    "svmRBF_gscv = joblib.load(filename)"
   ]
  },
  {
   "cell_type": "code",
   "execution_count": 22,
   "metadata": {},
   "outputs": [
    {
     "name": "stdout",
     "output_type": "stream",
     "text": [
      "Précision Train:  1.0\n",
      "Précision Test:  0.465\n",
      "\n",
      "\n",
      "{'C': 1, 'gamma': 0.05}\n"
     ]
    }
   ],
   "source": [
    "print(\"Précision Train: \",round(svmRBF_gscv.score(X_train_pca,y_train),3))\n",
    "print(\"Précision Test: \",round(svmRBF_gscv.score(X_test_pca,y_test),3))\n",
    "print(\"\\n\")\n",
    "\n",
    "print(svmRBF_gscv.best_params_)"
   ]
  },
  {
   "cell_type": "code",
   "execution_count": 23,
   "metadata": {},
   "outputs": [
    {
     "name": "stdout",
     "output_type": "stream",
     "text": [
      "                   precision    recall  f1-score   support\n",
      "\n",
      "     Ariel Sharon       0.00      0.00      0.00        18\n",
      "     Colin Powell       1.00      0.19      0.32        69\n",
      "  Donald Rumsfeld       1.00      0.03      0.06        34\n",
      "    George W Bush       0.45      1.00      0.62       166\n",
      "Gerhard Schroeder       0.00      0.00      0.00        31\n",
      "      Hugo Chavez       0.00      0.00      0.00        19\n",
      "       Tony Blair       0.00      0.00      0.00        50\n",
      "\n",
      "         accuracy                           0.47       387\n",
      "        macro avg       0.35      0.17      0.14       387\n",
      "     weighted avg       0.46      0.47      0.33       387\n",
      "\n"
     ]
    },
    {
     "name": "stderr",
     "output_type": "stream",
     "text": [
      "/home/malick/.local/lib/python3.6/site-packages/sklearn/metrics/classification.py:1437: UndefinedMetricWarning: Precision and F-score are ill-defined and being set to 0.0 in labels with no predicted samples.\n",
      "  'precision', 'predicted', average, warn_for)\n"
     ]
    }
   ],
   "source": [
    "y_pred_RBF = svmRBF_gscv.predict(X_test_pca)\n",
    "\n",
    "#Sklearn's classification_report montre quelques-unes des principales mesures de classification pour chaque classe:\n",
    "print(classification_report(y_test, y_pred_RBF, target_names=target_names))"
   ]
  },
  {
   "cell_type": "code",
   "execution_count": 24,
   "metadata": {},
   "outputs": [
    {
     "name": "stdout",
     "output_type": "stream",
     "text": [
      "[[  0   0   0  18   0   0   0]\n",
      " [  0  13   0  56   0   0   0]\n",
      " [  0   0   1  33   0   0   0]\n",
      " [  0   0   0 166   0   0   0]\n",
      " [  0   0   0  31   0   0   0]\n",
      " [  0   0   0  19   0   0   0]\n",
      " [  0   0   0  50   0   0   0]]\n"
     ]
    }
   ],
   "source": [
    "print(confusion_matrix(y_test, y_pred_RBF, labels=range(n_classes)))"
   ]
  },
  {
   "cell_type": "markdown",
   "metadata": {},
   "source": [
    "#### c. KNN"
   ]
  },
  {
   "cell_type": "code",
   "execution_count": 25,
   "metadata": {},
   "outputs": [],
   "source": [
    "# #on crée un nouveau modèle knn2\n",
    "# knn = KNeighborsClassifier()\n",
    "\n",
    "# max_Voisins = 101\n",
    "\n",
    "# #on crée un dictionnaire de toutes les valeurs que nous voulons tester avec n_neighbors\n",
    "# param_grid_KNN = {\"n_neighbors\": np.arange(1, max_Voisins), \"weights\" : [\"uniform\", \"distance\"]}\n",
    "\n",
    "# #on utilise gridsearch pour tester toutes les valeurs de n_neighbors\n",
    "# knn_gscv = GridSearchCV(knn, param_grid_KNN, cv=5, n_jobs=-1, verbose=10)\n",
    "\n",
    "# #ajustement du modèle aux données\n",
    "# t_debut = time.time()\n",
    "# knn_gscv.fit(X_train_pca,y_train)\n",
    "# t_fin = time.time()\n",
    "\n",
    "# temps_SVM_knn = (t_fin - t_debut)/60\n",
    "\n",
    "# print(\"Précision Train: \",round(knn_gscv.score(X_train_pca,y_train),3))\n",
    "# print(\"Précision Test: \",round(knn_gscv.score(X_test_pca,y_test),3))\n",
    "# print(\"\\n\")\n",
    "\n",
    "# print(knn_gscv.best_params_)"
   ]
  },
  {
   "cell_type": "code",
   "execution_count": 26,
   "metadata": {},
   "outputs": [],
   "source": [
    "# save the model to disk\n",
    "filename = 'modeles/knn_gscv'\n",
    "#joblib.dump(knn_gscv, filename)\n",
    "\n",
    "# load the model from disk\n",
    "knn_gscv = joblib.load(filename)"
   ]
  },
  {
   "cell_type": "code",
   "execution_count": 27,
   "metadata": {},
   "outputs": [
    {
     "name": "stdout",
     "output_type": "stream",
     "text": [
      "Précision Train:  1.0\n",
      "Précision Test:  0.693\n",
      "\n",
      "\n",
      "{'n_neighbors': 4, 'weights': 'distance'}\n"
     ]
    }
   ],
   "source": [
    "print(\"Précision Train: \",round(knn_gscv.score(X_train_pca,y_train),3))\n",
    "print(\"Précision Test: \",round(knn_gscv.score(X_test_pca,y_test),3))\n",
    "print(\"\\n\")\n",
    "\n",
    "print(knn_gscv.best_params_)"
   ]
  },
  {
   "cell_type": "code",
   "execution_count": 28,
   "metadata": {},
   "outputs": [
    {
     "name": "stdout",
     "output_type": "stream",
     "text": [
      "                   precision    recall  f1-score   support\n",
      "\n",
      "     Ariel Sharon       0.50      0.28      0.36        18\n",
      "     Colin Powell       0.88      0.67      0.76        69\n",
      "  Donald Rumsfeld       0.53      0.50      0.52        34\n",
      "    George W Bush       0.68      0.95      0.79       166\n",
      "Gerhard Schroeder       0.63      0.39      0.48        31\n",
      "      Hugo Chavez       0.89      0.42      0.57        19\n",
      "       Tony Blair       0.69      0.44      0.54        50\n",
      "\n",
      "         accuracy                           0.69       387\n",
      "        macro avg       0.69      0.52      0.57       387\n",
      "     weighted avg       0.70      0.69      0.67       387\n",
      "\n"
     ]
    }
   ],
   "source": [
    "y_pred_KNN = knn_gscv.predict(X_test_pca)\n",
    "\n",
    "#Sklearn's classification_report montre quelques-unes des principales mesures de classification pour chaque classe:\n",
    "print(classification_report(y_test, y_pred_KNN, target_names=target_names))"
   ]
  },
  {
   "cell_type": "code",
   "execution_count": 29,
   "metadata": {},
   "outputs": [
    {
     "name": "stdout",
     "output_type": "stream",
     "text": [
      "[[  5   0   2   8   1   1   1]\n",
      " [  2  46   3  15   1   0   2]\n",
      " [  1   0  17  14   1   0   1]\n",
      " [  0   1   4 158   1   0   2]\n",
      " [  1   1   2  11  12   0   4]\n",
      " [  1   1   1   6   2   8   0]\n",
      " [  0   3   3  21   1   0  22]]\n"
     ]
    }
   ],
   "source": [
    "print(confusion_matrix(y_test, y_pred_KNN, labels=range(n_classes)))"
   ]
  },
  {
   "cell_type": "markdown",
   "metadata": {},
   "source": [
    "#### d. LogisticRegression"
   ]
  },
  {
   "cell_type": "code",
   "execution_count": null,
   "metadata": {},
   "outputs": [],
   "source": []
  },
  {
   "cell_type": "code",
   "execution_count": null,
   "metadata": {},
   "outputs": [],
   "source": []
  },
  {
   "cell_type": "markdown",
   "metadata": {},
   "source": [
    "#### e. Combinaison de modéles"
   ]
  },
  {
   "cell_type": "raw",
   "metadata": {},
   "source": [
    "On peut combiner tous les modéles et faire un vote mojoritaire:"
   ]
  },
  {
   "cell_type": "code",
   "execution_count": 30,
   "metadata": {},
   "outputs": [],
   "source": [
    "Estimateurs = [('linear', svmLINEAR_gscv.best_estimator_), # a.\n",
    "               ('poly', svmPOLY_gscv.best_estimator_), # b.\n",
    "               ('rbf', svmRBF_gscv.best_estimator_) # c.\n",
    "              ]\n",
    "\n",
    "poids = [svmLINEAR_gscv.score(X_test_pca, y_test),\n",
    "         svmPOLY_gscv.score(X_test_pca, y_test),\n",
    "         svmRBF_gscv.score(X_test_pca, y_test)\n",
    "        ]\n",
    "\n",
    "SVM = VotingClassifier(estimators=Estimateurs, \n",
    "                       voting='soft',\n",
    "                       weights=poids,\n",
    "                       n_jobs=-1)"
   ]
  },
  {
   "cell_type": "code",
   "execution_count": 31,
   "metadata": {},
   "outputs": [
    {
     "data": {
      "text/plain": [
       "VotingClassifier(estimators=[('linear',\n",
       "                              SVC(C=0.01, cache_size=200,\n",
       "                                  class_weight='balanced', coef0=0.0,\n",
       "                                  decision_function_shape='ovr', degree=3,\n",
       "                                  gamma='auto_deprecated', kernel='linear',\n",
       "                                  max_iter=-1, probability=True,\n",
       "                                  random_state=None, shrinking=True, tol=0.001,\n",
       "                                  verbose=False)),\n",
       "                             ('poly',\n",
       "                              SVC(C=1, cache_size=200, class_weight='balanced',\n",
       "                                  coef0=0.5, decision_function_s...\n",
       "                                  random_state=None, shrinking=True, tol=0.001,\n",
       "                                  verbose=False)),\n",
       "                             ('rbf',\n",
       "                              SVC(C=1, cache_size=200, class_weight='balanced',\n",
       "                                  coef0=0.0, decision_function_shape='ovr',\n",
       "                                  degree=3, gamma=0.05, kernel='rbf',\n",
       "                                  max_iter=-1, probability=True,\n",
       "                                  random_state=None, shrinking=True, tol=0.001,\n",
       "                                  verbose=False))],\n",
       "                 flatten_transform=True, n_jobs=-1, voting='soft',\n",
       "                 weights=[0.7881136950904393, 0.7881136950904393,\n",
       "                          0.46511627906976744])"
      ]
     },
     "execution_count": 31,
     "metadata": {},
     "output_type": "execute_result"
    }
   ],
   "source": [
    "SVM.fit(X_train_pca, y_train)"
   ]
  },
  {
   "cell_type": "code",
   "execution_count": 32,
   "metadata": {},
   "outputs": [],
   "source": [
    "# save the model to disk\n",
    "filename = 'modeles/SVM'\n",
    "#joblib.dump(SVM, filename)\n",
    "\n",
    "# load the model from disk\n",
    "SVM = joblib.load(filename)"
   ]
  },
  {
   "cell_type": "code",
   "execution_count": 33,
   "metadata": {},
   "outputs": [
    {
     "name": "stdout",
     "output_type": "stream",
     "text": [
      "Précision Train:  1.0\n",
      "Précision Test:  0.835\n"
     ]
    }
   ],
   "source": [
    "print(\"Précision Train: \",round(SVM.score(X_train_pca,y_train),3))\n",
    "print(\"Précision Test: \",round(SVM.score(X_test_pca,y_test),3))"
   ]
  },
  {
   "cell_type": "code",
   "execution_count": 34,
   "metadata": {},
   "outputs": [
    {
     "name": "stdout",
     "output_type": "stream",
     "text": [
      "                   precision    recall  f1-score   support\n",
      "\n",
      "     Ariel Sharon       0.81      0.72      0.76        18\n",
      "     Colin Powell       0.88      0.87      0.88        69\n",
      "  Donald Rumsfeld       0.73      0.65      0.69        34\n",
      "    George W Bush       0.83      0.94      0.88       166\n",
      "Gerhard Schroeder       0.83      0.77      0.80        31\n",
      "      Hugo Chavez       0.92      0.63      0.75        19\n",
      "       Tony Blair       0.84      0.72      0.77        50\n",
      "\n",
      "         accuracy                           0.83       387\n",
      "        macro avg       0.84      0.76      0.79       387\n",
      "     weighted avg       0.84      0.83      0.83       387\n",
      "\n"
     ]
    }
   ],
   "source": [
    "y_pred_SVM = SVM.predict(X_test_pca)\n",
    "\n",
    "#Sklearn's classification_report montre quelques-unes des principales mesures de classification pour chaque classe:\n",
    "print(classification_report(y_test, y_pred_SVM, target_names=target_names))"
   ]
  },
  {
   "cell_type": "code",
   "execution_count": 35,
   "metadata": {
    "scrolled": true
   },
   "outputs": [
    {
     "name": "stdout",
     "output_type": "stream",
     "text": [
      "[[ 13   0   3   2   0   0   0]\n",
      " [  1  60   0   4   1   1   2]\n",
      " [  1   2  22   9   0   0   0]\n",
      " [  0   3   5 156   1   0   1]\n",
      " [  0   0   0   3  24   0   4]\n",
      " [  1   3   0   2   1  12   0]\n",
      " [  0   0   0  12   2   0  36]]\n"
     ]
    }
   ],
   "source": [
    "print(confusion_matrix(y_test, y_pred_SVM, labels=range(n_classes)))"
   ]
  }
 ],
 "metadata": {
  "kernelspec": {
   "display_name": "Python 3",
   "language": "python",
   "name": "python3"
  },
  "language_info": {
   "codemirror_mode": {
    "name": "ipython",
    "version": 3
   },
   "file_extension": ".py",
   "mimetype": "text/x-python",
   "name": "python",
   "nbconvert_exporter": "python",
   "pygments_lexer": "ipython3",
   "version": "3.6.8"
  }
 },
 "nbformat": 4,
 "nbformat_minor": 2
}
