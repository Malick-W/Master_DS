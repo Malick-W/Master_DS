{
 "cells": [
  {
   "cell_type": "raw",
   "metadata": {},
   "source": [
    "# Statistique en Grande Dimension et Apprentissage - TP 4 SVM"
   ]
  },
  {
   "cell_type": "markdown",
   "metadata": {},
   "source": [
    "Les SVM à noyaux sont implémentées dans \"scikit-learn\" dans les classes \"sklearn.svm.SVC\" pour la classification et \"sklearn.svm.SVR\" pour la régression. Dans ces deux classes, on peut spécifier un noyau grâce au paramètre «kernel». Ce noyau peut être (linéaire, polynomial, RBF), mais on peut aussi définir vos propres noyaux !"
   ]
  },
  {
   "cell_type": "markdown",
   "metadata": {},
   "source": [
    "## Exercice 1 (Exemples simulés)"
   ]
  },
  {
   "cell_type": "markdown",
   "metadata": {},
   "source": [
    "## Exemple 1"
   ]
  },
  {
   "cell_type": "markdown",
   "metadata": {},
   "source": [
    "### 1. "
   ]
  },
  {
   "cell_type": "code",
   "execution_count": 1,
   "metadata": {},
   "outputs": [],
   "source": [
    "def Echantillon(n):\n",
    "    \n",
    "    x = np.random.uniform(-3,3,n)\n",
    "    b = np.random.uniform(-3,3,n)\n",
    "    Y = np.zeros(n)\n",
    "    \n",
    "    Y[b > 0] = [1 for i in range(np.sum(b > 0))]\n",
    "    Y[b < 0] = [-1 for i in range(np.sum(b < 0))]\n",
    "    \n",
    "    return pd.DataFrame({'X1': x,'X2': x+b,'Y': Y.astype(int)})"
   ]
  },
  {
   "cell_type": "code",
   "execution_count": 2,
   "metadata": {},
   "outputs": [
    {
     "data": {
      "text/html": [
       "<div>\n",
       "<style scoped>\n",
       "    .dataframe tbody tr th:only-of-type {\n",
       "        vertical-align: middle;\n",
       "    }\n",
       "\n",
       "    .dataframe tbody tr th {\n",
       "        vertical-align: top;\n",
       "    }\n",
       "\n",
       "    .dataframe thead th {\n",
       "        text-align: right;\n",
       "    }\n",
       "</style>\n",
       "<table border=\"1\" class=\"dataframe\">\n",
       "  <thead>\n",
       "    <tr style=\"text-align: right;\">\n",
       "      <th></th>\n",
       "      <th>X1</th>\n",
       "      <th>X2</th>\n",
       "      <th>Y</th>\n",
       "    </tr>\n",
       "  </thead>\n",
       "  <tbody>\n",
       "    <tr>\n",
       "      <th>0</th>\n",
       "      <td>1.242171</td>\n",
       "      <td>-0.769459</td>\n",
       "      <td>-1</td>\n",
       "    </tr>\n",
       "    <tr>\n",
       "      <th>1</th>\n",
       "      <td>2.039551</td>\n",
       "      <td>-0.692068</td>\n",
       "      <td>-1</td>\n",
       "    </tr>\n",
       "    <tr>\n",
       "      <th>2</th>\n",
       "      <td>1.231944</td>\n",
       "      <td>-1.590825</td>\n",
       "      <td>-1</td>\n",
       "    </tr>\n",
       "    <tr>\n",
       "      <th>3</th>\n",
       "      <td>2.817984</td>\n",
       "      <td>5.012654</td>\n",
       "      <td>1</td>\n",
       "    </tr>\n",
       "    <tr>\n",
       "      <th>4</th>\n",
       "      <td>1.556916</td>\n",
       "      <td>1.422135</td>\n",
       "      <td>-1</td>\n",
       "    </tr>\n",
       "    <tr>\n",
       "      <th>5</th>\n",
       "      <td>-0.726752</td>\n",
       "      <td>-1.859946</td>\n",
       "      <td>-1</td>\n",
       "    </tr>\n",
       "    <tr>\n",
       "      <th>6</th>\n",
       "      <td>2.662287</td>\n",
       "      <td>4.377926</td>\n",
       "      <td>1</td>\n",
       "    </tr>\n",
       "    <tr>\n",
       "      <th>7</th>\n",
       "      <td>-2.559159</td>\n",
       "      <td>-4.450248</td>\n",
       "      <td>-1</td>\n",
       "    </tr>\n",
       "    <tr>\n",
       "      <th>8</th>\n",
       "      <td>-1.271513</td>\n",
       "      <td>0.941429</td>\n",
       "      <td>1</td>\n",
       "    </tr>\n",
       "    <tr>\n",
       "      <th>9</th>\n",
       "      <td>-0.696894</td>\n",
       "      <td>-3.568037</td>\n",
       "      <td>-1</td>\n",
       "    </tr>\n",
       "  </tbody>\n",
       "</table>\n",
       "</div>"
      ],
      "text/plain": [
       "         X1        X2  Y\n",
       "0  1.242171 -0.769459 -1\n",
       "1  2.039551 -0.692068 -1\n",
       "2  1.231944 -1.590825 -1\n",
       "3  2.817984  5.012654  1\n",
       "4  1.556916  1.422135 -1\n",
       "5 -0.726752 -1.859946 -1\n",
       "6  2.662287  4.377926  1\n",
       "7 -2.559159 -4.450248 -1\n",
       "8 -1.271513  0.941429  1\n",
       "9 -0.696894 -3.568037 -1"
      ]
     },
     "execution_count": 2,
     "metadata": {},
     "output_type": "execute_result"
    }
   ],
   "source": [
    "from random import *\n",
    "import numpy as np\n",
    "import pandas as pd\n",
    "\n",
    "pd.set_option('display.max_rows', 500)\n",
    "pd.set_option('display.max_columns', 500)\n",
    "\n",
    "n = 200\n",
    "\n",
    "df = Echantillon(n)\n",
    "df.head(10)"
   ]
  },
  {
   "cell_type": "code",
   "execution_count": 3,
   "metadata": {},
   "outputs": [
    {
     "data": {
      "text/plain": [
       "<Figure size 800x800 with 1 Axes>"
      ]
     },
     "metadata": {},
     "output_type": "display_data"
    }
   ],
   "source": [
    "import matplotlib.pyplot as plt\n",
    "import seaborn as sns\n",
    "\n",
    "sns.set(style=\"darkgrid\")\n",
    "plt.figure(figsize=(8,8))\n",
    "\n",
    "#plt.plot([-3, 3], [-3, 3], sns.xkcd_rgb[\"denim blue\"], lw=3);\n",
    "sns.scatterplot(x=\"X1\", y=\"X2\", style = \"Y\", hue=\"Y\", data=df, s =100)\n",
    "plt.show()"
   ]
  },
  {
   "cell_type": "code",
   "execution_count": 4,
   "metadata": {},
   "outputs": [
    {
     "data": {
      "text/plain": [
       "0"
      ]
     },
     "execution_count": 4,
     "metadata": {},
     "output_type": "execute_result"
    }
   ],
   "source": [
    "sum(df[\"Y\"]==0)"
   ]
  },
  {
   "cell_type": "code",
   "execution_count": 5,
   "metadata": {},
   "outputs": [
    {
     "name": "stdout",
     "output_type": "stream",
     "text": [
      "X1    float64\n",
      "X2    float64\n",
      "Y       int64\n",
      "dtype: object\n",
      "\n",
      "Aprés convertion en facteur:\n",
      "\n",
      "X1    float64\n",
      "X2    float64\n",
      "Y      object\n",
      "dtype: object\n"
     ]
    }
   ],
   "source": [
    "print(df.dtypes)\n",
    "df[\"Y\"] = df[\"Y\"].astype(str)\n",
    "print(\"\\nAprés convertion en facteur:\\n\")\n",
    "print(df.dtypes)"
   ]
  },
  {
   "cell_type": "markdown",
   "metadata": {},
   "source": [
    "### 2."
   ]
  },
  {
   "cell_type": "code",
   "execution_count": 6,
   "metadata": {},
   "outputs": [
    {
     "data": {
      "text/plain": [
       "SVC(C=100, cache_size=200, class_weight=None, coef0=0.0,\n",
       "    decision_function_shape='ovr', degree=3, gamma='auto_deprecated',\n",
       "    kernel='linear', max_iter=-1, probability=False, random_state=None,\n",
       "    shrinking=True, tol=0.001, verbose=False)"
      ]
     },
     "execution_count": 6,
     "metadata": {},
     "output_type": "execute_result"
    }
   ],
   "source": [
    "from sklearn.svm import SVC\n",
    "\n",
    "svmlinear = SVC(C=100,kernel='linear')\n",
    "svmlinear.fit(df[[\"X1\",\"X2\"]], df[\"Y\"])"
   ]
  },
  {
   "cell_type": "markdown",
   "metadata": {},
   "source": [
    "### 3."
   ]
  },
  {
   "cell_type": "code",
   "execution_count": null,
   "metadata": {},
   "outputs": [],
   "source": [
    "            "
   ]
  },
  {
   "cell_type": "markdown",
   "metadata": {},
   "source": [
    "### 4."
   ]
  },
  {
   "cell_type": "code",
   "execution_count": 7,
   "metadata": {},
   "outputs": [
    {
     "name": "stdout",
     "output_type": "stream",
     "text": [
      "nombre de vecteurs supports:  5 \n",
      "\n",
      "[[-1.62086689 -1.68315505]\n",
      " [-2.53567424 -2.66839153]\n",
      " [-2.11562916 -2.05100006]\n",
      " [-2.25543609 -2.13174498]\n",
      " [ 1.97541487  2.2033435 ]]\n"
     ]
    }
   ],
   "source": [
    "xi = svmlinear.support_vectors_ # coordonnées des vecteur supports\n",
    "print(\"nombre de vecteurs supports: \", xi.shape[0],\"\\n\")\n",
    "print(xi)"
   ]
  },
  {
   "cell_type": "code",
   "execution_count": 8,
   "metadata": {},
   "outputs": [
    {
     "name": "stdout",
     "output_type": "stream",
     "text": [
      "[148 162 109 175 178]\n"
     ]
    }
   ],
   "source": [
    "print(svmlinear.support_) # indice des vecteur supports"
   ]
  },
  {
   "cell_type": "raw",
   "metadata": {},
   "source": [
    "SVC intègre une spécificité intéressante, l’objet fournit automatiquement les coefficients de\n",
    "la droite de séparation lorsque le noyau est linéaire:"
   ]
  },
  {
   "cell_type": "code",
   "execution_count": 9,
   "metadata": {},
   "outputs": [
    {
     "data": {
      "text/plain": [
       "array([[-8.2181299 ,  8.02029816]])"
      ]
     },
     "execution_count": 9,
     "metadata": {},
     "output_type": "execute_result"
    }
   ],
   "source": [
    "svmlinear.coef_"
   ]
  },
  {
   "cell_type": "code",
   "execution_count": 10,
   "metadata": {},
   "outputs": [
    {
     "name": "stdout",
     "output_type": "stream",
     "text": [
      "[[-8.2181299   8.02029816]]\n"
     ]
    }
   ],
   "source": [
    "#coefficients beta1 et beta2\n",
    "print(svmlinear.coef_)"
   ]
  },
  {
   "cell_type": "code",
   "execution_count": 11,
   "metadata": {},
   "outputs": [
    {
     "name": "stdout",
     "output_type": "stream",
     "text": [
      "-0.43754786642454846\n"
     ]
    }
   ],
   "source": [
    "beta0 = svmlinear.intercept_[0] # l'intercept beta0\n",
    "print(beta0)"
   ]
  },
  {
   "cell_type": "raw",
   "metadata": {},
   "source": [
    "L'équation de l'hyperplan séparateur en fonction de x est:\n",
    "# beta1*x1 + beta2*x2 + beta0 = 0"
   ]
  },
  {
   "cell_type": "markdown",
   "metadata": {},
   "source": [
    "### 5.\n"
   ]
  },
  {
   "cell_type": "raw",
   "metadata": {},
   "source": [
    "Ici, cost = C. Il règle le taux de souplesse.\n",
    "Plus \"cost\" est grand, moins le modéle \"tolère\" les erreurs de classification. \"cost\" doit être trés grand pour avoir le SVM non flexible."
   ]
  },
  {
   "cell_type": "markdown",
   "metadata": {},
   "source": [
    "### 6. "
   ]
  },
  {
   "cell_type": "code",
   "execution_count": 12,
   "metadata": {},
   "outputs": [
    {
     "name": "stdout",
     "output_type": "stream",
     "text": [
      "matrice de confusion\n"
     ]
    },
    {
     "data": {
      "text/plain": [
       "array([[ 92,   0],\n",
       "       [  0, 108]])"
      ]
     },
     "execution_count": 12,
     "metadata": {},
     "output_type": "execute_result"
    }
   ],
   "source": [
    "from sklearn.metrics import confusion_matrix\n",
    "\n",
    "prediction=svmlinear.predict(df[[\"X1\",\"X2\"]])\n",
    "\n",
    "print(\"matrice de confusion\")\n",
    "M1 = confusion_matrix(df[\"Y\"], prediction)\n",
    "M1"
   ]
  },
  {
   "cell_type": "code",
   "execution_count": 13,
   "metadata": {},
   "outputs": [
    {
     "name": "stdout",
     "output_type": "stream",
     "text": [
      "Précision de classification d'entraînement: 1.0\n"
     ]
    }
   ],
   "source": [
    "print(\"Précision de classification d'entraînement:\", M1.trace()/M1.sum())"
   ]
  },
  {
   "cell_type": "markdown",
   "metadata": {},
   "source": [
    "### 7."
   ]
  },
  {
   "cell_type": "code",
   "execution_count": 14,
   "metadata": {},
   "outputs": [
    {
     "name": "stdout",
     "output_type": "stream",
     "text": [
      "matrice de confusion\n"
     ]
    },
    {
     "data": {
      "text/plain": [
       "array([[50,  0],\n",
       "       [ 1, 49]])"
      ]
     },
     "execution_count": 14,
     "metadata": {},
     "output_type": "execute_result"
    }
   ],
   "source": [
    "df_test = Echantillon(100)\n",
    "df_test[\"Y\"] = df_test[\"Y\"].astype(str)\n",
    "\n",
    "prediction_test = svmlinear.predict(df_test[[\"X1\",\"X2\"]])\n",
    "\n",
    "print(\"matrice de confusion\")\n",
    "M_test = confusion_matrix(df_test[\"Y\"], prediction_test)\n",
    "M_test"
   ]
  },
  {
   "cell_type": "code",
   "execution_count": 15,
   "metadata": {},
   "outputs": [
    {
     "name": "stdout",
     "output_type": "stream",
     "text": [
      "Précision de classification de test: 0.99\n"
     ]
    }
   ],
   "source": [
    "print(\"Précision de classification de test:\", M_test.trace()/M_test.sum())"
   ]
  },
  {
   "cell_type": "code",
   "execution_count": 16,
   "metadata": {},
   "outputs": [
    {
     "data": {
      "image/png": "[encoded data removed]",
      "text/plain": [
       "<Figure size 576x576 with 1 Axes>"
      ]
     },
     "metadata": {
      "needs_background": "light"
     },
     "output_type": "display_data"
    }
   ],
   "source": [
    "# construire la courbe ROC\n",
    "from sklearn import metrics\n",
    "fpr, tpr, thr = metrics.roc_curve(df_test[\"Y\"].astype(int), prediction_test.astype(int))\n",
    "\n",
    "# calculer l'aire sous la courbe ROC\n",
    "auc = metrics.auc(fpr, tpr)\n",
    "\n",
    "# créer une figure\n",
    "from matplotlib import pyplot as plt\n",
    "fig = plt.figure(figsize=(8, 8))\n",
    "\n",
    "# afficher la courbe ROC\n",
    "plt.plot(fpr, tpr, '-', lw=2, label='AUC=%.2f' % auc)\n",
    "\n",
    "# donner un titre aux axes et au graphique\n",
    "plt.xlabel('False Positive Rate', fontsize=16)\n",
    "plt.ylabel('True Positive Rate', fontsize=16)\n",
    "plt.title('SVM Courbe ROC', fontsize=16)\n",
    "\n",
    "# afficher la légende\n",
    "plt.legend(loc=\"lower right\", fontsize=14)\n",
    "\n",
    "# afficher l'image\n",
    "plt.show()"
   ]
  },
  {
   "cell_type": "markdown",
   "metadata": {},
   "source": [
    "### 8."
   ]
  },
  {
   "cell_type": "code",
   "execution_count": 17,
   "metadata": {},
   "outputs": [
    {
     "data": {
      "text/plain": [
       "SVC(C=1.0, cache_size=200, class_weight=None, coef0=0.0,\n",
       "    decision_function_shape='ovr', degree=3, gamma='auto_deprecated',\n",
       "    kernel='rbf', max_iter=-1, probability=False, random_state=None,\n",
       "    shrinking=True, tol=0.001, verbose=False)"
      ]
     },
     "execution_count": 17,
     "metadata": {},
     "output_type": "execute_result"
    }
   ],
   "source": [
    "svm_defaut = SVC()\n",
    "svm_defaut # le noyau par default sur sklearn est 'rbf'\n",
    "# RBF :  Radial Basis Function, désigne souvent le noyau gaussien."
   ]
  },
  {
   "cell_type": "code",
   "execution_count": 18,
   "metadata": {},
   "outputs": [
    {
     "name": "stdout",
     "output_type": "stream",
     "text": [
      "matrice de confusion\n"
     ]
    },
    {
     "name": "stderr",
     "output_type": "stream",
     "text": [
      "/home/malick/.local/lib/python3.6/site-packages/sklearn/svm/base.py:193: FutureWarning: The default value of gamma will change from 'auto' to 'scale' in version 0.22 to account better for unscaled features. Set gamma explicitly to 'auto' or 'scale' to avoid this warning.\n",
      "  \"avoid this warning.\", FutureWarning)\n"
     ]
    },
    {
     "data": {
      "text/plain": [
       "array([[ 92,   0],\n",
       "       [  3, 105]])"
      ]
     },
     "execution_count": 18,
     "metadata": {},
     "output_type": "execute_result"
    }
   ],
   "source": [
    "svm_defaut.fit(df[[\"X1\",\"X2\"]], df[\"Y\"])\n",
    "prediction=svm_defaut.predict(df[[\"X1\",\"X2\"]])\n",
    "\n",
    "print(\"matrice de confusion\")\n",
    "M1 = confusion_matrix(df[\"Y\"], prediction)\n",
    "M1"
   ]
  },
  {
   "cell_type": "markdown",
   "metadata": {},
   "source": [
    "## Exemple 2"
   ]
  },
  {
   "cell_type": "markdown",
   "metadata": {},
   "source": [
    "### 1."
   ]
  },
  {
   "cell_type": "code",
   "execution_count": 19,
   "metadata": {},
   "outputs": [],
   "source": [
    "from random import *\n",
    "import numpy as np\n",
    "import pandas as pd\n",
    "\n",
    "n = 100\n",
    "p = 2\n",
    "\n",
    "X = np.random.randn(n*p)\n",
    "X = X.reshape(n,p)"
   ]
  },
  {
   "cell_type": "markdown",
   "metadata": {},
   "source": [
    "### 2."
   ]
  },
  {
   "cell_type": "code",
   "execution_count": 20,
   "metadata": {},
   "outputs": [],
   "source": [
    "y = np.ones(n)\n",
    "df = pd.DataFrame({'X1': X[:,0],'X2': X[:,1],'Y': y})"
   ]
  },
  {
   "cell_type": "code",
   "execution_count": 21,
   "metadata": {},
   "outputs": [
    {
     "data": {
      "text/plain": [
       "X1    float64\n",
       "X2    float64\n",
       "Y      object\n",
       "dtype: object"
      ]
     },
     "execution_count": 21,
     "metadata": {},
     "output_type": "execute_result"
    }
   ],
   "source": [
    "Norme = df[['X1','X2']].apply(lambda x: sum(x**2), axis=1)\n",
    "df[Norme > p] = -1\n",
    "df[\"Y\"] = df[\"Y\"].astype(str)\n",
    "df.dtypes"
   ]
  },
  {
   "cell_type": "markdown",
   "metadata": {},
   "source": [
    "### 3."
   ]
  },
  {
   "cell_type": "markdown",
   "metadata": {},
   "source": [
    "##### a."
   ]
  },
  {
   "cell_type": "code",
   "execution_count": 22,
   "metadata": {},
   "outputs": [
    {
     "data": {
      "text/plain": [
       "SVC(C=1, cache_size=200, class_weight=None, coef0=0.0,\n",
       "    decision_function_shape='ovr', degree=3, gamma='auto', kernel='rbf',\n",
       "    max_iter=-1, probability=False, random_state=None, shrinking=True,\n",
       "    tol=0.001, verbose=False)"
      ]
     },
     "execution_count": 22,
     "metadata": {},
     "output_type": "execute_result"
    }
   ],
   "source": [
    "from sklearn.svm import SVC\n",
    "\n",
    "svmPoly = SVC(C=1,degree=3, gamma='auto',coef0=0.0, kernel='poly')\n",
    "svmPoly.fit(df[[\"X1\",\"X2\"]], df[\"Y\"])\n",
    "\n",
    "svmRBF = SVC(C=1, gamma='auto', kernel='rbf')\n",
    "svmRBF.fit(df[[\"X1\",\"X2\"]], df[\"Y\"])"
   ]
  },
  {
   "cell_type": "markdown",
   "metadata": {},
   "source": [
    "##### b."
   ]
  },
  {
   "cell_type": "code",
   "execution_count": 23,
   "metadata": {},
   "outputs": [
    {
     "name": "stdout",
     "output_type": "stream",
     "text": [
      "Fitting 5 folds for each of 400 candidates, totalling 2000 fits\n"
     ]
    },
    {
     "name": "stderr",
     "output_type": "stream",
     "text": [
      "[Parallel(n_jobs=-1)]: Using backend LokyBackend with 4 concurrent workers.\n",
      "[Parallel(n_jobs=-1)]: Done   5 tasks      | elapsed:    2.9s\n",
      "[Parallel(n_jobs=-1)]: Done  10 tasks      | elapsed:    3.0s\n",
      "[Parallel(n_jobs=-1)]: Done  17 tasks      | elapsed:    3.0s\n",
      "[Parallel(n_jobs=-1)]: Done  24 tasks      | elapsed:    3.1s\n",
      "[Parallel(n_jobs=-1)]: Batch computation too fast (0.1789s.) Setting batch_size=2.\n",
      "[Parallel(n_jobs=-1)]: Done  33 tasks      | elapsed:    3.2s\n",
      "[Parallel(n_jobs=-1)]: Batch computation too fast (0.1105s.) Setting batch_size=6.\n",
      "[Parallel(n_jobs=-1)]: Done  49 tasks      | elapsed:    3.3s\n",
      "[Parallel(n_jobs=-1)]: Batch computation too fast (0.1812s.) Setting batch_size=12.\n",
      "[Parallel(n_jobs=-1)]: Done 123 tasks      | elapsed:    3.8s\n",
      "[Parallel(n_jobs=-1)]: Done 255 tasks      | elapsed:    4.6s\n",
      "[Parallel(n_jobs=-1)]: Done 411 tasks      | elapsed:    5.3s\n",
      "[Parallel(n_jobs=-1)]: Done 567 tasks      | elapsed:    6.2s\n",
      "[Parallel(n_jobs=-1)]: Done 747 tasks      | elapsed:    7.2s\n",
      "[Parallel(n_jobs=-1)]: Done 927 tasks      | elapsed:    8.1s\n",
      "[Parallel(n_jobs=-1)]: Done 1131 tasks      | elapsed:    9.1s\n",
      "[Parallel(n_jobs=-1)]: Done 1335 tasks      | elapsed:   10.1s\n",
      "[Parallel(n_jobs=-1)]: Done 1563 tasks      | elapsed:   11.3s\n",
      "[Parallel(n_jobs=-1)]: Done 1791 tasks      | elapsed:   12.5s\n"
     ]
    },
    {
     "name": "stdout",
     "output_type": "stream",
     "text": [
      "Précision Train:  0.98\n",
      "Précision Test:  0.0\n",
      "\n",
      "\n",
      "{'C': 0.1, 'gamma': 0.4}\n"
     ]
    },
    {
     "name": "stderr",
     "output_type": "stream",
     "text": [
      "[Parallel(n_jobs=-1)]: Done 2000 out of 2000 | elapsed:   13.7s finished\n",
      "/home/malick/.local/lib/python3.6/site-packages/sklearn/model_selection/_search.py:813: DeprecationWarning: The default of the `iid` parameter will change from True to False in version 0.22 and will be removed in 0.24. This will change numeric results when test-set sizes are unequal.\n",
      "  DeprecationWarning)\n"
     ]
    }
   ],
   "source": [
    "from sklearn.model_selection import GridSearchCV\n",
    "\n",
    "#on crée un nouveau modèle SVM à noyau Gaussien\n",
    "svmRBF = SVC(kernel='rbf')\n",
    "\n",
    "#on crée un dictionnaire de toutes les valeurs que nous voulons tester\n",
    "param_grid = {\"C\": np.arange(0.1, 20), \"gamma\" : np.arange(0,1,0.05)}\n",
    "\n",
    "#on utilise gridsearch pour tester toutes les valeurs\n",
    "svmRBF_gscv = GridSearchCV(svmRBF, param_grid, cv=5, n_jobs=-1, verbose=10)\n",
    "\n",
    "#ajustement du modèle aux données\n",
    "svmRBF_gscv.fit(df[[\"X1\",\"X2\"]], df[\"Y\"])\n",
    "\n",
    "print(\"Précision Train: \",svmRBF_gscv.score(df[[\"X1\",\"X2\"]], df[\"Y\"]))\n",
    "print(\"Précision Test: \",svmRBF_gscv.score(df_test[[\"X1\",\"X2\"]], df_test[\"Y\"]))\n",
    "print(\"\\n\")\n",
    "print(svmRBF_gscv.best_params_)"
   ]
  },
  {
   "cell_type": "code",
   "execution_count": 24,
   "metadata": {},
   "outputs": [
    {
     "data": {
      "text/plain": [
       "{'C': 0.1, 'gamma': 0.4}"
      ]
     },
     "execution_count": 24,
     "metadata": {},
     "output_type": "execute_result"
    }
   ],
   "source": [
    "#les paramétres du modéle le plus performant:\n",
    "svmRBF_gscv.best_params_"
   ]
  },
  {
   "cell_type": "code",
   "execution_count": 25,
   "metadata": {},
   "outputs": [
    {
     "data": {
      "text/plain": [
       "1.0"
      ]
     },
     "execution_count": 25,
     "metadata": {},
     "output_type": "execute_result"
    }
   ],
   "source": [
    "#le score moyen avec les paramétres du modéle le plus performant\n",
    "svmRBF_gscv.best_score_"
   ]
  },
  {
   "cell_type": "code",
   "execution_count": 26,
   "metadata": {},
   "outputs": [],
   "source": [
    "X = np.random.randn(n*p)\n",
    "X = X.reshape(n,p)\n",
    "\n",
    "y = np.ones(n)\n",
    "df_test = pd.DataFrame({'X1': X[:,0],'X2': X[:,1],'Y': y})\n",
    "\n",
    "Norme = df_test[['X1','X2']].apply(lambda x: sum(x**2), axis=1)\n",
    "df_test[Norme > p] = -1\n",
    "df_test[\"Y\"] = df[\"Y\"]"
   ]
  },
  {
   "cell_type": "code",
   "execution_count": 27,
   "metadata": {},
   "outputs": [
    {
     "name": "stdout",
     "output_type": "stream",
     "text": [
      "matrice de confusion\n"
     ]
    },
    {
     "data": {
      "text/plain": [
       "array([[ 7, 21],\n",
       "       [31, 41]])"
      ]
     },
     "execution_count": 27,
     "metadata": {},
     "output_type": "execute_result"
    }
   ],
   "source": [
    "from sklearn.metrics import confusion_matrix\n",
    "\n",
    "prediction_test = svmRBF_gscv.predict(df_test[[\"X1\",\"X2\"]])\n",
    "\n",
    "print(\"matrice de confusion\")\n",
    "M_smvRBF = confusion_matrix(df_test[\"Y\"], prediction_test)\n",
    "M_smvRBF"
   ]
  },
  {
   "cell_type": "code",
   "execution_count": 28,
   "metadata": {},
   "outputs": [
    {
     "name": "stdout",
     "output_type": "stream",
     "text": [
      "Précision de classification d'entraînement: 0.48\n"
     ]
    }
   ],
   "source": [
    "print(\"Précision de classification d'entraînement:\", M_smvRBF.trace()/M_smvRBF.sum())"
   ]
  },
  {
   "cell_type": "code",
   "execution_count": 29,
   "metadata": {},
   "outputs": [
    {
     "name": "stdout",
     "output_type": "stream",
     "text": [
      "Fitting 5 folds for each of 1600 candidates, totalling 8000 fits\n"
     ]
    },
    {
     "name": "stderr",
     "output_type": "stream",
     "text": [
      "[Parallel(n_jobs=-1)]: Using backend LokyBackend with 4 concurrent workers.\n",
      "[Parallel(n_jobs=-1)]: Batch computation too fast (0.0374s.) Setting batch_size=10.\n",
      "[Parallel(n_jobs=-1)]: Done   5 tasks      | elapsed:    0.2s\n",
      "[Parallel(n_jobs=-1)]: Done  28 tasks      | elapsed:    0.4s\n",
      "[Parallel(n_jobs=-1)]: Done  98 tasks      | elapsed:    0.8s\n",
      "[Parallel(n_jobs=-1)]: Done 168 tasks      | elapsed:    1.2s\n",
      "[Parallel(n_jobs=-1)]: Done 258 tasks      | elapsed:    1.7s\n",
      "[Parallel(n_jobs=-1)]: Done 348 tasks      | elapsed:    2.2s\n",
      "[Parallel(n_jobs=-1)]: Done 458 tasks      | elapsed:    2.8s\n",
      "[Parallel(n_jobs=-1)]: Done 568 tasks      | elapsed:    3.4s\n",
      "[Parallel(n_jobs=-1)]: Done 698 tasks      | elapsed:    4.1s\n",
      "[Parallel(n_jobs=-1)]: Done 828 tasks      | elapsed:    4.7s\n",
      "[Parallel(n_jobs=-1)]: Done 978 tasks      | elapsed:    5.6s\n",
      "[Parallel(n_jobs=-1)]: Done 1128 tasks      | elapsed:    6.4s\n",
      "[Parallel(n_jobs=-1)]: Done 1298 tasks      | elapsed:    7.2s\n",
      "[Parallel(n_jobs=-1)]: Done 1468 tasks      | elapsed:    8.1s\n",
      "[Parallel(n_jobs=-1)]: Done 1658 tasks      | elapsed:    9.1s\n",
      "[Parallel(n_jobs=-1)]: Done 1848 tasks      | elapsed:   10.1s\n",
      "[Parallel(n_jobs=-1)]: Done 2058 tasks      | elapsed:   11.1s\n",
      "[Parallel(n_jobs=-1)]: Done 2268 tasks      | elapsed:   12.3s\n",
      "[Parallel(n_jobs=-1)]: Done 2498 tasks      | elapsed:   13.5s\n",
      "[Parallel(n_jobs=-1)]: Done 2728 tasks      | elapsed:   14.7s\n",
      "[Parallel(n_jobs=-1)]: Done 2978 tasks      | elapsed:   16.0s\n",
      "[Parallel(n_jobs=-1)]: Done 3228 tasks      | elapsed:   17.3s\n",
      "[Parallel(n_jobs=-1)]: Done 3498 tasks      | elapsed:   18.7s\n",
      "[Parallel(n_jobs=-1)]: Done 3768 tasks      | elapsed:   20.1s\n",
      "[Parallel(n_jobs=-1)]: Done 4058 tasks      | elapsed:   21.6s\n",
      "[Parallel(n_jobs=-1)]: Done 4348 tasks      | elapsed:   23.1s\n",
      "[Parallel(n_jobs=-1)]: Done 4658 tasks      | elapsed:   24.8s\n",
      "[Parallel(n_jobs=-1)]: Done 4968 tasks      | elapsed:   26.3s\n",
      "[Parallel(n_jobs=-1)]: Done 5298 tasks      | elapsed:   28.1s\n",
      "[Parallel(n_jobs=-1)]: Done 5628 tasks      | elapsed:   30.2s\n",
      "[Parallel(n_jobs=-1)]: Done 5978 tasks      | elapsed:   32.4s\n",
      "[Parallel(n_jobs=-1)]: Done 6328 tasks      | elapsed:   34.5s\n",
      "[Parallel(n_jobs=-1)]: Done 6698 tasks      | elapsed:   36.4s\n",
      "[Parallel(n_jobs=-1)]: Done 7068 tasks      | elapsed:   38.4s\n",
      "[Parallel(n_jobs=-1)]: Done 7458 tasks      | elapsed:   40.7s\n",
      "[Parallel(n_jobs=-1)]: Done 7848 tasks      | elapsed:   42.8s\n"
     ]
    },
    {
     "name": "stdout",
     "output_type": "stream",
     "text": [
      "Précision Train:  0.99\n",
      "Précision Test:  0.48\n",
      "\n",
      "\n",
      "{'C': 0.1, 'coef0': 0.0, 'degree': 3, 'gamma': 0.45}\n"
     ]
    },
    {
     "name": "stderr",
     "output_type": "stream",
     "text": [
      "[Parallel(n_jobs=-1)]: Done 8000 out of 8000 | elapsed:   43.5s finished\n",
      "/home/malick/.local/lib/python3.6/site-packages/sklearn/model_selection/_search.py:813: DeprecationWarning: The default of the `iid` parameter will change from True to False in version 0.22 and will be removed in 0.24. This will change numeric results when test-set sizes are unequal.\n",
      "  DeprecationWarning)\n"
     ]
    }
   ],
   "source": [
    "#on crée un nouveau modèle SVM à noyau Polynomiale\n",
    "svmPOLY = SVC(kernel='poly')\n",
    "\n",
    "#on crée un dictionnaire de toutes les valeurs que nous voulons tester\n",
    "param_grid = {\"C\": np.arange(0.1, 20), \"gamma\" : np.arange(0,1,0.05), \"degree\": [2,3], \"coef0\": np.arange(0,1,0.5)}\n",
    "\n",
    "#on utilise gridsearch pour tester toutes les valeurs\n",
    "svmPOLY_gscv = GridSearchCV(svmPOLY, param_grid, cv=5, n_jobs=-1, verbose=10)\n",
    "\n",
    "#ajustement du modèle aux données\n",
    "svmPOLY_gscv.fit(df[[\"X1\",\"X2\"]], df[\"Y\"])\n",
    "\n",
    "print(\"Précision Train: \",svmPOLY_gscv.score(df[[\"X1\",\"X2\"]], df[\"Y\"]))\n",
    "print(\"Précision Test: \",svmPOLY_gscv.score(df_test[[\"X1\",\"X2\"]], df_test[\"Y\"]))\n",
    "print(\"\\n\")\n",
    "print(svmPOLY_gscv.best_params_)"
   ]
  },
  {
   "cell_type": "code",
   "execution_count": 30,
   "metadata": {},
   "outputs": [
    {
     "name": "stdout",
     "output_type": "stream",
     "text": [
      "matrice de confusion\n"
     ]
    },
    {
     "data": {
      "text/plain": [
       "array([[ 7, 21],\n",
       "       [31, 41]])"
      ]
     },
     "execution_count": 30,
     "metadata": {},
     "output_type": "execute_result"
    }
   ],
   "source": [
    "prediction_test = svmPOLY_gscv.predict(df_test[[\"X1\",\"X2\"]])\n",
    "\n",
    "print(\"matrice de confusion\")\n",
    "M_smvPOLY = confusion_matrix(df_test[\"Y\"], prediction_test)\n",
    "M_smvPOLY"
   ]
  },
  {
   "cell_type": "code",
   "execution_count": 31,
   "metadata": {},
   "outputs": [
    {
     "name": "stdout",
     "output_type": "stream",
     "text": [
      "Précision de classification d'entraînement: 0.48\n"
     ]
    }
   ],
   "source": [
    "print(\"Précision de classification d'entraînement:\", M_smvPOLY.trace()/M_smvPOLY.sum())"
   ]
  },
  {
   "cell_type": "markdown",
   "metadata": {},
   "source": [
    "# Exercice 2"
   ]
  },
  {
   "cell_type": "markdown",
   "metadata": {},
   "source": [
    "### 1. "
   ]
  },
  {
   "cell_type": "code",
   "execution_count": null,
   "metadata": {},
   "outputs": [],
   "source": [
    "path_Home = \"/home/malick/Bureau/Data/Statistique_en_grande_dimension/Donnees_knn\"\n",
    "path = \"/users/mmath/wade/Bureau/Data/Statistique_en_grande_dimension/Donnees_knn\"\n",
    "\n",
    "df_train = pd.read_csv(path_Home + \"/synth_train.txt\",  sep='\\t')\n",
    "df_test = pd.read_csv(path_Home + \"/synth_test.txt\",  sep='\\t')"
   ]
  },
  {
   "cell_type": "code",
   "execution_count": null,
   "metadata": {},
   "outputs": [],
   "source": [
    "df_train.head()"
   ]
  },
  {
   "cell_type": "code",
   "execution_count": null,
   "metadata": {},
   "outputs": [],
   "source": [
    "import matplotlib.pyplot as plt\n",
    "import seaborn as sns\n",
    "\n",
    "sns.set(style=\"darkgrid\")\n",
    "plt.figure(figsize=(10,8))\n",
    "sns.lmplot(data=df_train, x='x1', y='x2', hue='y', markers=['o', 'o'], fit_reg=False)"
   ]
  },
  {
   "cell_type": "markdown",
   "metadata": {},
   "source": [
    "### 2. "
   ]
  },
  {
   "cell_type": "raw",
   "metadata": {},
   "source": [
    "Reproduire les questions 5, 6, 7 et 9 de l’exercice précédent avec k = 30."
   ]
  },
  {
   "cell_type": "code",
   "execution_count": null,
   "metadata": {},
   "outputs": [],
   "source": [
    "k = 30\n",
    "\n",
    "Xtrain,Ytrain = df_train[[\"x1\",\"x2\"]], df_train[\"y\"]\n",
    "Xtest,Ytest = df_test[[\"x1\",\"x2\"]], df_test[\"y\"]"
   ]
  },
  {
   "cell_type": "markdown",
   "metadata": {},
   "source": [
    "##### 2.5 "
   ]
  },
  {
   "cell_type": "code",
   "execution_count": null,
   "metadata": {},
   "outputs": [],
   "source": [
    "knn = KNeighborsClassifier(n_neighbors=k, weights = p)\n",
    "knn.fit(Xtrain, Ytrain)\n",
    "k30 = knn.predict(Xtest)\n",
    "\n",
    "#pd.DataFrame({\"knn[K=30]\": k30})"
   ]
  },
  {
   "cell_type": "markdown",
   "metadata": {},
   "source": [
    "##### 2.6"
   ]
  },
  {
   "cell_type": "code",
   "execution_count": null,
   "metadata": {},
   "outputs": [],
   "source": [
    "print(\"matrice de confusion avec k=30\")\n",
    "M30 = confusion_matrix(Ytest, k30)\n",
    "M30"
   ]
  },
  {
   "cell_type": "markdown",
   "metadata": {},
   "source": [
    "##### 2.7"
   ]
  },
  {
   "cell_type": "code",
   "execution_count": null,
   "metadata": {},
   "outputs": [],
   "source": [
    "print(\"Précision de classification avec k=30:\", M30.trace()/M30.sum())\n"
   ]
  },
  {
   "cell_type": "markdown",
   "metadata": {},
   "source": [
    "##### 2.9"
   ]
  },
  {
   "cell_type": "markdown",
   "metadata": {},
   "source": [
    "###### a. validation croisée de type Leave-One-Out"
   ]
  },
  {
   "cell_type": "code",
   "execution_count": null,
   "metadata": {},
   "outputs": [],
   "source": [
    "#on regroupe les données pour la validation croisée\n",
    "df = pd.concat([df_train,df_test], ignore_index=True)\n",
    "X, Y = df[[\"x1\",\"x2\"]], df[\"y\"]\n",
    "\n",
    "loo = LeaveOneOut()\n",
    "knn_cv = KNeighborsClassifier(n_neighbors=k, weights = p)\n",
    "cv_scores = cross_val_score(knn_cv, X, Y, cv=loo)\n",
    "\n",
    "print(cv_scores)\n",
    "print(\"moyenne des scores:\", np.mean(cv_scores))"
   ]
  },
  {
   "cell_type": "markdown",
   "metadata": {},
   "source": [
    "##### b. programmant d'une validation croisée  avec 5-fold"
   ]
  },
  {
   "cell_type": "code",
   "execution_count": null,
   "metadata": {},
   "outputs": [],
   "source": [
    "cv = 5\n",
    "max_Voisins = 50\n",
    "\n",
    "Voisins = np.arange(1,max_Voisins)\n",
    "\n",
    "I=np.arange(df.shape[0])\n",
    "taillefold = int(df.shape[0]/cv)\n",
    "\n",
    "Cross_V = {}\n",
    "\n",
    "\n",
    "for k in Voisins:  \n",
    "    Precision = []\n",
    "\n",
    "    for i in range(cv):\n",
    "        \n",
    "        Iv = I[i*taillefold: (i+1)*taillefold]\n",
    "        \n",
    "        Xtr=X.drop(Iv, axis=0)\n",
    "        Ytr=Y.drop(Iv, axis=0)\n",
    "\n",
    "        Xte=X.iloc[Iv]\n",
    "        Yte=Y.iloc[Iv]\n",
    "    \n",
    "        knn = KNeighborsClassifier(n_neighbors=k, weights = p)\n",
    "        knn.fit(Xtr, Ytr)\n",
    "        M = confusion_matrix(Yte, knn.predict(Xte))\n",
    "        Precision.append(M.trace()/M.sum())\n",
    "\n",
    "    Cross_V [k] = round((np.array(Precision)).mean(), 4) "
   ]
  },
  {
   "cell_type": "code",
   "execution_count": null,
   "metadata": {},
   "outputs": [],
   "source": [
    "print(\"k:\" ,max(zip(Cross_V.values(), Cross_V.keys()))[1])\n",
    "print(\"précision:\" ,max(zip(Cross_V.values(), Cross_V.keys()))[0])"
   ]
  },
  {
   "cell_type": "code",
   "execution_count": null,
   "metadata": {
    "scrolled": true
   },
   "outputs": [],
   "source": [
    "df_CV = pd.DataFrame({'Voisins'   : list(Cross_V.keys()),\n",
    "                      'Précision' : list(Cross_V.values())})\n",
    "sns.set(style=\"darkgrid\")\n",
    "plt.figure(figsize=(10,8))\n",
    "sns.lineplot(x=\"Voisins\", y=\"Précision\", data=df_CV)"
   ]
  },
  {
   "cell_type": "code",
   "execution_count": null,
   "metadata": {},
   "outputs": [],
   "source": [
    "from sklearn.model_selection import GridSearchCV\n",
    "\n",
    "#on crée un nouveau modèle knn2\n",
    "knn2 = KNeighborsClassifier()\n",
    "\n",
    "#on crée un dictionnaire de toutes les valeurs que nous voulons tester avec n_neighbors\n",
    "param_grid = {\"n_neighbors\": np.arange(1, max_Voisins), \"weights\" : [\"uniform\", \"distance\"]}\n",
    "\n",
    "#on utilise gridsearch pour tester toutes les valeurs de n_neighbors\n",
    "knn_gscv = GridSearchCV(knn2, param_grid, cv=5)\n",
    "\n",
    "#ajustement du modèle aux données\n",
    "knn_gscv.fit(X, Y)"
   ]
  },
  {
   "cell_type": "code",
   "execution_count": null,
   "metadata": {},
   "outputs": [],
   "source": [
    "#la valeur de n_neighbors la plus performante:\n",
    "knn_gscv.best_params_"
   ]
  },
  {
   "cell_type": "code",
   "execution_count": null,
   "metadata": {},
   "outputs": [],
   "source": [
    "#le score moyen pour la valeur la plus performante de n_neighbors\n",
    "knn_gscv.best_score_"
   ]
  },
  {
   "cell_type": "markdown",
   "metadata": {},
   "source": [
    "#### 3."
   ]
  },
  {
   "cell_type": "raw",
   "metadata": {},
   "source": [
    "Représentez la frontière de décision pour k = 30 puis k = 15, puis k = 1. Dans quels cas peut-on parler de sur ou sous-apprentissage ?\n",
    "\n",
    "Pour fabriquer ce graphe, calculez la prédiction sur une grille de points adaptée aux données, puis représentez la prédiction des points de cette grille en leur attribuant une couleur. "
   ]
  },
  {
   "cell_type": "code",
   "execution_count": null,
   "metadata": {},
   "outputs": [],
   "source": [
    "# from matplotlib.colors import ListedColormap\n",
    "\n",
    "# cmapColor = ListedColormap(['r', 'b'])\n",
    "\n",
    "# # Method to create a mesh of points\n",
    "# def makeMeshgrid(x, y, h=0.02):\n",
    "#     x_min, x_max = x.min() - 1, x.max() + 1\n",
    "#     y_min, y_max = y.min() - 1, y.max() + 1\n",
    "#     # Meshgrid ndarrays\n",
    "#     xx, yy = np.meshgrid(np.arange(x_min, x_max, h), np.arange(y_min, y_max, h))\n",
    "    \n",
    "#     return xx, yy\n",
    "\n",
    "# # Defining the data to use in meshgrid calculation. Outputting xx and yy ndarrays\n",
    "# X0, X1 = X['x1'], X['x2']\n",
    "# xx, yy = makeMeshgrid(X0, X1)\n",
    "\n",
    "# for k in [30, 15, 1]:\n",
    "\n",
    "#     # Training the model per the optimum k value\n",
    "#     model = KNeighborsClassifier(n_neighbors=k, weights = p)\n",
    "#     model.fit(X, Y)\n",
    "\n",
    "#     # Calculating the decision boundaries\n",
    "#     Z = model.predict(np.c_[xx.ravel(), yy.ravel()])\n",
    "#     Z = Z.reshape(xx.shape)\n",
    "\n",
    "#     plt.figure(figsize=(9,9))\n",
    "\n",
    "\n",
    "#     # Plotting the decision boundaries\n",
    "#     plt.contourf(xx, yy, Z, alpha = 0.3, cmap=cmapColor)\n",
    "\n",
    "#     # Scatter plot Sepal width/length\n",
    "#     colorSet = {1:'r', 2:'b'}\n",
    "\n",
    "#     plt.scatter(X0, X1,  marker='o', c=[colorSet[i] for i in df['y']], label=None)\n",
    "#     plt.xlabel('x1')\n",
    "#     plt.ylabel('x2')\n",
    "#     plt.xlim(xx.min(), xx.max())\n",
    "#     plt.ylim(yy.min(), yy.max())\n",
    "\n",
    "#     # Title\n",
    "#     plt.title('Frontière de décision pour k=%.f'%(k))\n",
    "\n",
    "#     # Legend\n",
    "#     for name, color in zip([\"1\",\"2\"], ['r', 'b']):\n",
    "#             plt.scatter([], [], alpha=0.8, s=50, c=color, label=name)   \n",
    "\n",
    "#     pst = plt.legend(loc='best', scatterpoints=1, frameon=True, fontsize='10',labelspacing=0.5, title='y')"
   ]
  },
  {
   "cell_type": "raw",
   "metadata": {},
   "source": [
    "Dans le cas k=1, on est clairement en sur-apprentissage et dans le cas k=3, on est en sous-apprentissage."
   ]
  },
  {
   "cell_type": "markdown",
   "metadata": {},
   "source": [
    "# Exercice 3"
   ]
  },
  {
   "cell_type": "markdown",
   "metadata": {},
   "source": [
    "### 1."
   ]
  },
  {
   "cell_type": "code",
   "execution_count": null,
   "metadata": {},
   "outputs": [],
   "source": [
    "from sklearn.model_selection import cross_val_score\n",
    "from sklearn.model_selection import LeaveOneOut\n",
    "from sklearn.metrics import confusion_matrix\n",
    "from sklearn.neighbors import KNeighborsClassifier\n",
    "import matplotlib.pyplot as plt\n",
    "import seaborn as sns\n",
    "import numpy as np\n",
    "import pandas as pd\n",
    "Poids = [\"uniform\", \"distance\"]\n",
    "p = Poids[0]"
   ]
  },
  {
   "cell_type": "code",
   "execution_count": null,
   "metadata": {},
   "outputs": [],
   "source": [
    "path_Home = \"/home/malick/Bureau/Data/Statistique_en_grande_dimension/Donnees_knn\"\n",
    "path = \"/users/mmath/wade/Bureau/Data/Statistique_en_grande_dimension/Donnees_knn\"\n",
    "\n",
    "df_train = pd.read_csv(path_Home + \"/mnist_train.csv\",  sep=',')\n",
    "df_test = pd.read_csv(path_Home + \"/mnist_test.csv\",  sep=',')"
   ]
  },
  {
   "cell_type": "markdown",
   "metadata": {},
   "source": [
    "### 2."
   ]
  },
  {
   "cell_type": "code",
   "execution_count": null,
   "metadata": {},
   "outputs": [],
   "source": [
    "Xtrain = df_train.iloc[:,1:df_train.shape[1]]\n",
    "Ytrain = df_train.iloc[:,0:1]\n",
    "\n",
    "Xtest = df_test.iloc[:,1:df_train.shape[1]]\n",
    "Ytest = df_test.iloc[:,0:1]"
   ]
  },
  {
   "cell_type": "markdown",
   "metadata": {},
   "source": [
    "### 3."
   ]
  },
  {
   "cell_type": "markdown",
   "metadata": {},
   "source": [
    "### 4. "
   ]
  },
  {
   "cell_type": "markdown",
   "metadata": {},
   "source": [
    "### 5."
   ]
  },
  {
   "cell_type": "code",
   "execution_count": null,
   "metadata": {},
   "outputs": [],
   "source": [
    "import time\n",
    "\n",
    "Xtrain_10 = Xtrain.iloc[0:10]\n",
    "Ytrain_10 = Ytrain.iloc[0:10]\n",
    "\n",
    "k = 5\n",
    "\n",
    "t1 = time.time()\n",
    "\n",
    "knn = KNeighborsClassifier(n_neighbors=k, weights = p)\n",
    "knn.fit(Xtrain_10, Ytrain_10)\n",
    "\n",
    "t2 = time.time()\n",
    "t =t2 -t1\n"
   ]
  },
  {
   "cell_type": "raw",
   "metadata": {},
   "source": [
    "On a k=5, n=10, d=784\n",
    "Pour un algorithme avec une complexité de nkd = 39200, on a un temps de calcul de 0.009264230728149414.\n",
    "Un simple produit en croix permet d'estimer le temps de calcul final à 867 secondes ( 15 minutes).  "
   ]
  },
  {
   "cell_type": "markdown",
   "metadata": {},
   "source": [
    "### 6."
   ]
  },
  {
   "cell_type": "code",
   "execution_count": null,
   "metadata": {},
   "outputs": [],
   "source": [
    "Xtrain_12000 = Xtrain.sample(n=12000, random_state=1, replace=False)\n",
    "Xtrain_12000 = Xtrain_12000.reset_index(drop=True)\n",
    "\n",
    "Ytrain_12000 = Ytrain.sample(n=12000, random_state=1, replace=False)\n",
    "Ytrain_12000 = Ytrain_12000.reset_index(drop=True)\n",
    "\n",
    "Xtest_500 = Xtest.sample(n=500, random_state=2, replace=False)\n",
    "Xtest_500 = Xtest_500.reset_index(drop=True)\n",
    "\n",
    "Ytest_500 = Ytest.sample(n=500, random_state=2, replace=False)\n",
    "Ytest_500 = Ytest_500.reset_index(drop=True)"
   ]
  },
  {
   "cell_type": "markdown",
   "metadata": {},
   "source": [
    "### 7."
   ]
  },
  {
   "cell_type": "code",
   "execution_count": null,
   "metadata": {},
   "outputs": [],
   "source": [
    "k = 10\n",
    "\n",
    "knn = KNeighborsClassifier(n_neighbors=k, weights = p)\n",
    "knn.fit(Xtrain_12000, Ytrain_12000)\n",
    "\n",
    "predict = knn.predict(Xtest_500)"
   ]
  },
  {
   "cell_type": "markdown",
   "metadata": {},
   "source": [
    "### 8."
   ]
  },
  {
   "cell_type": "code",
   "execution_count": null,
   "metadata": {},
   "outputs": [],
   "source": [
    "print(\"matrice de confusion\")\n",
    "M = confusion_matrix(Ytest_500, predict)\n",
    "M"
   ]
  },
  {
   "cell_type": "code",
   "execution_count": null,
   "metadata": {},
   "outputs": [],
   "source": [
    "print(\"Précision de classification:\", M.trace()/M.sum())"
   ]
  },
  {
   "cell_type": "markdown",
   "metadata": {},
   "source": [
    "###### 9. Meilleur algorithme avec sklearn.model_selection.GridSearchCV"
   ]
  },
  {
   "cell_type": "code",
   "execution_count": null,
   "metadata": {},
   "outputs": [],
   "source": [
    "from sklearn.model_selection import GridSearchCV\n",
    "\n",
    "# #on crée un nouveau modèle knn\n",
    "# knn = KNeighborsClassifier()\n",
    "\n",
    "# #on crée un dictionnaire de toutes les valeurs que nous voulons tester avec n_neighbors\n",
    "# param_grid = {\"n_neighbors\": np.arange(1, 30), \"weights\" : [\"uniform\", \"distance\"]}\n",
    "\n",
    "# #on utilise gridsearch pour tester toutes les valeurs de n_neighbors\n",
    "# knn_gscv = GridSearchCV(knn, param_grid, cv=5)\n",
    "\n",
    "# #ajustement du modèle aux données\n",
    "# knn_gscv.fit(Xtrain_12000 , Ytrain_12000 )"
   ]
  },
  {
   "cell_type": "code",
   "execution_count": null,
   "metadata": {},
   "outputs": [],
   "source": [
    "#la valeur de n_neighbors la plus performante:\n",
    "# knn_gscv.best_params_"
   ]
  },
  {
   "cell_type": "code",
   "execution_count": null,
   "metadata": {},
   "outputs": [],
   "source": [
    "#le score moyen pour la valeur la plus performante de n_neighbors\n",
    "# knn_gscv.best_score_"
   ]
  },
  {
   "cell_type": "markdown",
   "metadata": {},
   "source": [
    "### Exercice 3 / TD2"
   ]
  },
  {
   "cell_type": "markdown",
   "metadata": {},
   "source": [
    "### 2"
   ]
  },
  {
   "cell_type": "markdown",
   "metadata": {},
   "source": [
    "#### a."
   ]
  },
  {
   "cell_type": "raw",
   "metadata": {},
   "source": [
    "Les variables n’ont pas été normalisées car elles évoluent dans les mêmes ordres de grandeur."
   ]
  },
  {
   "cell_type": "code",
   "execution_count": null,
   "metadata": {},
   "outputs": [],
   "source": [
    "#classe pour l'ACP\n",
    "from sklearn.decomposition import PCA\n",
    "\n",
    "direction = 78\n",
    "\n",
    "#instanciation\n",
    "acp = PCA(n_components=direction)\n",
    "acp.fit(Xtrain_12000)\n",
    "\n",
    "#calculs\n",
    "Xtrain_12000_ACP = acp.transform(Xtrain_12000)\n",
    "Xtest_500_ACP = acp.transform(Xtest_500)"
   ]
  },
  {
   "cell_type": "code",
   "execution_count": null,
   "metadata": {},
   "outputs": [],
   "source": [
    "print(\"proportion total de variance associées aux axes: \",round(sum(acp.explained_variance_ratio_),4))"
   ]
  },
  {
   "cell_type": "code",
   "execution_count": null,
   "metadata": {},
   "outputs": [],
   "source": [
    "df1 = pd.DataFrame(Xtrain_12000_ACP[:,0:2]) # On garde les deux premiéres directions pour la représentation graphique\n",
    "df_train_ACP = pd.concat([df1,Ytrain_12000], axis=1)\n",
    "df_train_ACP.columns = ['X1', 'X2', 'chiffre']\n",
    "\n",
    "df_train_ACP.head(10)"
   ]
  },
  {
   "cell_type": "code",
   "execution_count": null,
   "metadata": {},
   "outputs": [],
   "source": [
    "print(\"proportion total de variance contenues dans les deux premiéres axes principales: \",round(sum(acp.explained_variance_ratio_[0:2]),4))"
   ]
  },
  {
   "cell_type": "code",
   "execution_count": null,
   "metadata": {
    "scrolled": true
   },
   "outputs": [],
   "source": [
    "sns.set(style=\"darkgrid\")\n",
    "plt.figure(figsize=(15,15))\n",
    "\n",
    "filled_markers = ('o', 'v', '^', '<', '>', '8', 's', 'p', '*', 'h', 'H', 'D', 'd', 'P', 'X')\n",
    "\n",
    "sns.scatterplot(x=\"X1\", y=\"X2\", hue=\"chiffre\", style=\"chiffre\", palette=\"Set2\", markers=filled_markers, data=df_train_ACP, s =50)"
   ]
  },
  {
   "cell_type": "raw",
   "metadata": {},
   "source": [
    "On constate que les deux axes ne contienent que 10% de l'information. Ce qui est trés peu pour avoir une bonne représentation des données."
   ]
  },
  {
   "cell_type": "markdown",
   "metadata": {},
   "source": [
    "#### b. "
   ]
  },
  {
   "cell_type": "code",
   "execution_count": null,
   "metadata": {},
   "outputs": [],
   "source": [
    "k = 10\n",
    "\n",
    "knn_ACP = KNeighborsClassifier(n_neighbors=k, weights = p)\n",
    "knn_ACP.fit(Xtrain_12000_ACP, Ytrain_12000)\n",
    "\n",
    "predict_ACP = knn_ACP.predict(Xtest_500_ACP)"
   ]
  },
  {
   "cell_type": "code",
   "execution_count": null,
   "metadata": {},
   "outputs": [],
   "source": [
    "print(\"matrice de confusion\")\n",
    "M_ACP = confusion_matrix(Ytest_500, predict_ACP)\n",
    "M_ACP"
   ]
  },
  {
   "cell_type": "code",
   "execution_count": null,
   "metadata": {},
   "outputs": [],
   "source": [
    "print(\"Précision de classification avec une ACP de\",direction,\"composantes\",\" :\", M_ACP.trace()/M_ACP.sum())"
   ]
  },
  {
   "cell_type": "code",
   "execution_count": null,
   "metadata": {},
   "outputs": [],
   "source": [
    "#On représente la précision en fonction du nombre de composantesdirectio\n",
    "\n",
    "direction = 50\n",
    "k = 10\n",
    "Prec_Comp = {}\n",
    "\n",
    "for d in np.arange(1,direction+1):\n",
    "    print(\"\\nIter:\",d)\n",
    "    \n",
    "    #instanciation\n",
    "    acp = PCA(n_components=d)\n",
    "    acp.fit(Xtrain_12000)\n",
    "\n",
    "    #calculs\n",
    "    Xtrain_ACP = acp.transform(Xtrain_12000)\n",
    "    Xtest_ACP = acp.transform(Xtest_500)\n",
    "\n",
    "    knn_ACP = KNeighborsClassifier(n_neighbors=k, weights = p)\n",
    "    knn_ACP.fit(Xtrain_ACP, Ytrain_12000)\n",
    "    \n",
    "    pred_ACP = knn_ACP.predict(Xtest_ACP)\n",
    "\n",
    "    M = confusion_matrix(Ytest_500, pred_ACP)   \n",
    "    Prec_Comp[d] = round(M.trace()/M.sum(), 4) "
   ]
  },
  {
   "cell_type": "code",
   "execution_count": null,
   "metadata": {},
   "outputs": [],
   "source": [
    "df_Prec_Comp = pd.DataFrame({'Composantes'   : list(Prec_Comp.keys()),\n",
    "                      'Précision' : list(Prec_Comp.values())})\n",
    "sns.set(style=\"darkgrid\")\n",
    "plt.figure(figsize=(10,8))\n",
    "sns.lineplot(x=\"Composantes\", y=\"Précision\", data=df_Prec_Comp)"
   ]
  },
  {
   "cell_type": "markdown",
   "metadata": {},
   "source": [
    "#### c.  ACP à noyau"
   ]
  },
  {
   "cell_type": "code",
   "execution_count": null,
   "metadata": {},
   "outputs": [],
   "source": [
    "from sklearn.decomposition import KernelPCA\n",
    "\n",
    "kpca = KernelPCA(n_components=direction, kernel='rbf', gamma=10)\n",
    "kpca.fit(Xtest_500)"
   ]
  },
  {
   "cell_type": "code",
   "execution_count": null,
   "metadata": {},
   "outputs": [],
   "source": [
    "Xtest_500_kACP = kpca.transform(Xtest_500)"
   ]
  },
  {
   "cell_type": "code",
   "execution_count": null,
   "metadata": {},
   "outputs": [],
   "source": [
    "df1_kACP = pd.DataFrame(Xtest_500_kACP[:,0:2]) # On garde les deux premiéres directions pour la représentation graphique\n",
    "df_train_kACP = pd.concat([df1_kACP,Ytest_500], axis=1)\n",
    "df_train_kACP.columns = ['X1', 'X2', 'chiffre']\n",
    "\n",
    "df_train_kACP[df_train_kACP.chiffre ==0].head(20)"
   ]
  },
  {
   "cell_type": "code",
   "execution_count": null,
   "metadata": {},
   "outputs": [],
   "source": [
    "sns.set(style=\"darkgrid\")\n",
    "plt.figure(figsize=(15,15))\n",
    "\n",
    "filled_markers = ('o', 'v', '^', '<', '>', '8', 's', 'p', '*', 'h', 'H', 'D', 'd', 'P', 'X')\n",
    "\n",
    "sns.scatterplot(x=\"X1\", y=\"X2\", hue=\"chiffre\", style=\"chiffre\", palette=\"Set2\", markers=filled_markers, data=df_train_kACP, s =50)"
   ]
  },
  {
   "cell_type": "code",
   "execution_count": null,
   "metadata": {},
   "outputs": [],
   "source": []
  },
  {
   "cell_type": "code",
   "execution_count": null,
   "metadata": {},
   "outputs": [],
   "source": []
  }
 ],
 "metadata": {
  "kernelspec": {
   "display_name": "Python 3",
   "language": "python",
   "name": "python3"
  },
  "language_info": {
   "codemirror_mode": {
    "name": "ipython",
    "version": 3
   },
   "file_extension": ".py",
   "mimetype": "text/x-python",
   "name": "python",
   "nbconvert_exporter": "python",
   "pygments_lexer": "ipython3",
   "version": "3.6.8"
  }
 },
 "nbformat": 4,
 "nbformat_minor": 2
}
