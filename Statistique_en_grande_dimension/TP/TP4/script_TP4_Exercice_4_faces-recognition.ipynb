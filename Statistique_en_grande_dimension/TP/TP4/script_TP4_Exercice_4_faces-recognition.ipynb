{
 "cells": [
  {
   "cell_type": "markdown",
   "metadata": {},
   "source": [
    "# Reconnaissance faciale par SVM (et ACP) "
   ]
  },
  {
   "cell_type": "markdown",
   "metadata": {},
   "source": [
    "https://github.com/gouravaich/faces-recognition-pca/blob/master/PCA%20Mini-Project.ipynb"
   ]
  },
  {
   "cell_type": "code",
   "execution_count": 67,
   "metadata": {},
   "outputs": [],
   "source": [
    "import time\n",
    "import logging\n",
    "import pylab as pl\n",
    "import numpy as np\n",
    "\n",
    "from sklearn.model_selection import train_test_split\n",
    "from sklearn.datasets import fetch_lfw_people\n",
    "from sklearn.model_selection import GridSearchCV\n",
    "from sklearn.metrics import classification_report\n",
    "from sklearn.metrics import confusion_matrix\n",
    "from sklearn.decomposition import PCA\n",
    "\n",
    "from sklearn.svm import SVC\n",
    "from sklearn.neighbors import KNeighborsClassifier\n",
    "from sklearn.ensemble import VotingClassifier\n",
    "from sklearn.linear_model import LogisticRegression\n",
    "from sklearn.ensemble import GradientBoostingClassifier\n",
    "\n",
    "from sklearn.externals import joblib # save and load models\n",
    "\n",
    "# # save the model to disk\n",
    "# filename = 'modeles/SVM'\n",
    "# joblib.dump(SVM, filename)\n",
    "\n",
    "# # load the model from disk\n",
    "# loaded_model = joblib.load(filename)"
   ]
  },
  {
   "cell_type": "markdown",
   "metadata": {},
   "source": [
    "### Loading the dataset"
   ]
  },
  {
   "cell_type": "code",
   "execution_count": 2,
   "metadata": {},
   "outputs": [],
   "source": [
    "# On télécharge les données, si elles ne sont pas déjà sur le disque et on les charge sous forme de tableaux numpy.\n",
    "path_home = '/home/malick/Bureau/Data/Statistique_en_grande_dimension/data'\n",
    "lfw_people = fetch_lfw_people(path_home, min_faces_per_person=70, resize=0.4)"
   ]
  },
  {
   "cell_type": "code",
   "execution_count": 3,
   "metadata": {},
   "outputs": [
    {
     "name": "stdout",
     "output_type": "stream",
     "text": [
      "Information sur le dataset:\n",
      " * nombre de lignes: 1288\n",
      " * nombre de variables: 1850\n",
      " * nombre de classes: 7\n"
     ]
    }
   ],
   "source": [
    "# introspect the images arrays to find the shapes (for plotting)\n",
    "n_samples, h, w = lfw_people.images.shape\n",
    "np.random.seed(42)\n",
    "\n",
    "\n",
    "# for machine learning we use the data directly (as relative pixel position info is ignored by this model)\n",
    "X = lfw_people.data\n",
    "n_features = X.shape[1]\n",
    "\n",
    "# the label to predict is the id of the person\n",
    "y = lfw_people.target\n",
    "target_names = lfw_people.target_names\n",
    "n_classes = target_names.shape[0]\n",
    "\n",
    "print(\"Information sur le dataset:\")\n",
    "print(\" * nombre de lignes: %d\" % n_samples)\n",
    "print(\" * nombre de variables: %d\" % n_features)\n",
    "print( \" * nombre de classes: %d\" % n_classes)"
   ]
  },
  {
   "cell_type": "code",
   "execution_count": 4,
   "metadata": {},
   "outputs": [
    {
     "data": {
      "text/plain": [
       "<matplotlib.image.AxesImage at 0x7feee0f15c18>"
      ]
     },
     "execution_count": 4,
     "metadata": {},
     "output_type": "execute_result"
    },
    {
     "data": {
      "image/png": "[encoded data removed]",
      "text/plain": [
       "<Figure size 432x288 with 1 Axes>"
      ]
     },
     "metadata": {
      "needs_background": "light"
     },
     "output_type": "display_data"
    }
   ],
   "source": [
    "pl.imshow(X[2,:].reshape((h, w)), cmap=pl.cm.gray)"
   ]
  },
  {
   "cell_type": "markdown",
   "metadata": {},
   "source": [
    "### Split into a training and testing set"
   ]
  },
  {
   "cell_type": "code",
   "execution_count": 5,
   "metadata": {},
   "outputs": [],
   "source": [
    "X_train, X_test, y_train, y_test = train_test_split(X, y, test_size=0.3, random_state=42)"
   ]
  },
  {
   "cell_type": "markdown",
   "metadata": {},
   "source": [
    "### ACP "
   ]
  },
  {
   "cell_type": "code",
   "execution_count": 6,
   "metadata": {},
   "outputs": [],
   "source": [
    "n_components = 100\n",
    "\n",
    "# TODO: Create an instance of PCA, initializing with n_components=n_components and whiten=True\n",
    "pca = PCA(n_components=n_components, whiten=True, svd_solver='randomized')\n",
    "\n",
    "#TODO: pass the training dataset (X_train) to pca's 'fit()' method\n",
    "pca = pca.fit(X_train)"
   ]
  },
  {
   "cell_type": "code",
   "execution_count": 7,
   "metadata": {},
   "outputs": [
    {
     "name": "stdout",
     "output_type": "stream",
     "text": [
      "proportion de variance associée aux 10 premiéres axex:\n",
      " [0.18945077 0.15410423 0.07173893 0.05956379 0.05092185 0.02902107\n",
      " 0.02535695 0.02199671 0.02019029 0.01868446]\n"
     ]
    }
   ],
   "source": [
    "print(\"proportion de variance associée aux 10 premiéres axex:\\n\",pca.explained_variance_ratio_[:10])"
   ]
  },
  {
   "cell_type": "code",
   "execution_count": 8,
   "metadata": {},
   "outputs": [
    {
     "name": "stdout",
     "output_type": "stream",
     "text": [
      "proportion total de variance associées aux axes:  0.9292\n"
     ]
    }
   ],
   "source": [
    "print(\"proportion total de variance associées aux axes: \",round(sum(pca.explained_variance_ratio_),4))"
   ]
  },
  {
   "cell_type": "code",
   "execution_count": 9,
   "metadata": {},
   "outputs": [],
   "source": [
    "#Principal axes in feature space, representing the directions of maximum variance in the data.\n",
    "#The components are sorted by explained_variance_.\n",
    "eigenfaces = pca.components_.reshape((n_components, h, w))\n",
    "\n",
    "#Apply dimensionality reduction to X.\n",
    "X_train_pca = pca.transform(X_train)\n",
    "X_test_pca = pca.transform(X_test)"
   ]
  },
  {
   "cell_type": "markdown",
   "metadata": {},
   "source": [
    "### Train a SVM classification model "
   ]
  },
  {
   "cell_type": "markdown",
   "metadata": {},
   "source": [
    "##### a. SVM Linear "
   ]
  },
  {
   "cell_type": "code",
   "execution_count": 10,
   "metadata": {
    "scrolled": true
   },
   "outputs": [],
   "source": [
    "# #on crée un nouveau modèle SVM à noyau Polynomiale\n",
    "# svmLINEAR = SVC(kernel='linear',class_weight='balanced',probability=True)\n",
    "\n",
    "# #on crée un dictionnaire de toutes les valeurs que nous voulons tester\n",
    "# param_grid_LINEAR = {\"C\": [0.01,1,10,20,50,100,500,1000,10000]}\n",
    "\n",
    "# #on utilise gridsearch pour tester toutes les valeurs\n",
    "# svmLINEAR_gscv = GridSearchCV(svmLINEAR, param_grid_LINEAR, cv=5, n_jobs=-1, verbose=10)\n",
    "\n",
    "# #ajustement du modèle aux données\n",
    "# t_debut = time.time()\n",
    "# svmLINEAR_gscv.fit(X_train_pca, y_train)\n",
    "# t_fin = time.time()\n",
    "\n",
    "# temps_SVM_Linear = (t_fin - t_debut)/60\n",
    "\n",
    "# print(\"Précision Train: \",round(svmLINEAR_gscv.score(X_train_pca, y_train),3))\n",
    "# print(\"Précision Test: \",round(svmLINEAR_gscv.score(X_test_pca, y_test),3))\n",
    "# print(\"\\n\")\n",
    "# print(svmLINEAR_gscv.best_params_)"
   ]
  },
  {
   "cell_type": "code",
   "execution_count": 11,
   "metadata": {},
   "outputs": [],
   "source": [
    "# save the model to disk\n",
    "filename = 'modeles/svmLINEAR_gscv'\n",
    "#joblib.dump(svmLINEAR_gscv, filename)\n",
    "\n",
    "# load the model from disk\n",
    "svmLINEAR_gscv = joblib.load(filename)"
   ]
  },
  {
   "cell_type": "code",
   "execution_count": 12,
   "metadata": {},
   "outputs": [
    {
     "name": "stdout",
     "output_type": "stream",
     "text": [
      "Précision Train:  0.927\n",
      "Précision Test:  0.788\n",
      "\n",
      "\n",
      "{'C': 0.01}\n"
     ]
    }
   ],
   "source": [
    "print(\"Précision Train: \",round(svmLINEAR_gscv.score(X_train_pca, y_train),3))\n",
    "print(\"Précision Test: \",round(svmLINEAR_gscv.score(X_test_pca, y_test),3))\n",
    "print(\"\\n\")\n",
    "print(svmLINEAR_gscv.best_params_)"
   ]
  },
  {
   "cell_type": "raw",
   "metadata": {},
   "source": [
    "VP FP\n",
    "FN VN\n",
    "\n",
    "1. La précision permet de répondre à la question suivante :\n",
    "   Quelle proportion d'identifications positives était effectivement correcte ?\n",
    "   La précision peut être définie comme suit : VP/(VP+FP)\n",
    "   \n",
    "2. Le rappel permet de répondre à la question suivante :\n",
    "   Quelle proportion de résultats positifs réels a été identifiée correctement ?\n",
    "   Le rappel est défini comme suit : VP/(VP+FN)"
   ]
  },
  {
   "cell_type": "code",
   "execution_count": 13,
   "metadata": {},
   "outputs": [
    {
     "name": "stdout",
     "output_type": "stream",
     "text": [
      "                   precision    recall  f1-score   support\n",
      "\n",
      "     Ariel Sharon       0.54      0.83      0.65        18\n",
      "     Colin Powell       0.76      0.84      0.80        69\n",
      "  Donald Rumsfeld       0.64      0.68      0.66        34\n",
      "    George W Bush       0.93      0.80      0.86       166\n",
      "Gerhard Schroeder       0.63      0.84      0.72        31\n",
      "      Hugo Chavez       0.86      0.63      0.73        19\n",
      "       Tony Blair       0.78      0.78      0.78        50\n",
      "\n",
      "         accuracy                           0.79       387\n",
      "        macro avg       0.73      0.77      0.74       387\n",
      "     weighted avg       0.81      0.79      0.79       387\n",
      "\n"
     ]
    }
   ],
   "source": [
    "y_pred_LINEAR = svmLINEAR_gscv.predict(X_test_pca)\n",
    "\n",
    "#Sklearn's classification_report montre quelques-unes des principales mesures de classification pour chaque classe:\n",
    "print(classification_report(y_test, y_pred_LINEAR, target_names=target_names))"
   ]
  },
  {
   "cell_type": "code",
   "execution_count": 14,
   "metadata": {},
   "outputs": [
    {
     "name": "stdout",
     "output_type": "stream",
     "text": [
      "[[ 15   0   3   0   0   0   0]\n",
      " [  3  58   1   3   1   1   2]\n",
      " [  4   2  23   2   2   0   1]\n",
      " [  4  10   7 132   6   1   6]\n",
      " [  1   1   0   1  26   0   2]\n",
      " [  1   3   0   1   2  12   0]\n",
      " [  0   2   2   3   4   0  39]]\n"
     ]
    }
   ],
   "source": [
    "print(confusion_matrix(y_test, y_pred_LINEAR, labels=range(n_classes)))"
   ]
  },
  {
   "cell_type": "markdown",
   "metadata": {},
   "source": [
    "#### b. SVM Poly"
   ]
  },
  {
   "cell_type": "code",
   "execution_count": 15,
   "metadata": {},
   "outputs": [],
   "source": [
    "# #on crée un nouveau modèle SVM à noyau Polynomiale\n",
    "# svmPOLY = SVC(kernel='poly',class_weight='balanced', probability=True)\n",
    "\n",
    "# #on crée un dictionnaire de toutes les valeurs que nous voulons tester\n",
    "# param_grid_POLY = {\n",
    "#                    \"C\": [0.01,1,10,20,50,100,500,1000],\n",
    "#                    \"gamma\" : np.arange(0,1.1,0.1),\n",
    "#                    \"degree\": [2,3,4,6],\n",
    "#                    \"coef0\": np.arange(0,1,0.5)\n",
    "#                    }\n",
    "\n",
    "# #on utilise gridsearch pour tester toutes les valeurs\n",
    "# svmPOLY_gscv = GridSearchCV(svmPOLY, param_grid_POLY, cv=5, n_jobs=-1, verbose=10)\n",
    "\n",
    "# #ajustement du modèle aux données\n",
    "# t_debut = time.time()\n",
    "# svmPOLY_gscv.fit(X_train_pca, y_train)\n",
    "# t_fin = time.time()\n",
    "\n",
    "# temps_SVM_Poly = (t_fin - t_debut)/60\n",
    "\n",
    "# print(\"Précision Train: \",round(svmPOLY_gscv.score(X_train_pca, y_train),3))\n",
    "# print(\"Précision Test: \",round(svmPOLY_gscv.score(X_test_pca, y_test),3))\n",
    "# print(\"\\n\")\n",
    "# print(svmPOLY_gscv.best_params_)"
   ]
  },
  {
   "cell_type": "code",
   "execution_count": 16,
   "metadata": {},
   "outputs": [],
   "source": [
    "# save the model to disk\n",
    "filename = 'modeles/svmPOLY_gscv'\n",
    "#joblib.dump(svmPOLY_gscv, filename)\n",
    "\n",
    "# load the model from disk\n",
    "svmPOLY_gscv = joblib.load(filename)"
   ]
  },
  {
   "cell_type": "code",
   "execution_count": 17,
   "metadata": {},
   "outputs": [
    {
     "name": "stdout",
     "output_type": "stream",
     "text": [
      "Précision Train:  1.0\n",
      "Précision Test:  0.788\n",
      "\n",
      "\n",
      "{'C': 1, 'coef0': 0.5, 'degree': 2, 'gamma': 0.1}\n"
     ]
    }
   ],
   "source": [
    "print(\"Précision Train: \",round(svmPOLY_gscv.score(X_train_pca, y_train),3))\n",
    "print(\"Précision Test: \",round(svmPOLY_gscv.score(X_test_pca, y_test),3))\n",
    "print(\"\\n\")\n",
    "print(svmPOLY_gscv.best_params_)"
   ]
  },
  {
   "cell_type": "code",
   "execution_count": 18,
   "metadata": {},
   "outputs": [
    {
     "name": "stdout",
     "output_type": "stream",
     "text": [
      "                   precision    recall  f1-score   support\n",
      "\n",
      "     Ariel Sharon       0.67      0.33      0.44        18\n",
      "     Colin Powell       0.92      0.86      0.89        69\n",
      "  Donald Rumsfeld       0.77      0.59      0.67        34\n",
      "    George W Bush       0.73      0.96      0.83       166\n",
      "Gerhard Schroeder       0.76      0.61      0.68        31\n",
      "      Hugo Chavez       0.89      0.42      0.57        19\n",
      "       Tony Blair       0.92      0.66      0.77        50\n",
      "\n",
      "         accuracy                           0.79       387\n",
      "        macro avg       0.81      0.63      0.69       387\n",
      "     weighted avg       0.80      0.79      0.78       387\n",
      "\n"
     ]
    }
   ],
   "source": [
    "y_pred_POLY = svmPOLY_gscv.predict(X_test_pca)\n",
    "\n",
    "#Sklearn's classification_report montre quelques-unes des principales mesures de classification pour chaque classe:\n",
    "print(classification_report(y_test, y_pred_POLY, target_names=target_names))"
   ]
  },
  {
   "cell_type": "code",
   "execution_count": 19,
   "metadata": {},
   "outputs": [
    {
     "name": "stdout",
     "output_type": "stream",
     "text": [
      "[[  6   0   2  10   0   0   0]\n",
      " [  1  59   0   6   1   1   1]\n",
      " [  1   1  20  12   0   0   0]\n",
      " [  0   2   3 160   1   0   0]\n",
      " [  0   0   1  10  19   0   1]\n",
      " [  1   2   0   4   3   8   1]\n",
      " [  0   0   0  16   1   0  33]]\n"
     ]
    }
   ],
   "source": [
    "print(confusion_matrix(y_test, y_pred_POLY, labels=range(n_classes)))"
   ]
  },
  {
   "cell_type": "markdown",
   "metadata": {},
   "source": [
    "#### c. SMV Rbf"
   ]
  },
  {
   "cell_type": "code",
   "execution_count": 20,
   "metadata": {},
   "outputs": [],
   "source": [
    "# #on crée un nouveau modèle SVM à noyau Gaussien\n",
    "# svmRBF = SVC(kernel='rbf',class_weight='balanced',probability=True)\n",
    "\n",
    "# #on crée un dictionnaire de toutes les valeurs que nous voulons tester\n",
    "# param_grid_RBF = {\n",
    "#                   \"C\": [0.01,1,10,20,50,100,500,1000,10000],\n",
    "#                   \"gamma\" : np.arange(0,1,0.05)\n",
    "#                  }\n",
    "\n",
    "# #on utilise gridsearch pour tester toutes les valeurs de param_grid\n",
    "# svmRBF_gscv = GridSearchCV(svmRBF, param_grid_RBF, cv=5, n_jobs=-1, verbose=10)\n",
    "\n",
    "# #ajustement du modèle aux données\n",
    "# t_debut = time.time()\n",
    "# svmRBF_gscv.fit(X_train_pca,y_train)\n",
    "# t_fin = time.time()\n",
    "\n",
    "# temps_SVM_Rbf = (t_fin - t_debut)/60\n",
    "\n",
    "# print(\"Précision Train: \",round(svmRBF_gscv.score(X_train_pca,y_train),3))\n",
    "# print(\"Précision Test: \",round(svmRBF_gscv.score(X_test_pca,y_test),3))\n",
    "# print(\"\\n\")\n",
    "\n",
    "# print(svmRBF_gscv.best_params_)"
   ]
  },
  {
   "cell_type": "code",
   "execution_count": 21,
   "metadata": {},
   "outputs": [],
   "source": [
    "# save the model to disk\n",
    "filename = 'modeles/svmRBF_gscv'\n",
    "#joblib.dump(svmRBF_gscv, filename)\n",
    "\n",
    "# load the model from disk\n",
    "svmRBF_gscv = joblib.load(filename)"
   ]
  },
  {
   "cell_type": "code",
   "execution_count": 22,
   "metadata": {},
   "outputs": [
    {
     "name": "stdout",
     "output_type": "stream",
     "text": [
      "Précision Train:  1.0\n",
      "Précision Test:  0.465\n",
      "\n",
      "\n",
      "{'C': 1, 'gamma': 0.05}\n"
     ]
    }
   ],
   "source": [
    "print(\"Précision Train: \",round(svmRBF_gscv.score(X_train_pca,y_train),3))\n",
    "print(\"Précision Test: \",round(svmRBF_gscv.score(X_test_pca,y_test),3))\n",
    "print(\"\\n\")\n",
    "\n",
    "print(svmRBF_gscv.best_params_)"
   ]
  },
  {
   "cell_type": "code",
   "execution_count": 23,
   "metadata": {},
   "outputs": [
    {
     "name": "stdout",
     "output_type": "stream",
     "text": [
      "                   precision    recall  f1-score   support\n",
      "\n",
      "     Ariel Sharon       0.00      0.00      0.00        18\n",
      "     Colin Powell       1.00      0.19      0.32        69\n",
      "  Donald Rumsfeld       1.00      0.03      0.06        34\n",
      "    George W Bush       0.45      1.00      0.62       166\n",
      "Gerhard Schroeder       0.00      0.00      0.00        31\n",
      "      Hugo Chavez       0.00      0.00      0.00        19\n",
      "       Tony Blair       0.00      0.00      0.00        50\n",
      "\n",
      "         accuracy                           0.47       387\n",
      "        macro avg       0.35      0.17      0.14       387\n",
      "     weighted avg       0.46      0.47      0.33       387\n",
      "\n"
     ]
    },
    {
     "name": "stderr",
     "output_type": "stream",
     "text": [
      "/home/malick/.local/lib/python3.6/site-packages/sklearn/metrics/classification.py:1437: UndefinedMetricWarning: Precision and F-score are ill-defined and being set to 0.0 in labels with no predicted samples.\n",
      "  'precision', 'predicted', average, warn_for)\n"
     ]
    }
   ],
   "source": [
    "y_pred_RBF = svmRBF_gscv.predict(X_test_pca)\n",
    "\n",
    "#Sklearn's classification_report montre quelques-unes des principales mesures de classification pour chaque classe:\n",
    "print(classification_report(y_test, y_pred_RBF, target_names=target_names))"
   ]
  },
  {
   "cell_type": "code",
   "execution_count": 24,
   "metadata": {},
   "outputs": [
    {
     "name": "stdout",
     "output_type": "stream",
     "text": [
      "[[  0   0   0  18   0   0   0]\n",
      " [  0  13   0  56   0   0   0]\n",
      " [  0   0   1  33   0   0   0]\n",
      " [  0   0   0 166   0   0   0]\n",
      " [  0   0   0  31   0   0   0]\n",
      " [  0   0   0  19   0   0   0]\n",
      " [  0   0   0  50   0   0   0]]\n"
     ]
    }
   ],
   "source": [
    "print(confusion_matrix(y_test, y_pred_RBF, labels=range(n_classes)))"
   ]
  },
  {
   "cell_type": "markdown",
   "metadata": {},
   "source": [
    "#### c. KNN"
   ]
  },
  {
   "cell_type": "code",
   "execution_count": 25,
   "metadata": {},
   "outputs": [],
   "source": [
    "# #on crée un nouveau modèle knn\n",
    "# knn = KNeighborsClassifier()\n",
    "\n",
    "# max_Voisins = 101\n",
    "\n",
    "# #on crée un dictionnaire de toutes les valeurs que nous voulons tester avec n_neighbors\n",
    "# param_grid_KNN = {\"n_neighbors\": np.arange(1, max_Voisins), \"weights\" : [\"uniform\", \"distance\"]}\n",
    "\n",
    "# #on utilise gridsearch pour tester toutes les valeurs de n_neighbors\n",
    "# knn_gscv = GridSearchCV(knn, param_grid_KNN, cv=5, n_jobs=-1, verbose=10)\n",
    "\n",
    "# #ajustement du modèle aux données\n",
    "# t_debut = time.time()\n",
    "# knn_gscv.fit(X_train_pca,y_train)\n",
    "# t_fin = time.time()\n",
    "\n",
    "# temps_SVM_knn = (t_fin - t_debut)/60\n",
    "\n",
    "# print(\"Précision Train: \",round(knn_gscv.score(X_train_pca,y_train),3))\n",
    "# print(\"Précision Test: \",round(knn_gscv.score(X_test_pca,y_test),3))\n",
    "# print(\"\\n\")\n",
    "\n",
    "# print(knn_gscv.best_params_)"
   ]
  },
  {
   "cell_type": "code",
   "execution_count": 26,
   "metadata": {},
   "outputs": [],
   "source": [
    "# save the model to disk\n",
    "filename = 'modeles/knn_gscv'\n",
    "#joblib.dump(knn_gscv, filename)\n",
    "\n",
    "# load the model from disk\n",
    "knn_gscv = joblib.load(filename)"
   ]
  },
  {
   "cell_type": "code",
   "execution_count": 27,
   "metadata": {},
   "outputs": [
    {
     "name": "stdout",
     "output_type": "stream",
     "text": [
      "Précision Train:  1.0\n",
      "Précision Test:  0.693\n",
      "\n",
      "\n",
      "{'n_neighbors': 4, 'weights': 'distance'}\n"
     ]
    }
   ],
   "source": [
    "print(\"Précision Train: \",round(knn_gscv.score(X_train_pca,y_train),3))\n",
    "print(\"Précision Test: \",round(knn_gscv.score(X_test_pca,y_test),3))\n",
    "print(\"\\n\")\n",
    "\n",
    "print(knn_gscv.best_params_)"
   ]
  },
  {
   "cell_type": "code",
   "execution_count": 28,
   "metadata": {},
   "outputs": [
    {
     "name": "stdout",
     "output_type": "stream",
     "text": [
      "                   precision    recall  f1-score   support\n",
      "\n",
      "     Ariel Sharon       0.50      0.28      0.36        18\n",
      "     Colin Powell       0.88      0.67      0.76        69\n",
      "  Donald Rumsfeld       0.53      0.50      0.52        34\n",
      "    George W Bush       0.68      0.95      0.79       166\n",
      "Gerhard Schroeder       0.63      0.39      0.48        31\n",
      "      Hugo Chavez       0.89      0.42      0.57        19\n",
      "       Tony Blair       0.69      0.44      0.54        50\n",
      "\n",
      "         accuracy                           0.69       387\n",
      "        macro avg       0.69      0.52      0.57       387\n",
      "     weighted avg       0.70      0.69      0.67       387\n",
      "\n"
     ]
    }
   ],
   "source": [
    "y_pred_KNN = knn_gscv.predict(X_test_pca)\n",
    "\n",
    "#Sklearn's classification_report montre quelques-unes des principales mesures de classification pour chaque classe:\n",
    "print(classification_report(y_test, y_pred_KNN, target_names=target_names))"
   ]
  },
  {
   "cell_type": "code",
   "execution_count": 29,
   "metadata": {},
   "outputs": [
    {
     "name": "stdout",
     "output_type": "stream",
     "text": [
      "[[  5   0   2   8   1   1   1]\n",
      " [  2  46   3  15   1   0   2]\n",
      " [  1   0  17  14   1   0   1]\n",
      " [  0   1   4 158   1   0   2]\n",
      " [  1   1   2  11  12   0   4]\n",
      " [  1   1   1   6   2   8   0]\n",
      " [  0   3   3  21   1   0  22]]\n"
     ]
    }
   ],
   "source": [
    "print(confusion_matrix(y_test, y_pred_KNN, labels=range(n_classes)))"
   ]
  },
  {
   "cell_type": "markdown",
   "metadata": {},
   "source": [
    "#### d. LogisticRegression"
   ]
  },
  {
   "cell_type": "code",
   "execution_count": 55,
   "metadata": {},
   "outputs": [
    {
     "name": "stdout",
     "output_type": "stream",
     "text": [
      "Fitting 5 folds for each of 216 candidates, totalling 1080 fits\n"
     ]
    },
    {
     "name": "stderr",
     "output_type": "stream",
     "text": [
      "[Parallel(n_jobs=-1)]: Using backend LokyBackend with 4 concurrent workers.\n",
      "[Parallel(n_jobs=-1)]: Done   5 tasks      | elapsed:    8.4s\n",
      "[Parallel(n_jobs=-1)]: Done  10 tasks      | elapsed:   10.1s\n",
      "[Parallel(n_jobs=-1)]: Done  17 tasks      | elapsed:   12.4s\n",
      "[Parallel(n_jobs=-1)]: Done  24 tasks      | elapsed:   15.6s\n",
      "[Parallel(n_jobs=-1)]: Done  33 tasks      | elapsed:   16.9s\n",
      "[Parallel(n_jobs=-1)]: Done  42 tasks      | elapsed:   19.0s\n",
      "[Parallel(n_jobs=-1)]: Done  53 tasks      | elapsed:   21.2s\n",
      "[Parallel(n_jobs=-1)]: Done  64 tasks      | elapsed:   30.0s\n",
      "[Parallel(n_jobs=-1)]: Done  77 tasks      | elapsed:   35.8s\n",
      "[Parallel(n_jobs=-1)]: Done  90 tasks      | elapsed:   40.6s\n",
      "[Parallel(n_jobs=-1)]: Done 105 tasks      | elapsed:   43.9s\n",
      "[Parallel(n_jobs=-1)]: Done 120 tasks      | elapsed:   46.2s\n",
      "[Parallel(n_jobs=-1)]: Done 137 tasks      | elapsed:  1.0min\n",
      "[Parallel(n_jobs=-1)]: Done 154 tasks      | elapsed:  1.1min\n",
      "[Parallel(n_jobs=-1)]: Done 173 tasks      | elapsed:  1.2min\n",
      "[Parallel(n_jobs=-1)]: Done 192 tasks      | elapsed:  1.5min\n",
      "[Parallel(n_jobs=-1)]: Done 213 tasks      | elapsed:  1.7min\n",
      "[Parallel(n_jobs=-1)]: Done 234 tasks      | elapsed:  1.8min\n",
      "[Parallel(n_jobs=-1)]: Done 257 tasks      | elapsed:  2.1min\n",
      "[Parallel(n_jobs=-1)]: Done 280 tasks      | elapsed:  2.2min\n",
      "[Parallel(n_jobs=-1)]: Done 305 tasks      | elapsed:  2.5min\n",
      "[Parallel(n_jobs=-1)]: Done 330 tasks      | elapsed:  2.7min\n",
      "[Parallel(n_jobs=-1)]: Done 357 tasks      | elapsed:  3.0min\n",
      "[Parallel(n_jobs=-1)]: Done 384 tasks      | elapsed:  3.3min\n",
      "[Parallel(n_jobs=-1)]: Done 413 tasks      | elapsed:  3.4min\n",
      "[Parallel(n_jobs=-1)]: Done 442 tasks      | elapsed:  3.8min\n",
      "[Parallel(n_jobs=-1)]: Done 473 tasks      | elapsed:  4.1min\n",
      "[Parallel(n_jobs=-1)]: Done 504 tasks      | elapsed:  4.4min\n",
      "[Parallel(n_jobs=-1)]: Done 537 tasks      | elapsed:  4.6min\n",
      "[Parallel(n_jobs=-1)]: Done 570 tasks      | elapsed:  5.0min\n",
      "[Parallel(n_jobs=-1)]: Done 605 tasks      | elapsed:  5.4min\n",
      "[Parallel(n_jobs=-1)]: Done 640 tasks      | elapsed:  5.6min\n",
      "[Parallel(n_jobs=-1)]: Done 677 tasks      | elapsed:  6.1min\n",
      "[Parallel(n_jobs=-1)]: Done 714 tasks      | elapsed:  6.4min\n",
      "[Parallel(n_jobs=-1)]: Done 753 tasks      | elapsed:  6.8min\n",
      "[Parallel(n_jobs=-1)]: Done 792 tasks      | elapsed:  7.1min\n",
      "[Parallel(n_jobs=-1)]: Done 833 tasks      | elapsed:  7.5min\n",
      "[Parallel(n_jobs=-1)]: Done 874 tasks      | elapsed:  7.9min\n",
      "[Parallel(n_jobs=-1)]: Done 917 tasks      | elapsed:  8.3min\n",
      "[Parallel(n_jobs=-1)]: Done 960 tasks      | elapsed:  8.7min\n",
      "[Parallel(n_jobs=-1)]: Done 1005 tasks      | elapsed:  9.2min\n",
      "[Parallel(n_jobs=-1)]: Done 1050 tasks      | elapsed:  9.7min\n",
      "[Parallel(n_jobs=-1)]: Done 1080 out of 1080 | elapsed: 10.0min finished\n",
      "/home/malick/.local/lib/python3.6/site-packages/sklearn/model_selection/_search.py:813: DeprecationWarning: The default of the `iid` parameter will change from True to False in version 0.22 and will be removed in 0.24. This will change numeric results when test-set sizes are unequal.\n",
      "  DeprecationWarning)\n",
      "/home/malick/.local/lib/python3.6/site-packages/sklearn/linear_model/sag.py:337: ConvergenceWarning: The max_iter was reached which means the coef_ did not converge\n",
      "  \"the coef_ did not converge\", ConvergenceWarning)\n"
     ]
    },
    {
     "name": "stdout",
     "output_type": "stream",
     "text": [
      "Précision Train:  0.925\n",
      "Précision Test:  0.796\n",
      "\n",
      "\n",
      "{'C': 0.01, 'max_iter': 200, 'multi_class': 'ovr', 'penalty': 'l2', 'solver': 'saga'}\n"
     ]
    }
   ],
   "source": [
    "# #on crée un nouveau modèle logit\n",
    "\n",
    "# Logit = LogisticRegression(class_weight='balanced')\n",
    "\n",
    "# #on crée un dictionnaire de toutes les valeurs que nous voulons tester\n",
    "# param_grid_Logit = {\n",
    "#                     \"penalty\": ['l2'],\n",
    "#                     \"C\": [0.01,1,10,20,50,100,500,1000,10000],\n",
    "#                     \"max_iter\": [100, 200],\n",
    "#                     \"solver\": ['newton-cg', 'sag', 'saga', 'lbfgs'],\n",
    "#                     \"multi_class\": ['ovr', 'multinomial', 'auto']\n",
    "#                    }\n",
    "\n",
    "# #on utilise gridsearch pour tester toutes les valeurs de param_grid\n",
    "# Logit_gscv = GridSearchCV(Logit, param_grid_Logit, cv=5, n_jobs=-1, verbose=10)\n",
    "\n",
    "# #ajustement du modèle aux données\n",
    "# t_debut = time.time()\n",
    "# Logit_gscv.fit(X_train_pca, y_train)\n",
    "# t_fin = time.time()\n",
    "\n",
    "# temps_Logit = (t_fin - t_debut)/60\n",
    "\n",
    "# print(\"Précision Train: \",round(Logit_gscv.score(X_train_pca,y_train),3))\n",
    "# print(\"Précision Test: \",round(Logit_gscv.score(X_test_pca,y_test),3))\n",
    "# print(\"\\n\")\n",
    "\n",
    "# print(Logit_gscv.best_params_)"
   ]
  },
  {
   "cell_type": "code",
   "execution_count": 58,
   "metadata": {},
   "outputs": [],
   "source": [
    "# save the model to disk\n",
    "filename = 'modeles/Logit_gscv'\n",
    "#joblib.dump(Logit_gscv, filename)\n",
    "\n",
    "# load the model from disk\n",
    "Logit_gscv = joblib.load(filename)"
   ]
  },
  {
   "cell_type": "code",
   "execution_count": 56,
   "metadata": {},
   "outputs": [
    {
     "name": "stdout",
     "output_type": "stream",
     "text": [
      "Précision Train:  0.925\n",
      "Précision Test:  0.796\n",
      "\n",
      "\n",
      "{'C': 0.01, 'max_iter': 200, 'multi_class': 'ovr', 'penalty': 'l2', 'solver': 'saga'}\n"
     ]
    }
   ],
   "source": [
    "print(\"Précision Train: \",round(Logit_gscv.score(X_train_pca,y_train),3))\n",
    "print(\"Précision Test: \",round(Logit_gscv.score(X_test_pca,y_test),3))\n",
    "print(\"\\n\")\n",
    "\n",
    "print(Logit_gscv.best_params_)"
   ]
  },
  {
   "cell_type": "code",
   "execution_count": 57,
   "metadata": {},
   "outputs": [
    {
     "name": "stdout",
     "output_type": "stream",
     "text": [
      "                   precision    recall  f1-score   support\n",
      "\n",
      "     Ariel Sharon       0.76      0.72      0.74        18\n",
      "     Colin Powell       0.80      0.86      0.83        69\n",
      "  Donald Rumsfeld       0.64      0.62      0.63        34\n",
      "    George W Bush       0.91      0.84      0.87       166\n",
      "Gerhard Schroeder       0.65      0.84      0.73        31\n",
      "      Hugo Chavez       0.79      0.58      0.67        19\n",
      "       Tony Blair       0.68      0.78      0.73        50\n",
      "\n",
      "         accuracy                           0.80       387\n",
      "        macro avg       0.75      0.75      0.74       387\n",
      "     weighted avg       0.80      0.80      0.80       387\n",
      "\n"
     ]
    }
   ],
   "source": [
    "y_pred_Logit = Logit_gscv.predict(X_test_pca)\n",
    "\n",
    "#Sklearn's classification_report montre quelques-unes des principales mesures de classification pour chaque classe:\n",
    "print(classification_report(y_test, y_pred_Logit, target_names=target_names))"
   ]
  },
  {
   "cell_type": "code",
   "execution_count": 49,
   "metadata": {},
   "outputs": [
    {
     "name": "stdout",
     "output_type": "stream",
     "text": [
      "[[ 14   1   3   0   0   0   0]\n",
      " [  3  58   0   4   1   1   2]\n",
      " [  2   4  22   1   2   1   2]\n",
      " [  3   5   6 139   2   4   7]\n",
      " [  0   1   1   0  23   3   3]\n",
      " [  0   2   0   1   0  14   2]\n",
      " [  0   2   1   3   4   0  40]]\n"
     ]
    }
   ],
   "source": [
    "print(confusion_matrix(y_test, y_pred_Logit, labels=range(n_classes)))"
   ]
  },
  {
   "cell_type": "markdown",
   "metadata": {},
   "source": [
    "#### e. Gradient Boosting"
   ]
  },
  {
   "cell_type": "code",
   "execution_count": 80,
   "metadata": {},
   "outputs": [
    {
     "name": "stdout",
     "output_type": "stream",
     "text": [
      "Fitting 5 folds for each of 360 candidates, totalling 1800 fits\n"
     ]
    },
    {
     "name": "stderr",
     "output_type": "stream",
     "text": [
      "[Parallel(n_jobs=-1)]: Using backend LokyBackend with 4 concurrent workers.\n",
      "[Parallel(n_jobs=-1)]: Done   5 tasks      | elapsed:   17.3s\n",
      "[Parallel(n_jobs=-1)]: Done  10 tasks      | elapsed:   22.5s\n",
      "[Parallel(n_jobs=-1)]: Done  17 tasks      | elapsed:   35.0s\n",
      "[Parallel(n_jobs=-1)]: Done  24 tasks      | elapsed:   52.0s\n",
      "[Parallel(n_jobs=-1)]: Done  33 tasks      | elapsed:  1.3min\n",
      "[Parallel(n_jobs=-1)]: Done  42 tasks      | elapsed:  1.5min\n",
      "[Parallel(n_jobs=-1)]: Done  53 tasks      | elapsed:  2.2min\n",
      "[Parallel(n_jobs=-1)]: Done  64 tasks      | elapsed:  2.9min\n",
      "[Parallel(n_jobs=-1)]: Done  77 tasks      | elapsed:  3.5min\n"
     ]
    },
    {
     "ename": "KeyboardInterrupt",
     "evalue": "",
     "output_type": "error",
     "traceback": [
      "\u001b[0;31m---------------------------------------------------------------------------\u001b[0m",
      "\u001b[0;31mKeyboardInterrupt\u001b[0m                         Traceback (most recent call last)",
      "\u001b[0;32m<ipython-input-80-8fa00c4e93e0>\u001b[0m in \u001b[0;36m<module>\u001b[0;34m\u001b[0m\n\u001b[1;32m     16\u001b[0m \u001b[0;31m#ajustement du modèle aux données\u001b[0m\u001b[0;34m\u001b[0m\u001b[0;34m\u001b[0m\u001b[0;34m\u001b[0m\u001b[0m\n\u001b[1;32m     17\u001b[0m \u001b[0mt_debut\u001b[0m \u001b[0;34m=\u001b[0m \u001b[0mtime\u001b[0m\u001b[0;34m.\u001b[0m\u001b[0mtime\u001b[0m\u001b[0;34m(\u001b[0m\u001b[0;34m)\u001b[0m\u001b[0;34m\u001b[0m\u001b[0;34m\u001b[0m\u001b[0m\n\u001b[0;32m---> 18\u001b[0;31m \u001b[0mGB_gscv\u001b[0m\u001b[0;34m.\u001b[0m\u001b[0mfit\u001b[0m\u001b[0;34m(\u001b[0m\u001b[0mX_train_pca\u001b[0m\u001b[0;34m,\u001b[0m \u001b[0my_train\u001b[0m\u001b[0;34m)\u001b[0m\u001b[0;34m\u001b[0m\u001b[0;34m\u001b[0m\u001b[0m\n\u001b[0m\u001b[1;32m     19\u001b[0m \u001b[0mt_fin\u001b[0m \u001b[0;34m=\u001b[0m \u001b[0mtime\u001b[0m\u001b[0;34m.\u001b[0m\u001b[0mtime\u001b[0m\u001b[0;34m(\u001b[0m\u001b[0;34m)\u001b[0m\u001b[0;34m\u001b[0m\u001b[0;34m\u001b[0m\u001b[0m\n\u001b[1;32m     20\u001b[0m \u001b[0;34m\u001b[0m\u001b[0m\n",
      "\u001b[0;32m~/.local/lib/python3.6/site-packages/sklearn/model_selection/_search.py\u001b[0m in \u001b[0;36mfit\u001b[0;34m(self, X, y, groups, **fit_params)\u001b[0m\n\u001b[1;32m    685\u001b[0m                 \u001b[0;32mreturn\u001b[0m \u001b[0mresults\u001b[0m\u001b[0;34m\u001b[0m\u001b[0;34m\u001b[0m\u001b[0m\n\u001b[1;32m    686\u001b[0m \u001b[0;34m\u001b[0m\u001b[0m\n\u001b[0;32m--> 687\u001b[0;31m             \u001b[0mself\u001b[0m\u001b[0;34m.\u001b[0m\u001b[0m_run_search\u001b[0m\u001b[0;34m(\u001b[0m\u001b[0mevaluate_candidates\u001b[0m\u001b[0;34m)\u001b[0m\u001b[0;34m\u001b[0m\u001b[0;34m\u001b[0m\u001b[0m\n\u001b[0m\u001b[1;32m    688\u001b[0m \u001b[0;34m\u001b[0m\u001b[0m\n\u001b[1;32m    689\u001b[0m         \u001b[0;31m# For multi-metric evaluation, store the best_index_, best_params_ and\u001b[0m\u001b[0;34m\u001b[0m\u001b[0;34m\u001b[0m\u001b[0;34m\u001b[0m\u001b[0m\n",
      "\u001b[0;32m~/.local/lib/python3.6/site-packages/sklearn/model_selection/_search.py\u001b[0m in \u001b[0;36m_run_search\u001b[0;34m(self, evaluate_candidates)\u001b[0m\n\u001b[1;32m   1146\u001b[0m     \u001b[0;32mdef\u001b[0m \u001b[0m_run_search\u001b[0m\u001b[0;34m(\u001b[0m\u001b[0mself\u001b[0m\u001b[0;34m,\u001b[0m \u001b[0mevaluate_candidates\u001b[0m\u001b[0;34m)\u001b[0m\u001b[0;34m:\u001b[0m\u001b[0;34m\u001b[0m\u001b[0;34m\u001b[0m\u001b[0m\n\u001b[1;32m   1147\u001b[0m         \u001b[0;34m\"\"\"Search all candidates in param_grid\"\"\"\u001b[0m\u001b[0;34m\u001b[0m\u001b[0;34m\u001b[0m\u001b[0m\n\u001b[0;32m-> 1148\u001b[0;31m         \u001b[0mevaluate_candidates\u001b[0m\u001b[0;34m(\u001b[0m\u001b[0mParameterGrid\u001b[0m\u001b[0;34m(\u001b[0m\u001b[0mself\u001b[0m\u001b[0;34m.\u001b[0m\u001b[0mparam_grid\u001b[0m\u001b[0;34m)\u001b[0m\u001b[0;34m)\u001b[0m\u001b[0;34m\u001b[0m\u001b[0;34m\u001b[0m\u001b[0m\n\u001b[0m\u001b[1;32m   1149\u001b[0m \u001b[0;34m\u001b[0m\u001b[0m\n\u001b[1;32m   1150\u001b[0m \u001b[0;34m\u001b[0m\u001b[0m\n",
      "\u001b[0;32m~/.local/lib/python3.6/site-packages/sklearn/model_selection/_search.py\u001b[0m in \u001b[0;36mevaluate_candidates\u001b[0;34m(candidate_params)\u001b[0m\n\u001b[1;32m    664\u001b[0m                                \u001b[0;32mfor\u001b[0m \u001b[0mparameters\u001b[0m\u001b[0;34m,\u001b[0m \u001b[0;34m(\u001b[0m\u001b[0mtrain\u001b[0m\u001b[0;34m,\u001b[0m \u001b[0mtest\u001b[0m\u001b[0;34m)\u001b[0m\u001b[0;34m\u001b[0m\u001b[0;34m\u001b[0m\u001b[0m\n\u001b[1;32m    665\u001b[0m                                in product(candidate_params,\n\u001b[0;32m--> 666\u001b[0;31m                                           cv.split(X, y, groups)))\n\u001b[0m\u001b[1;32m    667\u001b[0m \u001b[0;34m\u001b[0m\u001b[0m\n\u001b[1;32m    668\u001b[0m                 \u001b[0;32mif\u001b[0m \u001b[0mlen\u001b[0m\u001b[0;34m(\u001b[0m\u001b[0mout\u001b[0m\u001b[0;34m)\u001b[0m \u001b[0;34m<\u001b[0m \u001b[0;36m1\u001b[0m\u001b[0;34m:\u001b[0m\u001b[0;34m\u001b[0m\u001b[0;34m\u001b[0m\u001b[0m\n",
      "\u001b[0;32m~/.local/lib/python3.6/site-packages/joblib/parallel.py\u001b[0m in \u001b[0;36m__call__\u001b[0;34m(self, iterable)\u001b[0m\n\u001b[1;32m    932\u001b[0m \u001b[0;34m\u001b[0m\u001b[0m\n\u001b[1;32m    933\u001b[0m             \u001b[0;32mwith\u001b[0m \u001b[0mself\u001b[0m\u001b[0;34m.\u001b[0m\u001b[0m_backend\u001b[0m\u001b[0;34m.\u001b[0m\u001b[0mretrieval_context\u001b[0m\u001b[0;34m(\u001b[0m\u001b[0;34m)\u001b[0m\u001b[0;34m:\u001b[0m\u001b[0;34m\u001b[0m\u001b[0;34m\u001b[0m\u001b[0m\n\u001b[0;32m--> 934\u001b[0;31m                 \u001b[0mself\u001b[0m\u001b[0;34m.\u001b[0m\u001b[0mretrieve\u001b[0m\u001b[0;34m(\u001b[0m\u001b[0;34m)\u001b[0m\u001b[0;34m\u001b[0m\u001b[0;34m\u001b[0m\u001b[0m\n\u001b[0m\u001b[1;32m    935\u001b[0m             \u001b[0;31m# Make sure that we get a last message telling us we are done\u001b[0m\u001b[0;34m\u001b[0m\u001b[0;34m\u001b[0m\u001b[0;34m\u001b[0m\u001b[0m\n\u001b[1;32m    936\u001b[0m             \u001b[0melapsed_time\u001b[0m \u001b[0;34m=\u001b[0m \u001b[0mtime\u001b[0m\u001b[0;34m.\u001b[0m\u001b[0mtime\u001b[0m\u001b[0;34m(\u001b[0m\u001b[0;34m)\u001b[0m \u001b[0;34m-\u001b[0m \u001b[0mself\u001b[0m\u001b[0;34m.\u001b[0m\u001b[0m_start_time\u001b[0m\u001b[0;34m\u001b[0m\u001b[0;34m\u001b[0m\u001b[0m\n",
      "\u001b[0;32m~/.local/lib/python3.6/site-packages/joblib/parallel.py\u001b[0m in \u001b[0;36mretrieve\u001b[0;34m(self)\u001b[0m\n\u001b[1;32m    831\u001b[0m             \u001b[0;32mtry\u001b[0m\u001b[0;34m:\u001b[0m\u001b[0;34m\u001b[0m\u001b[0;34m\u001b[0m\u001b[0m\n\u001b[1;32m    832\u001b[0m                 \u001b[0;32mif\u001b[0m \u001b[0mgetattr\u001b[0m\u001b[0;34m(\u001b[0m\u001b[0mself\u001b[0m\u001b[0;34m.\u001b[0m\u001b[0m_backend\u001b[0m\u001b[0;34m,\u001b[0m \u001b[0;34m'supports_timeout'\u001b[0m\u001b[0;34m,\u001b[0m \u001b[0;32mFalse\u001b[0m\u001b[0;34m)\u001b[0m\u001b[0;34m:\u001b[0m\u001b[0;34m\u001b[0m\u001b[0;34m\u001b[0m\u001b[0m\n\u001b[0;32m--> 833\u001b[0;31m                     \u001b[0mself\u001b[0m\u001b[0;34m.\u001b[0m\u001b[0m_output\u001b[0m\u001b[0;34m.\u001b[0m\u001b[0mextend\u001b[0m\u001b[0;34m(\u001b[0m\u001b[0mjob\u001b[0m\u001b[0;34m.\u001b[0m\u001b[0mget\u001b[0m\u001b[0;34m(\u001b[0m\u001b[0mtimeout\u001b[0m\u001b[0;34m=\u001b[0m\u001b[0mself\u001b[0m\u001b[0;34m.\u001b[0m\u001b[0mtimeout\u001b[0m\u001b[0;34m)\u001b[0m\u001b[0;34m)\u001b[0m\u001b[0;34m\u001b[0m\u001b[0;34m\u001b[0m\u001b[0m\n\u001b[0m\u001b[1;32m    834\u001b[0m                 \u001b[0;32melse\u001b[0m\u001b[0;34m:\u001b[0m\u001b[0;34m\u001b[0m\u001b[0;34m\u001b[0m\u001b[0m\n\u001b[1;32m    835\u001b[0m                     \u001b[0mself\u001b[0m\u001b[0;34m.\u001b[0m\u001b[0m_output\u001b[0m\u001b[0;34m.\u001b[0m\u001b[0mextend\u001b[0m\u001b[0;34m(\u001b[0m\u001b[0mjob\u001b[0m\u001b[0;34m.\u001b[0m\u001b[0mget\u001b[0m\u001b[0;34m(\u001b[0m\u001b[0;34m)\u001b[0m\u001b[0;34m)\u001b[0m\u001b[0;34m\u001b[0m\u001b[0;34m\u001b[0m\u001b[0m\n",
      "\u001b[0;32m~/.local/lib/python3.6/site-packages/joblib/_parallel_backends.py\u001b[0m in \u001b[0;36mwrap_future_result\u001b[0;34m(future, timeout)\u001b[0m\n\u001b[1;32m    519\u001b[0m         AsyncResults.get from multiprocessing.\"\"\"\n\u001b[1;32m    520\u001b[0m         \u001b[0;32mtry\u001b[0m\u001b[0;34m:\u001b[0m\u001b[0;34m\u001b[0m\u001b[0;34m\u001b[0m\u001b[0m\n\u001b[0;32m--> 521\u001b[0;31m             \u001b[0;32mreturn\u001b[0m \u001b[0mfuture\u001b[0m\u001b[0;34m.\u001b[0m\u001b[0mresult\u001b[0m\u001b[0;34m(\u001b[0m\u001b[0mtimeout\u001b[0m\u001b[0;34m=\u001b[0m\u001b[0mtimeout\u001b[0m\u001b[0;34m)\u001b[0m\u001b[0;34m\u001b[0m\u001b[0;34m\u001b[0m\u001b[0m\n\u001b[0m\u001b[1;32m    522\u001b[0m         \u001b[0;32mexcept\u001b[0m \u001b[0mLokyTimeoutError\u001b[0m\u001b[0;34m:\u001b[0m\u001b[0;34m\u001b[0m\u001b[0;34m\u001b[0m\u001b[0m\n\u001b[1;32m    523\u001b[0m             \u001b[0;32mraise\u001b[0m \u001b[0mTimeoutError\u001b[0m\u001b[0;34m(\u001b[0m\u001b[0;34m)\u001b[0m\u001b[0;34m\u001b[0m\u001b[0;34m\u001b[0m\u001b[0m\n",
      "\u001b[0;32m/usr/lib/python3.6/concurrent/futures/_base.py\u001b[0m in \u001b[0;36mresult\u001b[0;34m(self, timeout)\u001b[0m\n\u001b[1;32m    425\u001b[0m                 \u001b[0;32mreturn\u001b[0m \u001b[0mself\u001b[0m\u001b[0;34m.\u001b[0m\u001b[0m__get_result\u001b[0m\u001b[0;34m(\u001b[0m\u001b[0;34m)\u001b[0m\u001b[0;34m\u001b[0m\u001b[0;34m\u001b[0m\u001b[0m\n\u001b[1;32m    426\u001b[0m \u001b[0;34m\u001b[0m\u001b[0m\n\u001b[0;32m--> 427\u001b[0;31m             \u001b[0mself\u001b[0m\u001b[0;34m.\u001b[0m\u001b[0m_condition\u001b[0m\u001b[0;34m.\u001b[0m\u001b[0mwait\u001b[0m\u001b[0;34m(\u001b[0m\u001b[0mtimeout\u001b[0m\u001b[0;34m)\u001b[0m\u001b[0;34m\u001b[0m\u001b[0;34m\u001b[0m\u001b[0m\n\u001b[0m\u001b[1;32m    428\u001b[0m \u001b[0;34m\u001b[0m\u001b[0m\n\u001b[1;32m    429\u001b[0m             \u001b[0;32mif\u001b[0m \u001b[0mself\u001b[0m\u001b[0;34m.\u001b[0m\u001b[0m_state\u001b[0m \u001b[0;32min\u001b[0m \u001b[0;34m[\u001b[0m\u001b[0mCANCELLED\u001b[0m\u001b[0;34m,\u001b[0m \u001b[0mCANCELLED_AND_NOTIFIED\u001b[0m\u001b[0;34m]\u001b[0m\u001b[0;34m:\u001b[0m\u001b[0;34m\u001b[0m\u001b[0;34m\u001b[0m\u001b[0m\n",
      "\u001b[0;32m/usr/lib/python3.6/threading.py\u001b[0m in \u001b[0;36mwait\u001b[0;34m(self, timeout)\u001b[0m\n\u001b[1;32m    293\u001b[0m         \u001b[0;32mtry\u001b[0m\u001b[0;34m:\u001b[0m    \u001b[0;31m# restore state no matter what (e.g., KeyboardInterrupt)\u001b[0m\u001b[0;34m\u001b[0m\u001b[0;34m\u001b[0m\u001b[0m\n\u001b[1;32m    294\u001b[0m             \u001b[0;32mif\u001b[0m \u001b[0mtimeout\u001b[0m \u001b[0;32mis\u001b[0m \u001b[0;32mNone\u001b[0m\u001b[0;34m:\u001b[0m\u001b[0;34m\u001b[0m\u001b[0;34m\u001b[0m\u001b[0m\n\u001b[0;32m--> 295\u001b[0;31m                 \u001b[0mwaiter\u001b[0m\u001b[0;34m.\u001b[0m\u001b[0macquire\u001b[0m\u001b[0;34m(\u001b[0m\u001b[0;34m)\u001b[0m\u001b[0;34m\u001b[0m\u001b[0;34m\u001b[0m\u001b[0m\n\u001b[0m\u001b[1;32m    296\u001b[0m                 \u001b[0mgotit\u001b[0m \u001b[0;34m=\u001b[0m \u001b[0;32mTrue\u001b[0m\u001b[0;34m\u001b[0m\u001b[0;34m\u001b[0m\u001b[0m\n\u001b[1;32m    297\u001b[0m             \u001b[0;32melse\u001b[0m\u001b[0;34m:\u001b[0m\u001b[0;34m\u001b[0m\u001b[0;34m\u001b[0m\u001b[0m\n",
      "\u001b[0;31mKeyboardInterrupt\u001b[0m: "
     ]
    }
   ],
   "source": [
    "#on crée un nouveau modèle gradient Boosting\n",
    "GB = GradientBoostingClassifier()\n",
    "\n",
    "#on crée un dictionnaire de toutes les valeurs que nous voulons tester\n",
    "param_grid_GB = {\n",
    "                  \"learning_rate\" : [0.001, 0.01, 0.05, 0.1, 0.5],\n",
    "                  \"n_estimators\": [50, 100, 200],\n",
    "                  \"subsample\": [0.5,1.0], \n",
    "                  \"max_depth\": [4, 6, 8], \n",
    "                  \"max_features\": [0.25, 0.5, 0.75, 1.0]\n",
    "                   }\n",
    "\n",
    "#on utilise gridsearch pour tester toutes les valeurs de param_grid\n",
    "GB_gscv = GridSearchCV(GB, param_grid_GB, cv=5, n_jobs=-1, verbose=10)\n",
    "\n",
    "#ajustement du modèle aux données\n",
    "t_debut = time.time()\n",
    "GB_gscv.fit(X_train_pca, y_train)\n",
    "t_fin = time.time()\n",
    "\n",
    "temps_GB = (t_fin - t_debut)/60\n",
    "\n",
    "print(\"Précision Train: \",round(GB_gscv.score(X_train_pca,y_train),3))\n",
    "print(\"Précision Test: \",round(GB_gscv.score(X_test_pca,y_test),3))\n",
    "print(\"\\n\")\n",
    "\n",
    "print(GB_gscv.best_params_)"
   ]
  },
  {
   "cell_type": "code",
   "execution_count": null,
   "metadata": {},
   "outputs": [],
   "source": [
    "# save the model to disk\n",
    "filename = 'modeles/GB_gscv'\n",
    "\n",
    "joblib.dump(GB_gscv, filename)\n",
    "\n",
    "# load the model from disk\n",
    "GB_gscv = joblib.load(filename)"
   ]
  },
  {
   "cell_type": "code",
   "execution_count": null,
   "metadata": {},
   "outputs": [],
   "source": [
    "y_pred_GB = GB_gscv.predict(X_test_pca)\n",
    "\n",
    "#Sklearn's classification_report montre quelques-unes des principales mesures de classification pour chaque classe:\n",
    "print(classification_report(y_test, y_pred_GB, target_names=target_names))"
   ]
  },
  {
   "cell_type": "code",
   "execution_count": null,
   "metadata": {},
   "outputs": [],
   "source": [
    "print(confusion_matrix(y_test, y_pred_GB, labels=range(n_classes)))"
   ]
  },
  {
   "cell_type": "markdown",
   "metadata": {},
   "source": [
    "#### f. Combinaison de modéles"
   ]
  },
  {
   "cell_type": "raw",
   "metadata": {},
   "source": [
    "On peut combiner tous les modéles et faire un vote mojoritaire:"
   ]
  },
  {
   "cell_type": "code",
   "execution_count": 60,
   "metadata": {},
   "outputs": [],
   "source": [
    "Estimateurs = [('linear', svmLINEAR_gscv.best_estimator_), # a.\n",
    "               ('poly', svmPOLY_gscv.best_estimator_), # b.\n",
    "               ('rbf', svmRBF_gscv.best_estimator_), # c.\n",
    "               ('logit', Logit_gscv.best_estimator_) # d.\n",
    "              ]\n",
    "\n",
    "poids = [svmLINEAR_gscv.score(X_test_pca, y_test),\n",
    "         svmPOLY_gscv.score(X_test_pca, y_test),\n",
    "         svmRBF_gscv.score(X_test_pca, y_test),\n",
    "         Logit_gscv.score(X_test_pca, y_test)\n",
    "        ]\n",
    "\n",
    "SVM = VotingClassifier(estimators=Estimateurs, \n",
    "                       voting='soft',\n",
    "                       weights=poids,\n",
    "                       n_jobs=-1)"
   ]
  },
  {
   "cell_type": "code",
   "execution_count": 61,
   "metadata": {},
   "outputs": [
    {
     "data": {
      "text/plain": [
       "VotingClassifier(estimators=[('linear',\n",
       "                              SVC(C=0.01, cache_size=200,\n",
       "                                  class_weight='balanced', coef0=0.0,\n",
       "                                  decision_function_shape='ovr', degree=3,\n",
       "                                  gamma='auto_deprecated', kernel='linear',\n",
       "                                  max_iter=-1, probability=True,\n",
       "                                  random_state=None, shrinking=True, tol=0.001,\n",
       "                                  verbose=False)),\n",
       "                             ('poly',\n",
       "                              SVC(C=1, cache_size=200, class_weight='balanced',\n",
       "                                  coef0=0.5, decision_function_s...\n",
       "                                                 class_weight='balanced',\n",
       "                                                 dual=False, fit_intercept=True,\n",
       "                                                 intercept_scaling=1,\n",
       "                                                 l1_ratio=None, max_iter=200,\n",
       "                                                 multi_class='ovr', n_jobs=None,\n",
       "                                                 penalty='l2',\n",
       "                                                 random_state=None,\n",
       "                                                 solver='saga', tol=0.0001,\n",
       "                                                 verbose=0,\n",
       "                                                 warm_start=False))],\n",
       "                 flatten_transform=True, n_jobs=-1, voting='soft',\n",
       "                 weights=[0.7881136950904393, 0.7881136950904393,\n",
       "                          0.46511627906976744, 0.7958656330749354])"
      ]
     },
     "execution_count": 61,
     "metadata": {},
     "output_type": "execute_result"
    }
   ],
   "source": [
    "#SVM.fit(X_train_pca, y_train)"
   ]
  },
  {
   "cell_type": "code",
   "execution_count": 62,
   "metadata": {},
   "outputs": [],
   "source": [
    "# save the model to disk\n",
    "filename = 'modeles/SVM'\n",
    "#joblib.dump(SVM, filename)\n",
    "\n",
    "# load the model from disk\n",
    "SVM = joblib.load(filename)"
   ]
  },
  {
   "cell_type": "code",
   "execution_count": 63,
   "metadata": {},
   "outputs": [
    {
     "name": "stdout",
     "output_type": "stream",
     "text": [
      "Précision Train:  1.0\n",
      "Précision Test:  0.835\n"
     ]
    }
   ],
   "source": [
    "print(\"Précision Train: \",round(SVM.score(X_train_pca,y_train),3))\n",
    "print(\"Précision Test: \",round(SVM.score(X_test_pca,y_test),3))"
   ]
  },
  {
   "cell_type": "code",
   "execution_count": 83,
   "metadata": {},
   "outputs": [
    {
     "name": "stdout",
     "output_type": "stream",
     "text": [
      "                   precision    recall  f1-score   support\n",
      "\n",
      "     Ariel Sharon       0.81      0.72      0.76        18\n",
      "     Colin Powell       0.88      0.87      0.88        69\n",
      "  Donald Rumsfeld       0.73      0.65      0.69        34\n",
      "    George W Bush       0.83      0.94      0.88       166\n",
      "Gerhard Schroeder       0.83      0.77      0.80        31\n",
      "      Hugo Chavez       0.92      0.63      0.75        19\n",
      "       Tony Blair       0.84      0.72      0.77        50\n",
      "\n",
      "         accuracy                           0.83       387\n",
      "        macro avg       0.84      0.76      0.79       387\n",
      "     weighted avg       0.84      0.83      0.83       387\n",
      "\n"
     ]
    }
   ],
   "source": [
    "y_pred_SVM = SVM.predict(X_test_pca)\n",
    "\n",
    "#Sklearn's classification_report montre quelques-unes des principales mesures de classification pour chaque classe:\n",
    "print(classification_report(y_test, y_pred_SVM, target_names=target_names))"
   ]
  },
  {
   "cell_type": "code",
   "execution_count": 65,
   "metadata": {
    "scrolled": true
   },
   "outputs": [
    {
     "name": "stdout",
     "output_type": "stream",
     "text": [
      "[[ 13   0   3   2   0   0   0]\n",
      " [  1  60   0   4   1   1   2]\n",
      " [  1   2  22   9   0   0   0]\n",
      " [  0   3   5 156   1   0   1]\n",
      " [  0   0   0   3  24   0   4]\n",
      " [  1   3   0   2   1  12   0]\n",
      " [  0   0   0  12   2   0  36]]\n"
     ]
    }
   ],
   "source": [
    "print(confusion_matrix(y_test, y_pred_SVM, labels=range(n_classes)))"
   ]
  },
  {
   "cell_type": "markdown",
   "metadata": {},
   "source": []
  },
  {
   "cell_type": "code",
   "execution_count": 86,
   "metadata": {
    "scrolled": true
   },
   "outputs": [
    {
     "data": {
      "image/png": "[encoded data removed]",
      "text/plain": [
       "<Figure size 907.2x518.4 with 21 Axes>"
      ]
     },
     "metadata": {},
     "output_type": "display_data"
    }
   ],
   "source": [
    "def plot_gallery(images, titles, h, w, n_row=3, n_col=7):\n",
    "    \"\"\"Helper function to plot a gallery of portraits\"\"\"\n",
    "    pl.figure(figsize=(1.8 * n_col, 2.4 * n_row))\n",
    "    pl.subplots_adjust(bottom=0, left=.01, right=.99, top=.90, hspace=.35)\n",
    "    for i in range(n_row * n_col):\n",
    "        pl.subplot(n_row, n_col, i + 1)\n",
    "        pl.imshow(images[i].reshape((h, w)), cmap=pl.cm.gray)\n",
    "        pl.title(titles[i], size=12)\n",
    "        pl.xticks(())\n",
    "        pl.yticks(())\n",
    "\n",
    "\n",
    "\n",
    "# plot the result of the prediction on a portion of the test set\n",
    "\n",
    "def title(y_pred, y_test, target_names, i):\n",
    "    pred_name = target_names[y_pred[i]].rsplit(' ', 1)[-1]\n",
    "    true_name = target_names[y_test[i]].rsplit(' ', 1)[-1]\n",
    "    return ('predicted: %s\\ntrue:      %s' % (pred_name, true_name))\n",
    "\n",
    "prediction_titles = [title(y_pred_SVM, y_test, target_names, i)\n",
    "                         for i in range(y_pred_SVM.shape[0])]\n",
    "\n",
    "plot_gallery(X_test, prediction_titles, h, w)\n",
    "\n",
    "pl.show()"
   ]
  },
  {
   "cell_type": "code",
   "execution_count": 90,
   "metadata": {
    "scrolled": true
   },
   "outputs": [
    {
     "data": {
      "image/png": "[encoded data removed]",
      "text/plain": [
       "<Figure size 907.2x518.4 with 21 Axes>"
      ]
     },
     "metadata": {},
     "output_type": "display_data"
    }
   ],
   "source": [
    "eigenface_titles = [\"eigenface %d\" % i for i in range(eigenfaces.shape[0])]\n",
    "plot_gallery(eigenfaces, eigenface_titles, h, w)\n",
    "\n",
    "pl.show()"
   ]
  },
  {
   "cell_type": "markdown",
   "metadata": {},
   "source": [
    "### Remarques"
   ]
  },
  {
   "cell_type": "raw",
   "metadata": {},
   "source": [
    "Changez n_components aux valeurs suivantes : [10, 15, 25, 50, 100, 250]. Pour chaque nombre de composantes principales, notez le score F1 d'Ariel Sharon. (Pour 10 PC, les fonctions de traçage dans le code seront cassées, mais vous devriez être en mesure de voir les scores F1.) Si vous voyez un score plus élevé en F1, cela signifie-t-il que le classificateur va mieux, ou pire ?\n",
    "\n",
    "Quizz : Réduction de la dimensionnalité et surdimensionnalité\n",
    "Voyez-vous des signes de surajustement lorsque vous utilisez un grand nombre de PC ? La réduction de la dimensionnalité de l'ACP semble-t-elle vous aider dans ce domaine ?"
   ]
  }
 ],
 "metadata": {
  "kernelspec": {
   "display_name": "Python 3",
   "language": "python",
   "name": "python3"
  },
  "language_info": {
   "codemirror_mode": {
    "name": "ipython",
    "version": 3
   },
   "file_extension": ".py",
   "mimetype": "text/x-python",
   "name": "python",
   "nbconvert_exporter": "python",
   "pygments_lexer": "ipython3",
   "version": "3.6.8"
  }
 },
 "nbformat": 4,
 "nbformat_minor": 2
}
