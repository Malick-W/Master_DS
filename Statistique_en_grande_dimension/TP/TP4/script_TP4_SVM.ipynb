{
 "cells": [
  {
   "cell_type": "markdown",
   "metadata": {},
   "source": [
    "# Statistique en Grande Dimension et Apprentissage - TP 4 SVM"
   ]
  },
  {
   "cell_type": "markdown",
   "metadata": {},
   "source": [
    "Les SVM à noyaux sont implémentées dans \"scikit-learn\" dans les classes \"sklearn.svm.SVC\" pour la classification et \"sklearn.svm.SVR\" pour la régression. Dans ces deux classes, on peut spécifier un noyau grâce au paramètre «kernel». Ce noyau peut être (linéaire, polynomial, RBF), mais on peut aussi définir vos propres noyaux !"
   ]
  },
  {
   "cell_type": "code",
   "execution_count": 1,
   "metadata": {},
   "outputs": [],
   "source": [
    "from random import *\n",
    "import numpy as np\n",
    "import pandas as pd\n",
    "\n",
    "import matplotlib.pyplot as plt\n",
    "import seaborn as sns\n",
    "\n",
    "from sklearn.svm import SVC\n",
    "from sklearn.metrics import confusion_matrix\n"
   ]
  },
  {
   "cell_type": "markdown",
   "metadata": {},
   "source": [
    "## Exercice 1 (Exemples simulés)"
   ]
  },
  {
   "cell_type": "markdown",
   "metadata": {},
   "source": [
    "## Exemple 1"
   ]
  },
  {
   "cell_type": "markdown",
   "metadata": {},
   "source": [
    "### 1. "
   ]
  },
  {
   "cell_type": "code",
   "execution_count": 2,
   "metadata": {},
   "outputs": [],
   "source": [
    "def Echantillon(n):\n",
    "    \n",
    "    x = np.random.uniform(-3,3,n)\n",
    "    b = np.random.uniform(-3,3,n)\n",
    "    Y = np.zeros(n)\n",
    "    \n",
    "    Y[b > 0] = [1 for i in range(np.sum(b > 0))]\n",
    "    Y[b < 0] = [-1 for i in range(np.sum(b < 0))]\n",
    "    \n",
    "    return pd.DataFrame({'X1': x,'X2': x+b,'Y': Y.astype(int)})"
   ]
  },
  {
   "cell_type": "code",
   "execution_count": 3,
   "metadata": {},
   "outputs": [
    {
     "data": {
      "text/html": [
       "<div>\n",
       "<style scoped>\n",
       "    .dataframe tbody tr th:only-of-type {\n",
       "        vertical-align: middle;\n",
       "    }\n",
       "\n",
       "    .dataframe tbody tr th {\n",
       "        vertical-align: top;\n",
       "    }\n",
       "\n",
       "    .dataframe thead th {\n",
       "        text-align: right;\n",
       "    }\n",
       "</style>\n",
       "<table border=\"1\" class=\"dataframe\">\n",
       "  <thead>\n",
       "    <tr style=\"text-align: right;\">\n",
       "      <th></th>\n",
       "      <th>X1</th>\n",
       "      <th>X2</th>\n",
       "      <th>Y</th>\n",
       "    </tr>\n",
       "  </thead>\n",
       "  <tbody>\n",
       "    <tr>\n",
       "      <th>0</th>\n",
       "      <td>-0.740103</td>\n",
       "      <td>-2.127679</td>\n",
       "      <td>-1</td>\n",
       "    </tr>\n",
       "    <tr>\n",
       "      <th>1</th>\n",
       "      <td>-1.472164</td>\n",
       "      <td>-0.079017</td>\n",
       "      <td>1</td>\n",
       "    </tr>\n",
       "    <tr>\n",
       "      <th>2</th>\n",
       "      <td>-0.379676</td>\n",
       "      <td>-3.207151</td>\n",
       "      <td>-1</td>\n",
       "    </tr>\n",
       "    <tr>\n",
       "      <th>3</th>\n",
       "      <td>-2.430497</td>\n",
       "      <td>-1.163775</td>\n",
       "      <td>1</td>\n",
       "    </tr>\n",
       "    <tr>\n",
       "      <th>4</th>\n",
       "      <td>-1.267545</td>\n",
       "      <td>-0.401574</td>\n",
       "      <td>1</td>\n",
       "    </tr>\n",
       "    <tr>\n",
       "      <th>5</th>\n",
       "      <td>-1.669619</td>\n",
       "      <td>-1.756404</td>\n",
       "      <td>-1</td>\n",
       "    </tr>\n",
       "    <tr>\n",
       "      <th>6</th>\n",
       "      <td>-1.703141</td>\n",
       "      <td>-3.676930</td>\n",
       "      <td>-1</td>\n",
       "    </tr>\n",
       "    <tr>\n",
       "      <th>7</th>\n",
       "      <td>1.707274</td>\n",
       "      <td>0.194182</td>\n",
       "      <td>-1</td>\n",
       "    </tr>\n",
       "    <tr>\n",
       "      <th>8</th>\n",
       "      <td>2.956698</td>\n",
       "      <td>2.522947</td>\n",
       "      <td>-1</td>\n",
       "    </tr>\n",
       "    <tr>\n",
       "      <th>9</th>\n",
       "      <td>0.842986</td>\n",
       "      <td>1.961938</td>\n",
       "      <td>1</td>\n",
       "    </tr>\n",
       "  </tbody>\n",
       "</table>\n",
       "</div>"
      ],
      "text/plain": [
       "         X1        X2  Y\n",
       "0 -0.740103 -2.127679 -1\n",
       "1 -1.472164 -0.079017  1\n",
       "2 -0.379676 -3.207151 -1\n",
       "3 -2.430497 -1.163775  1\n",
       "4 -1.267545 -0.401574  1\n",
       "5 -1.669619 -1.756404 -1\n",
       "6 -1.703141 -3.676930 -1\n",
       "7  1.707274  0.194182 -1\n",
       "8  2.956698  2.522947 -1\n",
       "9  0.842986  1.961938  1"
      ]
     },
     "execution_count": 3,
     "metadata": {},
     "output_type": "execute_result"
    }
   ],
   "source": [
    "from random import *\n",
    "import numpy as np\n",
    "import pandas as pd\n",
    "\n",
    "pd.set_option('display.max_rows', 500)\n",
    "pd.set_option('display.max_columns', 500)\n",
    "\n",
    "n = 200\n",
    "\n",
    "df = Echantillon(n)\n",
    "df.head(10)"
   ]
  },
  {
   "cell_type": "code",
   "execution_count": 4,
   "metadata": {},
   "outputs": [
    {
     "data": {
      "text/plain": [
       "<matplotlib.axes._subplots.AxesSubplot at 0x7f9697769240>"
      ]
     },
     "execution_count": 4,
     "metadata": {},
     "output_type": "execute_result"
    },
    {
     "data": {
      "image/png": "[encoded data removed]",
      "text/plain": [
       "<Figure size 576x576 with 1 Axes>"
      ]
     },
     "metadata": {},
     "output_type": "display_data"
    }
   ],
   "source": [
    "import matplotlib.pyplot as plt\n",
    "import seaborn as sns\n",
    "\n",
    "sns.set(style=\"darkgrid\")\n",
    "plt.figure(figsize=(8,8))\n",
    "\n",
    "#plt.plot([-3, 3], [-3, 3], sns.xkcd_rgb[\"denim blue\"], lw=3);\n",
    "\n",
    "sn = sns.scatterplot(x=\"X1\", y=\"X2\", hue=\"Y\", palette=[\"C0\", \"C1\"], data=df, s =50)\n",
    "sn"
   ]
  },
  {
   "cell_type": "code",
   "execution_count": 5,
   "metadata": {},
   "outputs": [
    {
     "data": {
      "text/plain": [
       "0"
      ]
     },
     "execution_count": 5,
     "metadata": {},
     "output_type": "execute_result"
    }
   ],
   "source": [
    "sum(df[\"Y\"]==0)"
   ]
  },
  {
   "cell_type": "markdown",
   "metadata": {},
   "source": [
    "### 2."
   ]
  },
  {
   "cell_type": "code",
   "execution_count": 6,
   "metadata": {},
   "outputs": [
    {
     "data": {
      "text/plain": [
       "SVC(C=100, cache_size=200, class_weight=None, coef0=0.0,\n",
       "    decision_function_shape='ovr', degree=3, gamma='auto_deprecated',\n",
       "    kernel='linear', max_iter=-1, probability=False, random_state=None,\n",
       "    shrinking=True, tol=0.001, verbose=False)"
      ]
     },
     "execution_count": 6,
     "metadata": {},
     "output_type": "execute_result"
    }
   ],
   "source": [
    "from sklearn.svm import SVC\n",
    "\n",
    "svmlinear = SVC(C=100,kernel='linear')\n",
    "svmlinear.fit(df[[\"X1\",\"X2\"]], df[\"Y\"])"
   ]
  },
  {
   "cell_type": "markdown",
   "metadata": {},
   "source": [
    "### 3."
   ]
  },
  {
   "cell_type": "markdown",
   "metadata": {},
   "source": [
    "### 4."
   ]
  },
  {
   "cell_type": "code",
   "execution_count": 7,
   "metadata": {},
   "outputs": [
    {
     "name": "stdout",
     "output_type": "stream",
     "text": [
      "nombre de vecteurs supports:  5 \n",
      "\n",
      "[[-2.32252221 -2.33520452]\n",
      " [ 0.37635101  0.35822931]\n",
      " [ 1.76709834  1.74798111]\n",
      " [ 0.17125125  0.18207305]\n",
      " [ 1.78794367  1.95980582]]\n"
     ]
    }
   ],
   "source": [
    "xi = svmlinear.support_vectors_ # coordonnées des vecteur supports\n",
    "print(\"nombre de vecteurs supports: \", xi.shape[0],\"\\n\")\n",
    "print(xi)"
   ]
  },
  {
   "cell_type": "code",
   "execution_count": 8,
   "metadata": {},
   "outputs": [
    {
     "name": "stdout",
     "output_type": "stream",
     "text": [
      "[ 29 106 138  40  80]\n"
     ]
    }
   ],
   "source": [
    "print(svmlinear.support_) # indice des vecteur supports"
   ]
  },
  {
   "cell_type": "raw",
   "metadata": {},
   "source": [
    "SVC intègre une spécificité intéressante, l’objet fournit automatiquement les coefficients de\n",
    "la droite de séparation lorsque le noyau est linéaire:"
   ]
  },
  {
   "cell_type": "code",
   "execution_count": 9,
   "metadata": {},
   "outputs": [
    {
     "name": "stdout",
     "output_type": "stream",
     "text": [
      "[[-10.34260251  10.36388816]]\n"
     ]
    }
   ],
   "source": [
    "#coefficients beta1 et beta2\n",
    "print(svmlinear.coef_)"
   ]
  },
  {
   "cell_type": "code",
   "execution_count": 10,
   "metadata": {},
   "outputs": [
    {
     "name": "stdout",
     "output_type": "stream",
     "text": [
      "-0.819533883440351\n"
     ]
    }
   ],
   "source": [
    "beta0 = svmlinear.intercept_[0] # l'intercept beta0\n",
    "print(beta0)"
   ]
  },
  {
   "cell_type": "raw",
   "metadata": {},
   "source": [
    "L'équation de l'hyperplan séparateur en fonction de x est:\n",
    "# beta1*x1 + beta2*x2 + beta0 = 0"
   ]
  },
  {
   "cell_type": "markdown",
   "metadata": {},
   "source": [
    "### 5.\n"
   ]
  },
  {
   "cell_type": "raw",
   "metadata": {},
   "source": [
    "Ici, cost = C. Il règle le taux de souplesse.\n",
    "Plus \"cost\" est grand, moins le modéle \"tolère\" les erreurs de classification. \"cost\" doit être trés grand pour avoir le SVM non flexible."
   ]
  },
  {
   "cell_type": "markdown",
   "metadata": {},
   "source": [
    "### 6. "
   ]
  },
  {
   "cell_type": "code",
   "execution_count": 11,
   "metadata": {},
   "outputs": [
    {
     "name": "stdout",
     "output_type": "stream",
     "text": [
      "matrice de confusion\n"
     ]
    },
    {
     "data": {
      "text/plain": [
       "array([[114,   0],\n",
       "       [  1,  85]])"
      ]
     },
     "execution_count": 11,
     "metadata": {},
     "output_type": "execute_result"
    }
   ],
   "source": [
    "from sklearn.metrics import confusion_matrix\n",
    "\n",
    "prediction=svmlinear.predict(df[[\"X1\",\"X2\"]])\n",
    "\n",
    "print(\"matrice de confusion\")\n",
    "M1 = confusion_matrix(df[\"Y\"], prediction)\n",
    "M1"
   ]
  },
  {
   "cell_type": "code",
   "execution_count": 12,
   "metadata": {},
   "outputs": [
    {
     "name": "stdout",
     "output_type": "stream",
     "text": [
      "Précision de classification d'entraînement: 0.995\n"
     ]
    }
   ],
   "source": [
    "print(\"Précision de classification d'entraînement:\", M1.trace()/M1.sum())"
   ]
  },
  {
   "cell_type": "markdown",
   "metadata": {},
   "source": [
    "### 7."
   ]
  },
  {
   "cell_type": "code",
   "execution_count": 13,
   "metadata": {},
   "outputs": [
    {
     "name": "stdout",
     "output_type": "stream",
     "text": [
      "matrice de confusion\n"
     ]
    },
    {
     "data": {
      "text/plain": [
       "array([[50,  0],\n",
       "       [ 3, 47]])"
      ]
     },
     "execution_count": 13,
     "metadata": {},
     "output_type": "execute_result"
    }
   ],
   "source": [
    "df_test = Echantillon(100)\n",
    "\n",
    "prediction_test = svmlinear.predict(df_test[[\"X1\",\"X2\"]])\n",
    "\n",
    "print(\"matrice de confusion\")\n",
    "M_test = confusion_matrix(df_test[\"Y\"], prediction_test)\n",
    "M_test"
   ]
  },
  {
   "cell_type": "code",
   "execution_count": 14,
   "metadata": {},
   "outputs": [
    {
     "name": "stdout",
     "output_type": "stream",
     "text": [
      "Précision de classification de test: 0.97\n"
     ]
    }
   ],
   "source": [
    "print(\"Précision de classification de test:\", M_test.trace()/M_test.sum())"
   ]
  },
  {
   "cell_type": "markdown",
   "metadata": {},
   "source": [
    "### 8."
   ]
  },
  {
   "cell_type": "code",
   "execution_count": 15,
   "metadata": {},
   "outputs": [
    {
     "data": {
      "text/plain": [
       "SVC(C=1.0, cache_size=200, class_weight=None, coef0=0.0,\n",
       "    decision_function_shape='ovr', degree=3, gamma='auto_deprecated',\n",
       "    kernel='rbf', max_iter=-1, probability=False, random_state=None,\n",
       "    shrinking=True, tol=0.001, verbose=False)"
      ]
     },
     "execution_count": 15,
     "metadata": {},
     "output_type": "execute_result"
    }
   ],
   "source": [
    "svm_defaut = SVC()\n",
    "svm_defaut # le noyau par default sur sklearn est 'rbf'\n",
    "# RBF :  Radial Basis Function, désigne souvent le noyau gaussien."
   ]
  },
  {
   "cell_type": "code",
   "execution_count": 16,
   "metadata": {},
   "outputs": [
    {
     "name": "stderr",
     "output_type": "stream",
     "text": [
      "/app/anaconda/3-2019-07/lib/python3.7/site-packages/sklearn/svm/base.py:193: FutureWarning: The default value of gamma will change from 'auto' to 'scale' in version 0.22 to account better for unscaled features. Set gamma explicitly to 'auto' or 'scale' to avoid this warning.\n",
      "  \"avoid this warning.\", FutureWarning)\n"
     ]
    }
   ],
   "source": [
    "svm_defaut.fit(df[[\"X1\",\"X2\"]], df[\"Y\"])\n",
    "prediction_defaut=svm_defaut.predict(df_test[[\"X1\",\"X2\"]])"
   ]
  },
  {
   "cell_type": "code",
   "execution_count": 17,
   "metadata": {},
   "outputs": [
    {
     "name": "stdout",
     "output_type": "stream",
     "text": [
      "matrice de confusion:\n",
      "[[50  0]\n",
      " [ 1 49]]\n"
     ]
    }
   ],
   "source": [
    "print(\"matrice de confusion:\")\n",
    "M_defaut = confusion_matrix(df_test[\"Y\"], prediction_defaut)\n",
    "print(M_defaut)"
   ]
  },
  {
   "cell_type": "code",
   "execution_count": 18,
   "metadata": {},
   "outputs": [
    {
     "name": "stdout",
     "output_type": "stream",
     "text": [
      "Précision de classification de test: 0.99\n"
     ]
    }
   ],
   "source": [
    "print(\"Précision de classification de test:\", M_defaut.trace()/M_defaut.sum())"
   ]
  },
  {
   "cell_type": "markdown",
   "metadata": {},
   "source": [
    "## Exemple 2"
   ]
  },
  {
   "cell_type": "markdown",
   "metadata": {},
   "source": [
    "### 1. & 2."
   ]
  },
  {
   "cell_type": "code",
   "execution_count": 19,
   "metadata": {},
   "outputs": [],
   "source": [
    "from random import *\n",
    "import numpy as np\n",
    "import pandas as pd\n",
    "\n",
    "\n",
    "def Echantillon(n,p):\n",
    "    X = np.random.randn(n*p)\n",
    "    X = X.reshape(n,p)\n",
    "    Y = np.ones(n)\n",
    "\n",
    "    df = pd.DataFrame({'X1': X[:,0],'X2': X[:,1],'Y': Y})\n",
    "\n",
    "    Norme = df[['X1','X2']].apply(lambda x: sum(x**2), axis=1)\n",
    "    Y[Norme > p] = -1\n",
    "\n",
    "    df['Y'] = Y\n",
    "    df['Y'] = df['Y'].astype(int)\n",
    "\n",
    "    print(df.dtypes)\n",
    "    \n",
    "    return df"
   ]
  },
  {
   "cell_type": "code",
   "execution_count": 20,
   "metadata": {},
   "outputs": [
    {
     "name": "stdout",
     "output_type": "stream",
     "text": [
      "X1    float64\n",
      "X2    float64\n",
      "Y       int64\n",
      "dtype: object\n"
     ]
    }
   ],
   "source": [
    "n = 100\n",
    "p = 2\n",
    "\n",
    "df = Echantillon(n,p)"
   ]
  },
  {
   "cell_type": "code",
   "execution_count": 21,
   "metadata": {},
   "outputs": [
    {
     "data": {
      "text/plain": [
       "<matplotlib.axes._subplots.AxesSubplot at 0x7f9696e6f668>"
      ]
     },
     "execution_count": 21,
     "metadata": {},
     "output_type": "execute_result"
    },
    {
     "data": {
      "image/png": "[encoded data removed]",
      "text/plain": [
       "<Figure size 576x576 with 1 Axes>"
      ]
     },
     "metadata": {},
     "output_type": "display_data"
    }
   ],
   "source": [
    "import matplotlib.pyplot as plt\n",
    "import seaborn as sns\n",
    "\n",
    "sns.set(style=\"darkgrid\")\n",
    "plt.figure(figsize=(8,8))\n",
    "\n",
    "sn = sns.scatterplot(x=\"X1\", y=\"X2\", hue=\"Y\", palette=[\"C0\", \"C1\"], data=df, s =50)\n",
    "sn"
   ]
  },
  {
   "cell_type": "markdown",
   "metadata": {},
   "source": [
    "### 3."
   ]
  },
  {
   "cell_type": "markdown",
   "metadata": {},
   "source": [
    "##### a."
   ]
  },
  {
   "cell_type": "code",
   "execution_count": 22,
   "metadata": {},
   "outputs": [
    {
     "data": {
      "text/plain": [
       "SVC(C=10, cache_size=200, class_weight=None, coef0=0.0,\n",
       "    decision_function_shape='ovr', degree=3, gamma='auto', kernel='rbf',\n",
       "    max_iter=-1, probability=False, random_state=None, shrinking=True,\n",
       "    tol=0.001, verbose=False)"
      ]
     },
     "execution_count": 22,
     "metadata": {},
     "output_type": "execute_result"
    }
   ],
   "source": [
    "from sklearn.svm import SVC\n",
    "\n",
    "svmPoly = SVC(C=10,degree=3, gamma='auto',coef0=0.0, kernel='poly')\n",
    "svmPoly.fit(df[[\"X1\",\"X2\"]], df[\"Y\"])\n",
    "\n",
    "svmRBF = SVC(C=10, gamma='auto', kernel='rbf')\n",
    "svmRBF.fit(df[[\"X1\",\"X2\"]], df[\"Y\"])"
   ]
  },
  {
   "cell_type": "markdown",
   "metadata": {},
   "source": [
    "##### b."
   ]
  },
  {
   "cell_type": "code",
   "execution_count": 23,
   "metadata": {},
   "outputs": [
    {
     "name": "stdout",
     "output_type": "stream",
     "text": [
      "X1    float64\n",
      "X2    float64\n",
      "Y       int64\n",
      "dtype: object\n"
     ]
    }
   ],
   "source": [
    "n = 100\n",
    "p = 2\n",
    "df_test = Echantillon(n,p)"
   ]
  },
  {
   "cell_type": "markdown",
   "metadata": {},
   "source": [
    "#### SVM Rbf"
   ]
  },
  {
   "cell_type": "code",
   "execution_count": 24,
   "metadata": {
    "scrolled": true
   },
   "outputs": [
    {
     "name": "stdout",
     "output_type": "stream",
     "text": [
      "Fitting 5 folds for each of 400 candidates, totalling 2000 fits\n"
     ]
    },
    {
     "name": "stderr",
     "output_type": "stream",
     "text": [
      "[Parallel(n_jobs=-1)]: Using backend LokyBackend with 16 concurrent workers.\n",
      "[Parallel(n_jobs=-1)]: Done   9 tasks      | elapsed:    2.8s\n",
      "[Parallel(n_jobs=-1)]: Done  18 tasks      | elapsed:    2.8s\n",
      "[Parallel(n_jobs=-1)]: Done  29 tasks      | elapsed:    2.9s\n",
      "[Parallel(n_jobs=-1)]: Done  40 tasks      | elapsed:    3.0s\n",
      "[Parallel(n_jobs=-1)]: Done  53 tasks      | elapsed:    3.0s\n",
      "[Parallel(n_jobs=-1)]: Batch computation too fast (0.1881s.) Setting batch_size=2.\n",
      "[Parallel(n_jobs=-1)]: Done  66 tasks      | elapsed:    3.1s\n",
      "[Parallel(n_jobs=-1)]: Done  81 tasks      | elapsed:    3.1s\n",
      "[Parallel(n_jobs=-1)]: Batch computation too fast (0.1051s.) Setting batch_size=6.\n",
      "[Parallel(n_jobs=-1)]: Done 105 tasks      | elapsed:    3.2s\n",
      "[Parallel(n_jobs=-1)]: Done 139 tasks      | elapsed:    3.2s\n",
      "[Parallel(n_jobs=-1)]: Batch computation too fast (0.1087s.) Setting batch_size=22.\n",
      "[Parallel(n_jobs=-1)]: Done 217 tasks      | elapsed:    3.4s\n",
      "[Parallel(n_jobs=-1)]: Done 331 tasks      | elapsed:    3.8s\n",
      "[Parallel(n_jobs=-1)]: Done 717 tasks      | elapsed:    3.9s\n",
      "[Parallel(n_jobs=-1)]: Done 1179 tasks      | elapsed:    4.4s\n"
     ]
    },
    {
     "name": "stdout",
     "output_type": "stream",
     "text": [
      "Précision Train:  0.98\n",
      "Précision Test:  0.98\n",
      "\n",
      "\n",
      "{'C': 1.1, 'gamma': 0.2}\n"
     ]
    },
    {
     "name": "stderr",
     "output_type": "stream",
     "text": [
      "[Parallel(n_jobs=-1)]: Done 2000 out of 2000 | elapsed:    4.8s finished\n",
      "/app/anaconda/3-2019-07/lib/python3.7/site-packages/sklearn/model_selection/_search.py:813: DeprecationWarning: The default of the `iid` parameter will change from True to False in version 0.22 and will be removed in 0.24. This will change numeric results when test-set sizes are unequal.\n",
      "  DeprecationWarning)\n"
     ]
    }
   ],
   "source": [
    "from sklearn.model_selection import GridSearchCV\n",
    "\n",
    "#on crée un nouveau modèle SVM à noyau Gaussien\n",
    "svmRBF = SVC(kernel='rbf')\n",
    "\n",
    "#on crée un dictionnaire de toutes les valeurs que nous voulons tester\n",
    "param_grid_RBF = {\"C\": np.arange(0.1, 20), \"gamma\" : np.arange(0,1,0.05)}\n",
    "\n",
    "#on utilise gridsearch pour tester toutes les valeurs de param_grid\n",
    "svmRBF_gscv = GridSearchCV(svmRBF, param_grid_RBF, cv=5, n_jobs=-1, verbose=10)\n",
    "\n",
    "#ajustement du modèle aux données\n",
    "svmRBF_gscv.fit(df[[\"X1\",\"X2\"]], df[\"Y\"])\n",
    "\n",
    "print(\"Précision Train: \",svmRBF_gscv.score(df[[\"X1\",\"X2\"]], df[\"Y\"]))\n",
    "print(\"Précision Test: \",svmRBF_gscv.score(df_test[[\"X1\",\"X2\"]], df_test[\"Y\"]))\n",
    "print(\"\\n\")\n",
    "print(svmRBF_gscv.best_params_)"
   ]
  },
  {
   "cell_type": "code",
   "execution_count": 25,
   "metadata": {},
   "outputs": [
    {
     "data": {
      "text/plain": [
       "{'C': 1.1, 'gamma': 0.2}"
      ]
     },
     "execution_count": 25,
     "metadata": {},
     "output_type": "execute_result"
    }
   ],
   "source": [
    "#les paramétres du modéle le plus performant:\n",
    "svmRBF_gscv.best_params_"
   ]
  },
  {
   "cell_type": "code",
   "execution_count": 26,
   "metadata": {},
   "outputs": [
    {
     "name": "stdout",
     "output_type": "stream",
     "text": [
      "matrice de confusion\n"
     ]
    },
    {
     "data": {
      "text/plain": [
       "array([[29,  2],\n",
       "       [ 0, 69]])"
      ]
     },
     "execution_count": 26,
     "metadata": {},
     "output_type": "execute_result"
    }
   ],
   "source": [
    "from sklearn.metrics import confusion_matrix\n",
    "\n",
    "prediction_test_RBF = svmRBF_gscv.predict(df_test[[\"X1\",\"X2\"]])\n",
    "\n",
    "print(\"matrice de confusion\")\n",
    "M_smvRBF = confusion_matrix(df_test[\"Y\"], prediction_test_RBF)\n",
    "M_smvRBF"
   ]
  },
  {
   "cell_type": "code",
   "execution_count": 27,
   "metadata": {},
   "outputs": [
    {
     "name": "stdout",
     "output_type": "stream",
     "text": [
      "Précision de classification de test: 0.98\n"
     ]
    }
   ],
   "source": [
    "print(\"Précision de classification de test:\", M_smvRBF.trace()/M_smvRBF.sum())"
   ]
  },
  {
   "cell_type": "code",
   "execution_count": 28,
   "metadata": {},
   "outputs": [
    {
     "data": {
      "image/png": "[encoded data removed]",
      "text/plain": [
       "<Figure size 504x504 with 1 Axes>"
      ]
     },
     "metadata": {},
     "output_type": "display_data"
    }
   ],
   "source": [
    "# construire la courbe ROC\n",
    "from sklearn import metrics\n",
    "fpr, tpr, thr = metrics.roc_curve(df_test[\"Y\"], prediction_test_RBF)\n",
    "\n",
    "# calculer l'aire sous la courbe ROC\n",
    "auc = metrics.auc(fpr, tpr)\n",
    "\n",
    "# créer une figure\n",
    "from matplotlib import pyplot as plt\n",
    "fig = plt.figure(figsize=(7,7))\n",
    "\n",
    "# afficher la courbe ROC\n",
    "plt.plot(fpr, tpr, '-', lw=2, label='AUC=%.2f' % auc)\n",
    "\n",
    "# donner un titre aux axes et au graphique\n",
    "plt.xlabel('False Positive Rate', fontsize=16)\n",
    "plt.ylabel('True Positive Rate', fontsize=16)\n",
    "plt.title('Courbe ROC SVM à noyau Gaussien', fontsize=16)\n",
    "\n",
    "# afficher la légende\n",
    "plt.legend(loc=\"lower right\", fontsize=14)\n",
    "\n",
    "# afficher l'image\n",
    "plt.show()"
   ]
  },
  {
   "cell_type": "markdown",
   "metadata": {},
   "source": [
    "##### c."
   ]
  },
  {
   "cell_type": "code",
   "execution_count": 29,
   "metadata": {
    "scrolled": true
   },
   "outputs": [
    {
     "name": "stdout",
     "output_type": "stream",
     "text": [
      "Fitting 5 folds for each of 1600 candidates, totalling 8000 fits\n"
     ]
    },
    {
     "name": "stderr",
     "output_type": "stream",
     "text": [
      "[Parallel(n_jobs=-1)]: Using backend LokyBackend with 16 concurrent workers.\n",
      "[Parallel(n_jobs=-1)]: Batch computation too fast (0.0327s.) Setting batch_size=12.\n",
      "[Parallel(n_jobs=-1)]: Done   9 tasks      | elapsed:    0.1s\n",
      "[Parallel(n_jobs=-1)]: Done  18 tasks      | elapsed:    0.2s\n",
      "[Parallel(n_jobs=-1)]: Done  29 tasks      | elapsed:    0.3s\n",
      "[Parallel(n_jobs=-1)]: Done 128 tasks      | elapsed:    0.4s\n",
      "[Parallel(n_jobs=-1)]: Done 284 tasks      | elapsed:    0.4s\n",
      "[Parallel(n_jobs=-1)]: Done 440 tasks      | elapsed:    0.6s\n",
      "[Parallel(n_jobs=-1)]: Done 620 tasks      | elapsed:    0.8s\n",
      "[Parallel(n_jobs=-1)]: Done 800 tasks      | elapsed:    0.9s\n",
      "[Parallel(n_jobs=-1)]: Done 1004 tasks      | elapsed:    1.1s\n",
      "[Parallel(n_jobs=-1)]: Done 1208 tasks      | elapsed:    1.3s\n",
      "[Parallel(n_jobs=-1)]: Done 1436 tasks      | elapsed:    1.5s\n",
      "[Parallel(n_jobs=-1)]: Done 1664 tasks      | elapsed:    1.8s\n",
      "[Parallel(n_jobs=-1)]: Done 1916 tasks      | elapsed:    2.0s\n",
      "[Parallel(n_jobs=-1)]: Done 2168 tasks      | elapsed:    2.2s\n",
      "[Parallel(n_jobs=-1)]: Done 2444 tasks      | elapsed:    2.5s\n",
      "[Parallel(n_jobs=-1)]: Done 2720 tasks      | elapsed:    2.8s\n",
      "[Parallel(n_jobs=-1)]: Done 3020 tasks      | elapsed:    3.1s\n",
      "[Parallel(n_jobs=-1)]: Done 3320 tasks      | elapsed:    3.4s\n",
      "[Parallel(n_jobs=-1)]: Done 3644 tasks      | elapsed:    3.6s\n",
      "[Parallel(n_jobs=-1)]: Done 3968 tasks      | elapsed:    3.9s\n",
      "[Parallel(n_jobs=-1)]: Done 4316 tasks      | elapsed:    4.2s\n",
      "[Parallel(n_jobs=-1)]: Done 4664 tasks      | elapsed:    4.5s\n",
      "[Parallel(n_jobs=-1)]: Done 5036 tasks      | elapsed:    4.9s\n",
      "[Parallel(n_jobs=-1)]: Done 5408 tasks      | elapsed:    5.2s\n",
      "[Parallel(n_jobs=-1)]: Done 5804 tasks      | elapsed:    5.6s\n",
      "[Parallel(n_jobs=-1)]: Done 6200 tasks      | elapsed:    6.0s\n",
      "[Parallel(n_jobs=-1)]: Done 6620 tasks      | elapsed:    6.4s\n",
      "[Parallel(n_jobs=-1)]: Done 7040 tasks      | elapsed:    6.8s\n",
      "[Parallel(n_jobs=-1)]: Done 7484 tasks      | elapsed:    7.2s\n"
     ]
    },
    {
     "name": "stdout",
     "output_type": "stream",
     "text": [
      "Précision Train:  0.99\n",
      "Précision Test:  0.99\n",
      "\n",
      "\n",
      "{'C': 1.1, 'coef0': 0.0, 'degree': 2, 'gamma': 0.55}\n"
     ]
    },
    {
     "name": "stderr",
     "output_type": "stream",
     "text": [
      "[Parallel(n_jobs=-1)]: Done 8000 out of 8000 | elapsed:    7.7s finished\n",
      "/app/anaconda/3-2019-07/lib/python3.7/site-packages/sklearn/model_selection/_search.py:813: DeprecationWarning: The default of the `iid` parameter will change from True to False in version 0.22 and will be removed in 0.24. This will change numeric results when test-set sizes are unequal.\n",
      "  DeprecationWarning)\n"
     ]
    }
   ],
   "source": [
    "#on crée un nouveau modèle SVM à noyau Polynomiale\n",
    "svmPOLY = SVC(kernel='poly')\n",
    "\n",
    "#on crée un dictionnaire de toutes les valeurs que nous voulons tester\n",
    "param_grid_POLY = {\"C\": np.arange(0.1, 20), \"gamma\" : np.arange(0,1,0.05), \"degree\": [2,3], \"coef0\": np.arange(0,1,0.5)}\n",
    "\n",
    "#on utilise gridsearch pour tester toutes les valeurs\n",
    "svmPOLY_gscv = GridSearchCV(svmPOLY, param_grid_POLY, cv=5, n_jobs=-1, verbose=10)\n",
    "\n",
    "#ajustement du modèle aux données\n",
    "svmPOLY_gscv.fit(df[[\"X1\",\"X2\"]], df[\"Y\"])\n",
    "\n",
    "print(\"Précision Train: \",svmPOLY_gscv.score(df[[\"X1\",\"X2\"]], df[\"Y\"]))\n",
    "print(\"Précision Test: \",svmPOLY_gscv.score(df_test[[\"X1\",\"X2\"]], df_test[\"Y\"]))\n",
    "print(\"\\n\")\n",
    "print(svmPOLY_gscv.best_params_)"
   ]
  },
  {
   "cell_type": "code",
   "execution_count": 30,
   "metadata": {},
   "outputs": [
    {
     "data": {
      "text/plain": [
       "{'C': 1.1, 'coef0': 0.0, 'degree': 2, 'gamma': 0.55}"
      ]
     },
     "execution_count": 30,
     "metadata": {},
     "output_type": "execute_result"
    }
   ],
   "source": [
    "#les paramétres du modéle le plus performant:\n",
    "svmPOLY_gscv.best_params_"
   ]
  },
  {
   "cell_type": "code",
   "execution_count": 31,
   "metadata": {},
   "outputs": [
    {
     "name": "stdout",
     "output_type": "stream",
     "text": [
      "matrice de confusion\n"
     ]
    },
    {
     "data": {
      "text/plain": [
       "array([[30,  1],\n",
       "       [ 0, 69]])"
      ]
     },
     "execution_count": 31,
     "metadata": {},
     "output_type": "execute_result"
    }
   ],
   "source": [
    "prediction_test_POLY = svmPOLY_gscv.predict(df_test[[\"X1\",\"X2\"]])\n",
    "\n",
    "print(\"matrice de confusion\")\n",
    "M_smvPOLY = confusion_matrix(df_test[\"Y\"], prediction_test_POLY)\n",
    "M_smvPOLY"
   ]
  },
  {
   "cell_type": "code",
   "execution_count": 32,
   "metadata": {},
   "outputs": [
    {
     "name": "stdout",
     "output_type": "stream",
     "text": [
      "Précision de classification de test: 0.99\n"
     ]
    }
   ],
   "source": [
    "print(\"Précision de classification de test:\", M_smvPOLY.trace()/M_smvPOLY.sum())"
   ]
  },
  {
   "cell_type": "code",
   "execution_count": 33,
   "metadata": {},
   "outputs": [
    {
     "data": {
      "image/png": "[encoded data removed]",
      "text/plain": [
       "<Figure size 504x504 with 1 Axes>"
      ]
     },
     "metadata": {},
     "output_type": "display_data"
    }
   ],
   "source": [
    "# construire la courbe ROC\n",
    "from sklearn import metrics\n",
    "fpr, tpr, thr = metrics.roc_curve(df_test[\"Y\"], prediction_test_POLY)\n",
    "\n",
    "# calculer l'aire sous la courbe ROC\n",
    "auc = metrics.auc(fpr, tpr)\n",
    "\n",
    "# créer une figure\n",
    "from matplotlib import pyplot as plt\n",
    "fig = plt.figure(figsize=(7,7))\n",
    "\n",
    "# afficher la courbe ROC\n",
    "plt.plot(fpr, tpr, '-', lw=2, label='AUC=%.2f' % auc)\n",
    "\n",
    "# donner un titre aux axes et au graphique\n",
    "plt.xlabel('False Positive Rate', fontsize=16)\n",
    "plt.ylabel('True Positive Rate', fontsize=16)\n",
    "plt.title('Courbe ROC SVM à noyau Polynomiale', fontsize=16)\n",
    "\n",
    "# afficher la légende\n",
    "plt.legend(loc=\"lower right\", fontsize=14)\n",
    "\n",
    "# afficher l'image\n",
    "plt.show()"
   ]
  },
  {
   "cell_type": "markdown",
   "metadata": {},
   "source": [
    "##### Avec un SVM linéaire ?"
   ]
  },
  {
   "cell_type": "code",
   "execution_count": 34,
   "metadata": {},
   "outputs": [
    {
     "name": "stdout",
     "output_type": "stream",
     "text": [
      "Fitting 5 folds for each of 100 candidates, totalling 500 fits\n"
     ]
    },
    {
     "name": "stderr",
     "output_type": "stream",
     "text": [
      "[Parallel(n_jobs=-1)]: Using backend LokyBackend with 16 concurrent workers.\n",
      "[Parallel(n_jobs=-1)]: Batch computation too fast (0.0290s.) Setting batch_size=12.\n",
      "[Parallel(n_jobs=-1)]: Done   9 tasks      | elapsed:    0.1s\n",
      "[Parallel(n_jobs=-1)]: Done  18 tasks      | elapsed:    0.1s\n"
     ]
    },
    {
     "name": "stdout",
     "output_type": "stream",
     "text": [
      "Précision Train:  0.61\n",
      "Précision Test:  0.69\n",
      "\n",
      "\n",
      "{'C': 0.1}\n"
     ]
    },
    {
     "name": "stderr",
     "output_type": "stream",
     "text": [
      "[Parallel(n_jobs=-1)]: Done  29 tasks      | elapsed:    0.2s\n",
      "[Parallel(n_jobs=-1)]: Batch computation too fast (0.1877s.) Setting batch_size=24.\n",
      "[Parallel(n_jobs=-1)]: Done 500 out of 500 | elapsed:    0.6s finished\n"
     ]
    }
   ],
   "source": [
    "#on crée un nouveau modèle SVM à noyau Polynomiale\n",
    "svmLINEAR = SVC(kernel='linear')\n",
    "\n",
    "#on crée un dictionnaire de toutes les valeurs que nous voulons tester\n",
    "param_grid_LINEAR = {\"C\": np.arange(0.1, 100)}\n",
    "\n",
    "#on utilise gridsearch pour tester toutes les valeurs\n",
    "svmLINEAR_gscv = GridSearchCV(svmLINEAR, param_grid_LINEAR, cv=5, n_jobs=-1, verbose=10)\n",
    "\n",
    "#ajustement du modèle aux données\n",
    "svmLINEAR_gscv.fit(df[[\"X1\",\"X2\"]], df[\"Y\"])\n",
    "\n",
    "print(\"Précision Train: \",svmLINEAR_gscv.score(df[[\"X1\",\"X2\"]], df[\"Y\"]))\n",
    "print(\"Précision Test: \",svmLINEAR_gscv.score(df_test[[\"X1\",\"X2\"]], df_test[\"Y\"]))\n",
    "print(\"\\n\")\n",
    "print(svmLINEAR_gscv.best_params_)"
   ]
  },
  {
   "cell_type": "code",
   "execution_count": 35,
   "metadata": {},
   "outputs": [
    {
     "data": {
      "text/plain": [
       "{'C': 0.1}"
      ]
     },
     "execution_count": 35,
     "metadata": {},
     "output_type": "execute_result"
    }
   ],
   "source": [
    "#les paramétres du modéle le plus performant:\n",
    "svmLINEAR_gscv.best_params_"
   ]
  },
  {
   "cell_type": "code",
   "execution_count": 36,
   "metadata": {},
   "outputs": [
    {
     "data": {
      "image/png": "[encoded data removed]",
      "text/plain": [
       "<Figure size 504x504 with 1 Axes>"
      ]
     },
     "metadata": {},
     "output_type": "display_data"
    }
   ],
   "source": [
    "prediction_test_LINEAR = svmLINEAR_gscv.predict(df_test[[\"X1\",\"X2\"]])\n",
    "\n",
    "# construire la courbe ROC\n",
    "from sklearn import metrics\n",
    "fpr, tpr, thr = metrics.roc_curve(df_test[\"Y\"], prediction_test_LINEAR)\n",
    "\n",
    "# calculer l'aire sous la courbe ROC\n",
    "auc = metrics.auc(fpr, tpr)\n",
    "\n",
    "# créer une figure\n",
    "from matplotlib import pyplot as plt\n",
    "fig = plt.figure(figsize=(7, 7))\n",
    "\n",
    "# afficher la courbe ROC\n",
    "plt.plot(fpr, tpr, '-', lw=2, label='AUC=%.2f' % auc)\n",
    "\n",
    "# donner un titre aux axes et au graphique\n",
    "plt.xlabel('False Positive Rate', fontsize=16)\n",
    "plt.ylabel('True Positive Rate', fontsize=16)\n",
    "plt.title(' Courbe ROC SVM à noyau Linéaire', fontsize=16)\n",
    "\n",
    "# afficher la légende\n",
    "plt.legend(loc=\"lower right\", fontsize=14)\n",
    "\n",
    "# afficher l'image\n",
    "plt.show()"
   ]
  },
  {
   "cell_type": "code",
   "execution_count": 37,
   "metadata": {},
   "outputs": [
    {
     "name": "stdout",
     "output_type": "stream",
     "text": [
      "matrice de confusion\n"
     ]
    },
    {
     "data": {
      "text/plain": [
       "array([[ 0, 31],\n",
       "       [ 0, 69]])"
      ]
     },
     "execution_count": 37,
     "metadata": {},
     "output_type": "execute_result"
    }
   ],
   "source": [
    "print(\"matrice de confusion\")\n",
    "M_smvLINEAR = confusion_matrix(df_test[\"Y\"], prediction_test_LINEAR)\n",
    "M_smvLINEAR"
   ]
  },
  {
   "cell_type": "code",
   "execution_count": 38,
   "metadata": {},
   "outputs": [
    {
     "name": "stdout",
     "output_type": "stream",
     "text": [
      "Précision de classification de test: 0.69\n"
     ]
    }
   ],
   "source": [
    "print(\"Précision de classification de test:\", M_smvLINEAR.trace()/M_smvLINEAR.sum())"
   ]
  },
  {
   "cell_type": "code",
   "execution_count": 39,
   "metadata": {},
   "outputs": [],
   "source": [
    "# On récupére le meilleur modéle de 'gscv\n",
    "svmLINEAR = svmLINEAR_gscv.best_estimator_ "
   ]
  },
  {
   "cell_type": "code",
   "execution_count": 40,
   "metadata": {},
   "outputs": [
    {
     "name": "stdout",
     "output_type": "stream",
     "text": [
      "[ 0  7  9 12 13 18 20 28 34 37 39 42 48 49 50 54 55 56 57 58 59 61 63 68\n",
      " 69 71 75 77 78 80 81 83 84 86 88 92 93 94 98  3  5  6  8 14 15 16 17 19\n",
      " 22 23 24 25 26 27 29 31 32 33 35 36 41 43 44 45 46 47 51 53 60 62 65 67\n",
      " 72 73 74 76 79 89 99]\n"
     ]
    }
   ],
   "source": [
    "print(svmLINEAR.support_) # indice des vecteur supports"
   ]
  },
  {
   "cell_type": "code",
   "execution_count": 41,
   "metadata": {},
   "outputs": [
    {
     "name": "stdout",
     "output_type": "stream",
     "text": [
      "Nombre de vecteurs supports:  79\n"
     ]
    }
   ],
   "source": [
    "print(\"Nombre de vecteurs supports: \",svmLINEAR.support_.shape[0])"
   ]
  },
  {
   "cell_type": "raw",
   "metadata": {},
   "source": [
    "##### En générale, un nombre important de vecteurs supports par rapport au données n'est pas bon signe.\n",
    "##### Ceci présage un modéle de mauvaise qualité."
   ]
  },
  {
   "cell_type": "code",
   "execution_count": 42,
   "metadata": {},
   "outputs": [
    {
     "name": "stdout",
     "output_type": "stream",
     "text": [
      "beta0:  1.0\n",
      "beta1:  0.0\n",
      "beta2:  -0.0\n"
     ]
    }
   ],
   "source": [
    "# l'intercept beta0\n",
    "beta0 = svmLINEAR.intercept_[0]\n",
    "print(\"beta0: \", round(beta0,3))\n",
    "\n",
    "#coefficients beta1 et beta2\n",
    "beta = svmLINEAR.coef_\n",
    "print(\"beta1: \",round(beta[0][0],3))\n",
    "print(\"beta2: \",round(beta[0][1],3))"
   ]
  },
  {
   "cell_type": "raw",
   "metadata": {},
   "source": [
    "L'équation de l'hyperplan séparateur en fonction de x est:\n",
    "# beta1*x1 + beta2*x2 + beta0 = 0"
   ]
  },
  {
   "cell_type": "raw",
   "metadata": {},
   "source": [
    "L'équation réduite de l'hyperplan séparateur en fonction de x est:\n",
    "# x2 = a*x1 +b "
   ]
  },
  {
   "cell_type": "code",
   "execution_count": 43,
   "metadata": {},
   "outputs": [
    {
     "name": "stdout",
     "output_type": "stream",
     "text": [
      "a:  0.686\n",
      "b:  -8191.205\n"
     ]
    }
   ],
   "source": [
    "a = -beta[0][1]/beta[0][0]\n",
    "b = -beta0/beta[0][0]\n",
    "\n",
    "print(\"a: \",round(a,3))\n",
    "print(\"b: \",round(b,3))"
   ]
  },
  {
   "cell_type": "code",
   "execution_count": 44,
   "metadata": {},
   "outputs": [
    {
     "data": {
      "text/plain": [
       "<matplotlib.axes._subplots.AxesSubplot at 0x7f9696e5bd30>"
      ]
     },
     "execution_count": 44,
     "metadata": {},
     "output_type": "execute_result"
    },
    {
     "data": {
      "image/png": "[encoded data removed]",
      "text/plain": [
       "<Figure size 576x576 with 1 Axes>"
      ]
     },
     "metadata": {},
     "output_type": "display_data"
    }
   ],
   "source": [
    "sns.set(style=\"darkgrid\")\n",
    "plt.figure(figsize=(8,8))\n",
    "plt.plot([-2.5, 2.5], [-2.5*a+b, 2.5*a+b], sns.xkcd_rgb[\"pale red\"], lw=3);\n",
    "sn = sns.scatterplot(x=\"X1\", y=\"X2\", hue=\"Y\", palette=[\"C0\", \"C1\"], data=df_test, s =50)\n",
    "sn"
   ]
  },
  {
   "cell_type": "markdown",
   "metadata": {},
   "source": [
    "### N.B. Un principe usuel pour améliorer les résultats consiste à agréger les modèles, i.e. à faire une combinaison linéaire de plusieurs modèles. Ce principe pourrait être employé ici (voir Adaboost)."
   ]
  },
  {
   "cell_type": "raw",
   "metadata": {},
   "source": [
    "On doit utiliser un classifieur qui a la méthode \"predict_proba\".\n",
    "\n",
    "# https://stats.stackexchange.com/questions/27764/using-adaboost-with-svm-for-classification\n",
    "# "
   ]
  },
  {
   "cell_type": "code",
   "execution_count": 45,
   "metadata": {},
   "outputs": [
    {
     "data": {
      "text/plain": [
       "AdaBoostClassifier(algorithm='SAMME',\n",
       "                   base_estimator=SVC(C=1.0, cache_size=200, class_weight=None,\n",
       "                                      coef0=0.0, decision_function_shape='ovr',\n",
       "                                      degree=3, gamma='auto_deprecated',\n",
       "                                      kernel='linear', max_iter=-1,\n",
       "                                      probability=True, random_state=None,\n",
       "                                      shrinking=True, tol=0.001,\n",
       "                                      verbose=False),\n",
       "                   learning_rate=1.0, n_estimators=50, random_state=None)"
      ]
     },
     "execution_count": 45,
     "metadata": {},
     "output_type": "execute_result"
    }
   ],
   "source": [
    "from sklearn.ensemble import AdaBoostClassifier\n",
    "\n",
    "clf = AdaBoostClassifier(SVC(probability=True, kernel='linear'),n_estimators=50, learning_rate=1.0, algorithm='SAMME')\n",
    "clf.fit(df[[\"X1\",\"X2\"]], df[\"Y\"])"
   ]
  },
  {
   "cell_type": "code",
   "execution_count": 46,
   "metadata": {},
   "outputs": [
    {
     "name": "stdout",
     "output_type": "stream",
     "text": [
      "Précision Train:  0.61\n",
      "Précision Test:  0.69\n"
     ]
    }
   ],
   "source": [
    "print(\"Précision Train: \",clf.score(df[[\"X1\",\"X2\"]], df[\"Y\"]))\n",
    "print(\"Précision Test: \",clf.score(df_test[[\"X1\",\"X2\"]], df_test[\"Y\"]))"
   ]
  },
  {
   "cell_type": "markdown",
   "metadata": {},
   "source": [
    "### On peut combiner tous les modéles et faire un vote mojoritaire pondéré:"
   ]
  },
  {
   "cell_type": "code",
   "execution_count": 47,
   "metadata": {},
   "outputs": [],
   "source": [
    "from sklearn.ensemble import VotingClassifier\n",
    "\n",
    "Estimateurs = [('poly', svmPOLY_gscv.best_estimator_),\n",
    "               ('rbf', svmRBF_gscv.best_estimator_),\n",
    "               ('linear', svmLINEAR_gscv.best_estimator_)]\n",
    "\n",
    "SVM = VotingClassifier(estimators=Estimateurs, voting='hard',n_jobs=-1)"
   ]
  },
  {
   "cell_type": "code",
   "execution_count": 48,
   "metadata": {},
   "outputs": [
    {
     "data": {
      "text/plain": [
       "VotingClassifier(estimators=[('poly',\n",
       "                              SVC(C=1.1, cache_size=200, class_weight=None,\n",
       "                                  coef0=0.0, decision_function_shape='ovr',\n",
       "                                  degree=2, gamma=0.55, kernel='poly',\n",
       "                                  max_iter=-1, probability=False,\n",
       "                                  random_state=None, shrinking=True, tol=0.001,\n",
       "                                  verbose=False)),\n",
       "                             ('rbf',\n",
       "                              SVC(C=1.1, cache_size=200, class_weight=None,\n",
       "                                  coef0=0.0, decision_function_shape='ovr',\n",
       "                                  degree=3, gamma=0....\n",
       "                                  random_state=None, shrinking=True, tol=0.001,\n",
       "                                  verbose=False)),\n",
       "                             ('linear',\n",
       "                              SVC(C=0.1, cache_size=200, class_weight=None,\n",
       "                                  coef0=0.0, decision_function_shape='ovr',\n",
       "                                  degree=3, gamma='auto_deprecated',\n",
       "                                  kernel='linear', max_iter=-1,\n",
       "                                  probability=False, random_state=None,\n",
       "                                  shrinking=True, tol=0.001, verbose=False))],\n",
       "                 flatten_transform=True, n_jobs=-1, voting='hard',\n",
       "                 weights=None)"
      ]
     },
     "execution_count": 48,
     "metadata": {},
     "output_type": "execute_result"
    }
   ],
   "source": [
    "SVM.fit(df[[\"X1\",\"X2\"]], df[\"Y\"])"
   ]
  },
  {
   "cell_type": "code",
   "execution_count": 49,
   "metadata": {},
   "outputs": [
    {
     "name": "stdout",
     "output_type": "stream",
     "text": [
      "Précision Train:  0.98\n",
      "Précision Test:  0.98\n"
     ]
    }
   ],
   "source": [
    "print(\"Précision Train: \",SVM.score(df[[\"X1\",\"X2\"]], df[\"Y\"]))\n",
    "print(\"Précision Test: \",SVM.score(df_test[[\"X1\",\"X2\"]], df_test[\"Y\"]))"
   ]
  },
  {
   "cell_type": "code",
   "execution_count": 50,
   "metadata": {},
   "outputs": [
    {
     "data": {
      "image/png": "[encoded data removed]",
      "text/plain": [
       "<Figure size 504x504 with 1 Axes>"
      ]
     },
     "metadata": {},
     "output_type": "display_data"
    }
   ],
   "source": [
    "prediction_test_SVM = SVM.predict(df_test[[\"X1\",\"X2\"]])\n",
    "\n",
    "# construire la courbe ROC\n",
    "from sklearn import metrics\n",
    "fpr, tpr, thr = metrics.roc_curve(df_test[\"Y\"], prediction_test_SVM)\n",
    "\n",
    "# calculer l'aire sous la courbe ROC\n",
    "auc = metrics.auc(fpr, tpr)\n",
    "\n",
    "# créer une figure\n",
    "from matplotlib import pyplot as plt\n",
    "fig = plt.figure(figsize=(7, 7))\n",
    "\n",
    "# afficher la courbe ROC\n",
    "plt.plot(fpr, tpr, '-', lw=2, label='AUC=%.2f' % auc)\n",
    "\n",
    "# donner un titre aux axes et au graphique\n",
    "plt.xlabel('False Positive Rate', fontsize=16)\n",
    "plt.ylabel('True Positive Rate', fontsize=16)\n",
    "plt.title('Combinaison de SVM Courbe ROC', fontsize=16)\n",
    "\n",
    "# afficher la légende\n",
    "plt.legend(loc=\"lower right\", fontsize=14)\n",
    "\n",
    "# afficher l'image\n",
    "plt.show()"
   ]
  },
  {
   "cell_type": "markdown",
   "metadata": {},
   "source": [
    "### 4. "
   ]
  },
  {
   "cell_type": "code",
   "execution_count": 51,
   "metadata": {},
   "outputs": [
    {
     "name": "stdout",
     "output_type": "stream",
     "text": [
      "X1    float64\n",
      "X2    float64\n",
      "Y       int64\n",
      "dtype: object\n",
      "X1    float64\n",
      "X2    float64\n",
      "Y       int64\n",
      "dtype: object\n"
     ]
    }
   ],
   "source": [
    "n = 100\n",
    "p = 10\n",
    "\n",
    "df = Echantillon(n,p)\n",
    "df_test = Echantillon(n,p)"
   ]
  },
  {
   "cell_type": "markdown",
   "metadata": {},
   "source": [
    "## Exercice 2"
   ]
  },
  {
   "cell_type": "markdown",
   "metadata": {},
   "source": [
    "### 1. Traitement des données"
   ]
  },
  {
   "cell_type": "code",
   "execution_count": 52,
   "metadata": {},
   "outputs": [],
   "source": [
    "from sklearn import datasets\n",
    "\n",
    "# import some data to play with\n",
    "iris = datasets.load_iris()\n",
    "X = iris.data\n",
    "y = iris.target\n",
    "Names = iris.target_names"
   ]
  },
  {
   "cell_type": "code",
   "execution_count": 53,
   "metadata": {},
   "outputs": [
    {
     "data": {
      "text/html": [
       "<div>\n",
       "<style scoped>\n",
       "    .dataframe tbody tr th:only-of-type {\n",
       "        vertical-align: middle;\n",
       "    }\n",
       "\n",
       "    .dataframe tbody tr th {\n",
       "        vertical-align: top;\n",
       "    }\n",
       "\n",
       "    .dataframe thead th {\n",
       "        text-align: right;\n",
       "    }\n",
       "</style>\n",
       "<table border=\"1\" class=\"dataframe\">\n",
       "  <thead>\n",
       "    <tr style=\"text-align: right;\">\n",
       "      <th></th>\n",
       "      <th>Sepal.Length</th>\n",
       "      <th>Sepal.Width</th>\n",
       "      <th>Petal.Length</th>\n",
       "      <th>Petal.Width</th>\n",
       "      <th>Species</th>\n",
       "    </tr>\n",
       "  </thead>\n",
       "  <tbody>\n",
       "    <tr>\n",
       "      <th>0</th>\n",
       "      <td>5.1</td>\n",
       "      <td>3.5</td>\n",
       "      <td>1.4</td>\n",
       "      <td>0.2</td>\n",
       "      <td>0</td>\n",
       "    </tr>\n",
       "    <tr>\n",
       "      <th>1</th>\n",
       "      <td>4.9</td>\n",
       "      <td>3.0</td>\n",
       "      <td>1.4</td>\n",
       "      <td>0.2</td>\n",
       "      <td>0</td>\n",
       "    </tr>\n",
       "    <tr>\n",
       "      <th>2</th>\n",
       "      <td>4.7</td>\n",
       "      <td>3.2</td>\n",
       "      <td>1.3</td>\n",
       "      <td>0.2</td>\n",
       "      <td>0</td>\n",
       "    </tr>\n",
       "    <tr>\n",
       "      <th>3</th>\n",
       "      <td>4.6</td>\n",
       "      <td>3.1</td>\n",
       "      <td>1.5</td>\n",
       "      <td>0.2</td>\n",
       "      <td>0</td>\n",
       "    </tr>\n",
       "    <tr>\n",
       "      <th>4</th>\n",
       "      <td>5.0</td>\n",
       "      <td>3.6</td>\n",
       "      <td>1.4</td>\n",
       "      <td>0.2</td>\n",
       "      <td>0</td>\n",
       "    </tr>\n",
       "  </tbody>\n",
       "</table>\n",
       "</div>"
      ],
      "text/plain": [
       "   Sepal.Length  Sepal.Width  Petal.Length  Petal.Width  Species\n",
       "0           5.1          3.5           1.4          0.2        0\n",
       "1           4.9          3.0           1.4          0.2        0\n",
       "2           4.7          3.2           1.3          0.2        0\n",
       "3           4.6          3.1           1.5          0.2        0\n",
       "4           5.0          3.6           1.4          0.2        0"
      ]
     },
     "execution_count": 53,
     "metadata": {},
     "output_type": "execute_result"
    }
   ],
   "source": [
    "iris = pd.DataFrame({'Sepal.Length' :X[:,0],\n",
    "                     'Sepal.Width'  :X[:,1],\n",
    "                     'Petal.Length' :X[:,2],\n",
    "                     'Petal.Width'  :X[:,3],\n",
    "                     'Species'      :y})\n",
    "iris.head()"
   ]
  },
  {
   "cell_type": "code",
   "execution_count": 54,
   "metadata": {},
   "outputs": [
    {
     "name": "stdout",
     "output_type": "stream",
     "text": [
      "['setosa' 'versicolor' 'virginica']\n"
     ]
    },
    {
     "data": {
      "text/plain": [
       "<matplotlib.axes._subplots.AxesSubplot at 0x7f968d949748>"
      ]
     },
     "execution_count": 54,
     "metadata": {},
     "output_type": "execute_result"
    },
    {
     "data": {
      "image/png": "[encoded data removed]",
      "text/plain": [
       "<Figure size 576x576 with 1 Axes>"
      ]
     },
     "metadata": {},
     "output_type": "display_data"
    }
   ],
   "source": [
    "sns.set(style=\"darkgrid\")\n",
    "plt.figure(figsize=(8,8))\n",
    "print(Names)\n",
    "col = iris.columns\n",
    "sn = sns.scatterplot(x=col[2], y=col[3], hue=col[4], palette=\"viridis\", data=iris, s =50)\n",
    "sn"
   ]
  },
  {
   "cell_type": "code",
   "execution_count": 55,
   "metadata": {},
   "outputs": [
    {
     "data": {
      "text/plain": [
       "Index(['Sepal.Length', 'Sepal.Width', 'Petal.Length', 'Petal.Width',\n",
       "       'Species'],\n",
       "      dtype='object')"
      ]
     },
     "execution_count": 55,
     "metadata": {},
     "output_type": "execute_result"
    }
   ],
   "source": [
    "col"
   ]
  },
  {
   "cell_type": "code",
   "execution_count": 56,
   "metadata": {},
   "outputs": [
    {
     "name": "stdout",
     "output_type": "stream",
     "text": [
      "(112, 4) (112,)\n",
      "(38, 4) (38,)\n"
     ]
    }
   ],
   "source": [
    "from sklearn.model_selection import train_test_split\n",
    "\n",
    "# on crée les données d'entraînement et de test\n",
    "X_train, X_test, y_train, y_test = train_test_split(X, y, test_size=0.25)\n",
    "\n",
    "print (X_train.shape, y_train.shape)\n",
    "print (X_test.shape, y_test.shape)"
   ]
  },
  {
   "cell_type": "markdown",
   "metadata": {},
   "source": [
    "### 2. Modéles SVM"
   ]
  },
  {
   "cell_type": "markdown",
   "metadata": {},
   "source": [
    "### a. SVM Linear "
   ]
  },
  {
   "cell_type": "code",
   "execution_count": 57,
   "metadata": {},
   "outputs": [
    {
     "name": "stdout",
     "output_type": "stream",
     "text": [
      "Fitting 5 folds for each of 100 candidates, totalling 500 fits\n"
     ]
    },
    {
     "name": "stderr",
     "output_type": "stream",
     "text": [
      "[Parallel(n_jobs=-1)]: Using backend LokyBackend with 16 concurrent workers.\n",
      "[Parallel(n_jobs=-1)]: Batch computation too fast (0.0181s.) Setting batch_size=22.\n",
      "[Parallel(n_jobs=-1)]: Done   9 tasks      | elapsed:    0.1s\n"
     ]
    },
    {
     "name": "stdout",
     "output_type": "stream",
     "text": [
      "{'C': 13.1}\n"
     ]
    },
    {
     "name": "stderr",
     "output_type": "stream",
     "text": [
      "[Parallel(n_jobs=-1)]: Done  18 tasks      | elapsed:    0.3s\n",
      "[Parallel(n_jobs=-1)]: Done 500 out of 500 | elapsed:    0.4s finished\n",
      "/app/anaconda/3-2019-07/lib/python3.7/site-packages/sklearn/model_selection/_search.py:813: DeprecationWarning: The default of the `iid` parameter will change from True to False in version 0.22 and will be removed in 0.24. This will change numeric results when test-set sizes are unequal.\n",
      "  DeprecationWarning)\n"
     ]
    }
   ],
   "source": [
    "#on crée un nouveau modèle SVM à noyau Polynomiale\n",
    "svmLINEAR = SVC(kernel='linear',probability=True)\n",
    "\n",
    "#on crée un dictionnaire de toutes les valeurs que nous voulons tester\n",
    "param_grid_LINEAR = {\"C\": np.arange(0.1, 100)}\n",
    "\n",
    "#on utilise gridsearch pour tester toutes les valeurs\n",
    "svmLINEAR_gscv = GridSearchCV(svmLINEAR, param_grid_LINEAR, cv=5, n_jobs=-1, verbose=10)\n",
    "\n",
    "#ajustement du modèle aux données\n",
    "svmLINEAR_gscv.fit(X_train, y_train)\n",
    "\n",
    "print(svmLINEAR_gscv.best_params_)"
   ]
  },
  {
   "cell_type": "code",
   "execution_count": 58,
   "metadata": {},
   "outputs": [
    {
     "name": "stdout",
     "output_type": "stream",
     "text": [
      "Précision Train:  0.982\n",
      "Précision Test:  0.974\n",
      "\n",
      "\n"
     ]
    }
   ],
   "source": [
    "print(\"Précision Train: \",round(svmLINEAR_gscv.score(X_train, y_train),3))\n",
    "print(\"Précision Test: \",round(svmLINEAR_gscv.score(X_test, y_test),3))\n",
    "print(\"\\n\")"
   ]
  },
  {
   "cell_type": "code",
   "execution_count": 59,
   "metadata": {},
   "outputs": [
    {
     "name": "stdout",
     "output_type": "stream",
     "text": [
      "              precision    recall  f1-score   support\n",
      "\n",
      "      setosa       1.00      1.00      1.00        16\n",
      "  versicolor       1.00      0.93      0.96        14\n",
      "   virginica       0.89      1.00      0.94         8\n",
      "\n",
      "    accuracy                           0.97        38\n",
      "   macro avg       0.96      0.98      0.97        38\n",
      "weighted avg       0.98      0.97      0.97        38\n",
      "\n"
     ]
    }
   ],
   "source": [
    "from sklearn.metrics import classification_report\n",
    "\n",
    "y_pred_LINEAR = svmLINEAR_gscv.predict(X_test)\n",
    "\n",
    "#Sklearn's classification_report montre quelques-unes des principales mesures de classification pour chaque classe:\n",
    "print(classification_report(y_test, y_pred_LINEAR, target_names=Names))"
   ]
  },
  {
   "cell_type": "code",
   "execution_count": 60,
   "metadata": {},
   "outputs": [
    {
     "name": "stdout",
     "output_type": "stream",
     "text": [
      "[[16  0  0]\n",
      " [ 0 13  1]\n",
      " [ 0  0  8]]\n"
     ]
    }
   ],
   "source": [
    "print(confusion_matrix(y_test, y_pred_LINEAR))"
   ]
  },
  {
   "cell_type": "markdown",
   "metadata": {},
   "source": [
    "### b. SVM Poly"
   ]
  },
  {
   "cell_type": "code",
   "execution_count": 61,
   "metadata": {
    "scrolled": true
   },
   "outputs": [
    {
     "name": "stderr",
     "output_type": "stream",
     "text": [
      "[Parallel(n_jobs=-1)]: Using backend LokyBackend with 16 concurrent workers.\n",
      "[Parallel(n_jobs=-1)]: Batch computation too fast (0.0379s.) Setting batch_size=10.\n"
     ]
    },
    {
     "name": "stdout",
     "output_type": "stream",
     "text": [
      "Fitting 5 folds for each of 2400 candidates, totalling 12000 fits\n"
     ]
    },
    {
     "name": "stderr",
     "output_type": "stream",
     "text": [
      "[Parallel(n_jobs=-1)]: Done   9 tasks      | elapsed:    0.1s\n",
      "[Parallel(n_jobs=-1)]: Done  18 tasks      | elapsed:    0.1s\n",
      "[Parallel(n_jobs=-1)]: Done  29 tasks      | elapsed:    0.2s\n",
      "[Parallel(n_jobs=-1)]: Batch computation too fast (0.1749s.) Setting batch_size=22.\n",
      "[Parallel(n_jobs=-1)]: Done 112 tasks      | elapsed:    0.3s\n",
      "[Parallel(n_jobs=-1)]: Done 242 tasks      | elapsed:    0.5s\n",
      "[Parallel(n_jobs=-1)]: Done 468 tasks      | elapsed:    0.7s\n",
      "[Parallel(n_jobs=-1)]: Done 762 tasks      | elapsed:    1.3s\n",
      "[Parallel(n_jobs=-1)]: Done 1056 tasks      | elapsed:    2.0s\n",
      "[Parallel(n_jobs=-1)]: Done 1430 tasks      | elapsed:    3.8s\n",
      "[Parallel(n_jobs=-1)]: Batch computation too slow (2.0180s.) Setting batch_size=11.\n",
      "[Parallel(n_jobs=-1)]: Done 1804 tasks      | elapsed:    5.1s\n",
      "[Parallel(n_jobs=-1)]: Done 2079 tasks      | elapsed:    6.6s\n",
      "[Parallel(n_jobs=-1)]: Done 2332 tasks      | elapsed:    7.5s\n",
      "[Parallel(n_jobs=-1)]: Batch computation too slow (2.0082s.) Setting batch_size=5.\n",
      "[Parallel(n_jobs=-1)]: Done 2596 tasks      | elapsed:    8.6s\n",
      "[Parallel(n_jobs=-1)]: Done 2795 tasks      | elapsed:    9.6s\n",
      "[Parallel(n_jobs=-1)]: Done 2945 tasks      | elapsed:   10.7s\n",
      "[Parallel(n_jobs=-1)]: Done 3066 tasks      | elapsed:   10.9s\n",
      "[Parallel(n_jobs=-1)]: Done 3209 tasks      | elapsed:   12.0s\n",
      "[Parallel(n_jobs=-1)]: Done 3334 tasks      | elapsed:   12.5s\n",
      "[Parallel(n_jobs=-1)]: Done 3475 tasks      | elapsed:   13.2s\n",
      "[Parallel(n_jobs=-1)]: Done 3610 tasks      | elapsed:   14.0s\n",
      "[Parallel(n_jobs=-1)]: Done 3755 tasks      | elapsed:   14.4s\n",
      "[Parallel(n_jobs=-1)]: Done 3900 tasks      | elapsed:   15.5s\n",
      "[Parallel(n_jobs=-1)]: Done 4055 tasks      | elapsed:   16.2s\n",
      "[Parallel(n_jobs=-1)]: Done 4210 tasks      | elapsed:   17.0s\n",
      "[Parallel(n_jobs=-1)]: Done 4375 tasks      | elapsed:   17.7s\n",
      "[Parallel(n_jobs=-1)]: Done 4540 tasks      | elapsed:   18.8s\n",
      "[Parallel(n_jobs=-1)]: Done 4715 tasks      | elapsed:   20.1s\n",
      "[Parallel(n_jobs=-1)]: Done 4890 tasks      | elapsed:   20.7s\n",
      "[Parallel(n_jobs=-1)]: Done 5075 tasks      | elapsed:   22.0s\n",
      "[Parallel(n_jobs=-1)]: Done 5260 tasks      | elapsed:   23.0s\n",
      "[Parallel(n_jobs=-1)]: Done 5455 tasks      | elapsed:   23.8s\n",
      "[Parallel(n_jobs=-1)]: Done 5650 tasks      | elapsed:   25.4s\n",
      "[Parallel(n_jobs=-1)]: Done 5855 tasks      | elapsed:   26.4s\n",
      "[Parallel(n_jobs=-1)]: Done 6060 tasks      | elapsed:   27.4s\n",
      "[Parallel(n_jobs=-1)]: Done 6275 tasks      | elapsed:   29.3s\n",
      "[Parallel(n_jobs=-1)]: Done 6490 tasks      | elapsed:   30.3s\n",
      "[Parallel(n_jobs=-1)]: Done 6715 tasks      | elapsed:   31.2s\n",
      "[Parallel(n_jobs=-1)]: Done 6940 tasks      | elapsed:   33.1s\n",
      "[Parallel(n_jobs=-1)]: Done 7175 tasks      | elapsed:   34.2s\n",
      "[Parallel(n_jobs=-1)]: Done 7410 tasks      | elapsed:   35.7s\n",
      "[Parallel(n_jobs=-1)]: Done 7655 tasks      | elapsed:   37.2s\n",
      "[Parallel(n_jobs=-1)]: Done 7900 tasks      | elapsed:   38.2s\n",
      "[Parallel(n_jobs=-1)]: Done 8155 tasks      | elapsed:   40.3s\n",
      "[Parallel(n_jobs=-1)]: Done 8410 tasks      | elapsed:   41.7s\n",
      "[Parallel(n_jobs=-1)]: Done 8675 tasks      | elapsed:   43.9s\n",
      "[Parallel(n_jobs=-1)]: Done 8940 tasks      | elapsed:   45.3s\n",
      "[Parallel(n_jobs=-1)]: Done 9215 tasks      | elapsed:   47.1s\n",
      "[Parallel(n_jobs=-1)]: Done 9490 tasks      | elapsed:   48.5s\n",
      "[Parallel(n_jobs=-1)]: Done 9775 tasks      | elapsed:   50.0s\n",
      "[Parallel(n_jobs=-1)]: Done 10060 tasks      | elapsed:   51.9s\n",
      "[Parallel(n_jobs=-1)]: Done 10355 tasks      | elapsed:   53.5s\n",
      "[Parallel(n_jobs=-1)]: Done 10650 tasks      | elapsed:   55.7s\n",
      "[Parallel(n_jobs=-1)]: Done 10955 tasks      | elapsed:   57.2s\n",
      "[Parallel(n_jobs=-1)]: Done 11260 tasks      | elapsed:   59.7s\n",
      "[Parallel(n_jobs=-1)]: Done 11575 tasks      | elapsed:  1.0min\n"
     ]
    },
    {
     "name": "stdout",
     "output_type": "stream",
     "text": [
      "{'C': 0.1, 'coef0': 0.0, 'degree': 2, 'gamma': 0.9500000000000001}\n"
     ]
    },
    {
     "name": "stderr",
     "output_type": "stream",
     "text": [
      "[Parallel(n_jobs=-1)]: Done 12000 out of 12000 | elapsed:  1.1min finished\n",
      "/app/anaconda/3-2019-07/lib/python3.7/site-packages/sklearn/model_selection/_search.py:813: DeprecationWarning: The default of the `iid` parameter will change from True to False in version 0.22 and will be removed in 0.24. This will change numeric results when test-set sizes are unequal.\n",
      "  DeprecationWarning)\n"
     ]
    }
   ],
   "source": [
    "#on crée un nouveau modèle SVM à noyau Polynomiale\n",
    "svmPOLY = SVC(kernel='poly',probability=True)\n",
    "\n",
    "#on crée un dictionnaire de toutes les valeurs que nous voulons tester\n",
    "param_grid_POLY = {\"C\": np.arange(0.1, 20), \"gamma\" : np.arange(0,1,0.05), \"degree\": [2,3,4], \"coef0\": np.arange(0,1,0.5)}\n",
    "\n",
    "#on utilise gridsearch pour tester toutes les valeurs\n",
    "svmPOLY_gscv = GridSearchCV(svmPOLY, param_grid_POLY, cv=5, n_jobs=-1, verbose=10)\n",
    "\n",
    "#ajustement du modèle aux données\n",
    "svmPOLY_gscv.fit(X_train, y_train)\n",
    "\n",
    "print(svmPOLY_gscv.best_params_)"
   ]
  },
  {
   "cell_type": "code",
   "execution_count": 62,
   "metadata": {},
   "outputs": [
    {
     "name": "stdout",
     "output_type": "stream",
     "text": [
      "Précision Train:  0.982\n",
      "Précision Test:  0.974\n",
      "\n",
      "\n"
     ]
    }
   ],
   "source": [
    "print(\"Précision Train: \",round(svmPOLY_gscv.score(X_train, y_train),3))\n",
    "print(\"Précision Test: \",round(svmPOLY_gscv.score(X_test, y_test),3))\n",
    "print(\"\\n\")"
   ]
  },
  {
   "cell_type": "code",
   "execution_count": 63,
   "metadata": {},
   "outputs": [
    {
     "name": "stdout",
     "output_type": "stream",
     "text": [
      "              precision    recall  f1-score   support\n",
      "\n",
      "      setosa       1.00      1.00      1.00        16\n",
      "  versicolor       1.00      0.93      0.96        14\n",
      "   virginica       0.89      1.00      0.94         8\n",
      "\n",
      "    accuracy                           0.97        38\n",
      "   macro avg       0.96      0.98      0.97        38\n",
      "weighted avg       0.98      0.97      0.97        38\n",
      "\n"
     ]
    }
   ],
   "source": [
    "from sklearn.metrics import classification_report\n",
    "\n",
    "y_pred_POLY = svmPOLY_gscv.predict(X_test)\n",
    "\n",
    "#Sklearn's classification_report montre quelques-unes des principales mesures de classification pour chaque classe:\n",
    "print(classification_report(y_test, y_pred_POLY, target_names=Names))"
   ]
  },
  {
   "cell_type": "code",
   "execution_count": 64,
   "metadata": {},
   "outputs": [
    {
     "name": "stdout",
     "output_type": "stream",
     "text": [
      "[[16  0  0]\n",
      " [ 0 13  1]\n",
      " [ 0  0  8]]\n"
     ]
    }
   ],
   "source": [
    "print(confusion_matrix(y_test, y_pred_POLY))"
   ]
  },
  {
   "cell_type": "markdown",
   "metadata": {},
   "source": [
    "### c. SMV Rbf"
   ]
  },
  {
   "cell_type": "code",
   "execution_count": 65,
   "metadata": {
    "scrolled": true
   },
   "outputs": [
    {
     "name": "stderr",
     "output_type": "stream",
     "text": [
      "[Parallel(n_jobs=-1)]: Using backend LokyBackend with 16 concurrent workers.\n",
      "[Parallel(n_jobs=-1)]: Batch computation too fast (0.0206s.) Setting batch_size=18.\n"
     ]
    },
    {
     "name": "stdout",
     "output_type": "stream",
     "text": [
      "Fitting 5 folds for each of 400 candidates, totalling 2000 fits\n"
     ]
    },
    {
     "name": "stderr",
     "output_type": "stream",
     "text": [
      "[Parallel(n_jobs=-1)]: Done   9 tasks      | elapsed:    0.1s\n",
      "[Parallel(n_jobs=-1)]: Done  18 tasks      | elapsed:    0.2s\n",
      "[Parallel(n_jobs=-1)]: Done  29 tasks      | elapsed:    0.3s\n",
      "[Parallel(n_jobs=-1)]: Done 176 tasks      | elapsed:    0.5s\n",
      "[Parallel(n_jobs=-1)]: Done 410 tasks      | elapsed:    0.6s\n",
      "[Parallel(n_jobs=-1)]: Done 644 tasks      | elapsed:    0.6s\n",
      "[Parallel(n_jobs=-1)]: Done 914 tasks      | elapsed:    0.8s\n",
      "[Parallel(n_jobs=-1)]: Done 1184 tasks      | elapsed:    1.0s\n"
     ]
    },
    {
     "name": "stdout",
     "output_type": "stream",
     "text": [
      "{'C': 1.1, 'gamma': 0.30000000000000004}\n"
     ]
    },
    {
     "name": "stderr",
     "output_type": "stream",
     "text": [
      "[Parallel(n_jobs=-1)]: Done 2000 out of 2000 | elapsed:    1.4s finished\n",
      "/app/anaconda/3-2019-07/lib/python3.7/site-packages/sklearn/model_selection/_search.py:813: DeprecationWarning: The default of the `iid` parameter will change from True to False in version 0.22 and will be removed in 0.24. This will change numeric results when test-set sizes are unequal.\n",
      "  DeprecationWarning)\n"
     ]
    }
   ],
   "source": [
    "from sklearn.model_selection import GridSearchCV\n",
    "\n",
    "#on crée un nouveau modèle SVM à noyau Gaussien\n",
    "svmRBF = SVC(kernel='rbf',probability=True)\n",
    "\n",
    "#on crée un dictionnaire de toutes les valeurs que nous voulons tester\n",
    "param_grid_RBF = {\"C\": np.arange(0.1, 20), \"gamma\" : np.arange(0,1,0.05)}\n",
    "\n",
    "#on utilise gridsearch pour tester toutes les valeurs de param_grid\n",
    "svmRBF_gscv = GridSearchCV(svmRBF, param_grid_RBF, cv=5, n_jobs=-1, verbose=10)\n",
    "\n",
    "#ajustement du modèle aux données\n",
    "svmRBF_gscv.fit(X_train,y_train)\n",
    "\n",
    "print(svmRBF_gscv.best_params_)"
   ]
  },
  {
   "cell_type": "code",
   "execution_count": 66,
   "metadata": {},
   "outputs": [
    {
     "name": "stdout",
     "output_type": "stream",
     "text": [
      "Précision Train:  0.982\n",
      "Précision Test:  0.974\n",
      "\n",
      "\n"
     ]
    }
   ],
   "source": [
    "print(\"Précision Train: \",round(svmRBF_gscv.score(X_train,y_train),3))\n",
    "print(\"Précision Test: \",round(svmRBF_gscv.score(X_test,y_test),3))\n",
    "print(\"\\n\")"
   ]
  },
  {
   "cell_type": "code",
   "execution_count": 72,
   "metadata": {},
   "outputs": [
    {
     "name": "stdout",
     "output_type": "stream",
     "text": [
      "              precision    recall  f1-score   support\n",
      "\n",
      "      setosa       1.00      1.00      1.00        16\n",
      "  versicolor       1.00      0.93      0.96        14\n",
      "   virginica       0.89      1.00      0.94         8\n",
      "\n",
      "    accuracy                           0.97        38\n",
      "   macro avg       0.96      0.98      0.97        38\n",
      "weighted avg       0.98      0.97      0.97        38\n",
      "\n"
     ]
    }
   ],
   "source": [
    "from sklearn.metrics import classification_report\n",
    "\n",
    "y_pred_RBF = svmRBF_gscv.predict(X_test)\n",
    "\n",
    "#Sklearn's classification_report montre quelques-unes des principales mesures de classification pour chaque classe:\n",
    "print(classification_report(y_test, y_pred_RBF, target_names=Names))"
   ]
  },
  {
   "cell_type": "code",
   "execution_count": 73,
   "metadata": {},
   "outputs": [
    {
     "name": "stdout",
     "output_type": "stream",
     "text": [
      "[[16  0  0]\n",
      " [ 0 13  1]\n",
      " [ 0  0  8]]\n"
     ]
    }
   ],
   "source": [
    "print(confusion_matrix(y_test, y_pred_RBF))"
   ]
  },
  {
   "cell_type": "markdown",
   "metadata": {},
   "source": [
    "### conclusion:"
   ]
  },
  {
   "cell_type": "raw",
   "metadata": {},
   "source": [
    "On peut combiner tous les modéles et faire un vote mojoritaire:"
   ]
  },
  {
   "cell_type": "code",
   "execution_count": 76,
   "metadata": {},
   "outputs": [],
   "source": [
    "from sklearn.ensemble import VotingClassifier\n",
    "\n",
    "Estimateurs = [('poly', svmPOLY_gscv.best_estimator_),\n",
    "               ('rbf', svmRBF_gscv.best_estimator_),\n",
    "               ('linear', svmLINEAR_gscv.best_estimator_)]\n",
    "\n",
    "poids = [1,2,2]\n",
    "\n",
    "SVM = VotingClassifier(estimators=Estimateurs, \n",
    "                       voting='soft',\n",
    "                       weights=poids,\n",
    "                       n_jobs=-1)"
   ]
  },
  {
   "cell_type": "code",
   "execution_count": 77,
   "metadata": {},
   "outputs": [
    {
     "data": {
      "text/plain": [
       "VotingClassifier(estimators=[('poly',\n",
       "                              SVC(C=0.1, cache_size=200, class_weight=None,\n",
       "                                  coef0=0.0, decision_function_shape='ovr',\n",
       "                                  degree=2, gamma=0.9500000000000001,\n",
       "                                  kernel='poly', max_iter=-1, probability=True,\n",
       "                                  random_state=None, shrinking=True, tol=0.001,\n",
       "                                  verbose=False)),\n",
       "                             ('rbf',\n",
       "                              SVC(C=1.1, cache_size=200, class_weight=None,\n",
       "                                  coef0=0.0, decision_function_shape='ovr',\n",
       "                                  degr...\n",
       "                                  random_state=None, shrinking=True, tol=0.001,\n",
       "                                  verbose=False)),\n",
       "                             ('linear',\n",
       "                              SVC(C=13.1, cache_size=200, class_weight=None,\n",
       "                                  coef0=0.0, decision_function_shape='ovr',\n",
       "                                  degree=3, gamma='auto_deprecated',\n",
       "                                  kernel='linear', max_iter=-1,\n",
       "                                  probability=True, random_state=None,\n",
       "                                  shrinking=True, tol=0.001, verbose=False))],\n",
       "                 flatten_transform=True, n_jobs=-1, voting='soft',\n",
       "                 weights=[1, 2, 2])"
      ]
     },
     "execution_count": 77,
     "metadata": {},
     "output_type": "execute_result"
    }
   ],
   "source": [
    "SVM.fit(X_train, y_train)"
   ]
  },
  {
   "cell_type": "code",
   "execution_count": 71,
   "metadata": {},
   "outputs": [
    {
     "name": "stdout",
     "output_type": "stream",
     "text": [
      "Précision Train:  0.991\n",
      "Précision Test:  0.974\n"
     ]
    }
   ],
   "source": [
    "print(\"Précision Train: \",round(SVM.score(X_train, y_train),3))\n",
    "print(\"Précision Test: \",round(SVM.score(X_test, y_test),3))"
   ]
  },
  {
   "cell_type": "markdown",
   "metadata": {},
   "source": [
    "## Exercice 3"
   ]
  },
  {
   "cell_type": "code",
   "execution_count": 78,
   "metadata": {},
   "outputs": [
    {
     "data": {
      "text/html": [
       "<div>\n",
       "<style scoped>\n",
       "    .dataframe tbody tr th:only-of-type {\n",
       "        vertical-align: middle;\n",
       "    }\n",
       "\n",
       "    .dataframe tbody tr th {\n",
       "        vertical-align: top;\n",
       "    }\n",
       "\n",
       "    .dataframe thead th {\n",
       "        text-align: right;\n",
       "    }\n",
       "</style>\n",
       "<table border=\"1\" class=\"dataframe\">\n",
       "  <thead>\n",
       "    <tr style=\"text-align: right;\">\n",
       "      <th></th>\n",
       "      <th>JOUR</th>\n",
       "      <th>O3obs</th>\n",
       "      <th>MOCAGE</th>\n",
       "      <th>TEMPE</th>\n",
       "      <th>RMH2O</th>\n",
       "      <th>NO2</th>\n",
       "      <th>NO</th>\n",
       "      <th>STATION</th>\n",
       "      <th>VentMOD</th>\n",
       "      <th>VentANG</th>\n",
       "    </tr>\n",
       "  </thead>\n",
       "  <tbody>\n",
       "    <tr>\n",
       "      <th>0</th>\n",
       "      <td>1</td>\n",
       "      <td>91</td>\n",
       "      <td>93.2</td>\n",
       "      <td>21.5</td>\n",
       "      <td>0.00847</td>\n",
       "      <td>1.602</td>\n",
       "      <td>0.424</td>\n",
       "      <td>Aix</td>\n",
       "      <td>9.5000</td>\n",
       "      <td>-0.64350</td>\n",
       "    </tr>\n",
       "    <tr>\n",
       "      <th>1</th>\n",
       "      <td>1</td>\n",
       "      <td>100</td>\n",
       "      <td>104.6</td>\n",
       "      <td>20.2</td>\n",
       "      <td>0.00881</td>\n",
       "      <td>2.121</td>\n",
       "      <td>0.531</td>\n",
       "      <td>Aix</td>\n",
       "      <td>8.0100</td>\n",
       "      <td>-0.04996</td>\n",
       "    </tr>\n",
       "    <tr>\n",
       "      <th>2</th>\n",
       "      <td>0</td>\n",
       "      <td>82</td>\n",
       "      <td>103.6</td>\n",
       "      <td>17.4</td>\n",
       "      <td>0.00951</td>\n",
       "      <td>1.657</td>\n",
       "      <td>0.467</td>\n",
       "      <td>Aix</td>\n",
       "      <td>9.3771</td>\n",
       "      <td>-0.12832</td>\n",
       "    </tr>\n",
       "    <tr>\n",
       "      <th>3</th>\n",
       "      <td>0</td>\n",
       "      <td>94</td>\n",
       "      <td>94.8</td>\n",
       "      <td>18.8</td>\n",
       "      <td>0.00855</td>\n",
       "      <td>2.350</td>\n",
       "      <td>0.701</td>\n",
       "      <td>Aix</td>\n",
       "      <td>9.4578</td>\n",
       "      <td>-0.34516</td>\n",
       "    </tr>\n",
       "    <tr>\n",
       "      <th>4</th>\n",
       "      <td>0</td>\n",
       "      <td>107</td>\n",
       "      <td>99.0</td>\n",
       "      <td>23.7</td>\n",
       "      <td>0.00731</td>\n",
       "      <td>1.653</td>\n",
       "      <td>0.452</td>\n",
       "      <td>Aix</td>\n",
       "      <td>7.8791</td>\n",
       "      <td>-0.41822</td>\n",
       "    </tr>\n",
       "    <tr>\n",
       "      <th>5</th>\n",
       "      <td>0</td>\n",
       "      <td>150</td>\n",
       "      <td>114.3</td>\n",
       "      <td>23.6</td>\n",
       "      <td>0.01182</td>\n",
       "      <td>5.316</td>\n",
       "      <td>1.343</td>\n",
       "      <td>Aix</td>\n",
       "      <td>6.3127</td>\n",
       "      <td>0.06341</td>\n",
       "    </tr>\n",
       "    <tr>\n",
       "      <th>6</th>\n",
       "      <td>0</td>\n",
       "      <td>164</td>\n",
       "      <td>127.7</td>\n",
       "      <td>26.6</td>\n",
       "      <td>0.00937</td>\n",
       "      <td>2.841</td>\n",
       "      <td>0.550</td>\n",
       "      <td>Aix</td>\n",
       "      <td>4.8042</td>\n",
       "      <td>0.04164</td>\n",
       "    </tr>\n",
       "    <tr>\n",
       "      <th>7</th>\n",
       "      <td>1</td>\n",
       "      <td>135</td>\n",
       "      <td>164.3</td>\n",
       "      <td>23.5</td>\n",
       "      <td>0.01087</td>\n",
       "      <td>15.733</td>\n",
       "      <td>2.911</td>\n",
       "      <td>Aix</td>\n",
       "      <td>4.8795</td>\n",
       "      <td>0.79989</td>\n",
       "    </tr>\n",
       "    <tr>\n",
       "      <th>8</th>\n",
       "      <td>1</td>\n",
       "      <td>121</td>\n",
       "      <td>144.1</td>\n",
       "      <td>23.3</td>\n",
       "      <td>0.01168</td>\n",
       "      <td>8.807</td>\n",
       "      <td>1.867</td>\n",
       "      <td>Aix</td>\n",
       "      <td>5.1088</td>\n",
       "      <td>0.70226</td>\n",
       "    </tr>\n",
       "    <tr>\n",
       "      <th>9</th>\n",
       "      <td>0</td>\n",
       "      <td>129</td>\n",
       "      <td>112.8</td>\n",
       "      <td>23.7</td>\n",
       "      <td>0.01091</td>\n",
       "      <td>18.911</td>\n",
       "      <td>4.700</td>\n",
       "      <td>Aix</td>\n",
       "      <td>5.4406</td>\n",
       "      <td>0.94200</td>\n",
       "    </tr>\n",
       "    <tr>\n",
       "      <th>10</th>\n",
       "      <td>0</td>\n",
       "      <td>118</td>\n",
       "      <td>72.6</td>\n",
       "      <td>22.2</td>\n",
       "      <td>0.01626</td>\n",
       "      <td>4.258</td>\n",
       "      <td>1.304</td>\n",
       "      <td>Aix</td>\n",
       "      <td>5.9641</td>\n",
       "      <td>-0.60661</td>\n",
       "    </tr>\n",
       "    <tr>\n",
       "      <th>11</th>\n",
       "      <td>0</td>\n",
       "      <td>48</td>\n",
       "      <td>146.0</td>\n",
       "      <td>14.3</td>\n",
       "      <td>0.01453</td>\n",
       "      <td>13.664</td>\n",
       "      <td>2.976</td>\n",
       "      <td>Aix</td>\n",
       "      <td>5.8034</td>\n",
       "      <td>-0.03447</td>\n",
       "    </tr>\n",
       "    <tr>\n",
       "      <th>12</th>\n",
       "      <td>0</td>\n",
       "      <td>97</td>\n",
       "      <td>87.5</td>\n",
       "      <td>18.5</td>\n",
       "      <td>0.00959</td>\n",
       "      <td>4.126</td>\n",
       "      <td>1.271</td>\n",
       "      <td>Aix</td>\n",
       "      <td>7.5273</td>\n",
       "      <td>0.33856</td>\n",
       "    </tr>\n",
       "    <tr>\n",
       "      <th>13</th>\n",
       "      <td>1</td>\n",
       "      <td>83</td>\n",
       "      <td>158.9</td>\n",
       "      <td>15.4</td>\n",
       "      <td>0.01456</td>\n",
       "      <td>10.254</td>\n",
       "      <td>1.839</td>\n",
       "      <td>Aix</td>\n",
       "      <td>2.5942</td>\n",
       "      <td>0.48089</td>\n",
       "    </tr>\n",
       "    <tr>\n",
       "      <th>14</th>\n",
       "      <td>1</td>\n",
       "      <td>73</td>\n",
       "      <td>112.6</td>\n",
       "      <td>19.6</td>\n",
       "      <td>0.01220</td>\n",
       "      <td>1.955</td>\n",
       "      <td>0.445</td>\n",
       "      <td>Aix</td>\n",
       "      <td>8.8752</td>\n",
       "      <td>-0.58488</td>\n",
       "    </tr>\n",
       "    <tr>\n",
       "      <th>15</th>\n",
       "      <td>0</td>\n",
       "      <td>91</td>\n",
       "      <td>76.9</td>\n",
       "      <td>21.7</td>\n",
       "      <td>0.00685</td>\n",
       "      <td>1.382</td>\n",
       "      <td>0.429</td>\n",
       "      <td>Aix</td>\n",
       "      <td>12.3004</td>\n",
       "      <td>-0.63537</td>\n",
       "    </tr>\n",
       "    <tr>\n",
       "      <th>16</th>\n",
       "      <td>0</td>\n",
       "      <td>70</td>\n",
       "      <td>81.8</td>\n",
       "      <td>24.4</td>\n",
       "      <td>0.00890</td>\n",
       "      <td>1.567</td>\n",
       "      <td>0.443</td>\n",
       "      <td>Aix</td>\n",
       "      <td>9.5000</td>\n",
       "      <td>-0.64350</td>\n",
       "    </tr>\n",
       "    <tr>\n",
       "      <th>17</th>\n",
       "      <td>0</td>\n",
       "      <td>125</td>\n",
       "      <td>178.6</td>\n",
       "      <td>24.8</td>\n",
       "      <td>0.01206</td>\n",
       "      <td>8.216</td>\n",
       "      <td>1.139</td>\n",
       "      <td>Aix</td>\n",
       "      <td>6.5192</td>\n",
       "      <td>0.72027</td>\n",
       "    </tr>\n",
       "    <tr>\n",
       "      <th>18</th>\n",
       "      <td>0</td>\n",
       "      <td>168</td>\n",
       "      <td>127.9</td>\n",
       "      <td>28.2</td>\n",
       "      <td>0.01387</td>\n",
       "      <td>4.632</td>\n",
       "      <td>0.861</td>\n",
       "      <td>Aix</td>\n",
       "      <td>7.1309</td>\n",
       "      <td>0.38832</td>\n",
       "    </tr>\n",
       "    <tr>\n",
       "      <th>19</th>\n",
       "      <td>0</td>\n",
       "      <td>113</td>\n",
       "      <td>109.3</td>\n",
       "      <td>26.0</td>\n",
       "      <td>0.01220</td>\n",
       "      <td>12.290</td>\n",
       "      <td>2.958</td>\n",
       "      <td>Aix</td>\n",
       "      <td>5.9816</td>\n",
       "      <td>0.66691</td>\n",
       "    </tr>\n",
       "    <tr>\n",
       "      <th>20</th>\n",
       "      <td>1</td>\n",
       "      <td>118</td>\n",
       "      <td>113.0</td>\n",
       "      <td>26.2</td>\n",
       "      <td>0.01064</td>\n",
       "      <td>4.615</td>\n",
       "      <td>0.995</td>\n",
       "      <td>Aix</td>\n",
       "      <td>6.2769</td>\n",
       "      <td>0.53496</td>\n",
       "    </tr>\n",
       "    <tr>\n",
       "      <th>21</th>\n",
       "      <td>1</td>\n",
       "      <td>130</td>\n",
       "      <td>136.3</td>\n",
       "      <td>27.2</td>\n",
       "      <td>0.00912</td>\n",
       "      <td>4.276</td>\n",
       "      <td>0.827</td>\n",
       "      <td>Aix</td>\n",
       "      <td>6.0033</td>\n",
       "      <td>0.52328</td>\n",
       "    </tr>\n",
       "    <tr>\n",
       "      <th>22</th>\n",
       "      <td>0</td>\n",
       "      <td>179</td>\n",
       "      <td>141.1</td>\n",
       "      <td>27.8</td>\n",
       "      <td>0.01010</td>\n",
       "      <td>7.656</td>\n",
       "      <td>1.750</td>\n",
       "      <td>Aix</td>\n",
       "      <td>5.1313</td>\n",
       "      <td>0.57719</td>\n",
       "    </tr>\n",
       "    <tr>\n",
       "      <th>23</th>\n",
       "      <td>0</td>\n",
       "      <td>196</td>\n",
       "      <td>131.4</td>\n",
       "      <td>29.1</td>\n",
       "      <td>0.00919</td>\n",
       "      <td>5.208</td>\n",
       "      <td>1.016</td>\n",
       "      <td>Aix</td>\n",
       "      <td>6.0902</td>\n",
       "      <td>0.51507</td>\n",
       "    </tr>\n",
       "    <tr>\n",
       "      <th>24</th>\n",
       "      <td>0</td>\n",
       "      <td>160</td>\n",
       "      <td>141.1</td>\n",
       "      <td>29.5</td>\n",
       "      <td>0.01033</td>\n",
       "      <td>5.043</td>\n",
       "      <td>0.900</td>\n",
       "      <td>Aix</td>\n",
       "      <td>6.1221</td>\n",
       "      <td>0.66964</td>\n",
       "    </tr>\n",
       "    <tr>\n",
       "      <th>25</th>\n",
       "      <td>0</td>\n",
       "      <td>180</td>\n",
       "      <td>163.6</td>\n",
       "      <td>29.5</td>\n",
       "      <td>0.00789</td>\n",
       "      <td>8.520</td>\n",
       "      <td>1.385</td>\n",
       "      <td>Aix</td>\n",
       "      <td>5.5227</td>\n",
       "      <td>0.55284</td>\n",
       "    </tr>\n",
       "    <tr>\n",
       "      <th>26</th>\n",
       "      <td>0</td>\n",
       "      <td>103</td>\n",
       "      <td>141.6</td>\n",
       "      <td>29.1</td>\n",
       "      <td>0.00663</td>\n",
       "      <td>6.654</td>\n",
       "      <td>1.341</td>\n",
       "      <td>Aix</td>\n",
       "      <td>5.2839</td>\n",
       "      <td>0.51445</td>\n",
       "    </tr>\n",
       "    <tr>\n",
       "      <th>27</th>\n",
       "      <td>1</td>\n",
       "      <td>214</td>\n",
       "      <td>159.9</td>\n",
       "      <td>33.2</td>\n",
       "      <td>0.01431</td>\n",
       "      <td>4.122</td>\n",
       "      <td>0.563</td>\n",
       "      <td>Aix</td>\n",
       "      <td>7.2615</td>\n",
       "      <td>0.39585</td>\n",
       "    </tr>\n",
       "    <tr>\n",
       "      <th>28</th>\n",
       "      <td>1</td>\n",
       "      <td>178</td>\n",
       "      <td>138.1</td>\n",
       "      <td>30.5</td>\n",
       "      <td>0.01509</td>\n",
       "      <td>6.835</td>\n",
       "      <td>1.174</td>\n",
       "      <td>Aix</td>\n",
       "      <td>6.0877</td>\n",
       "      <td>0.73892</td>\n",
       "    </tr>\n",
       "    <tr>\n",
       "      <th>29</th>\n",
       "      <td>0</td>\n",
       "      <td>160</td>\n",
       "      <td>155.1</td>\n",
       "      <td>30.9</td>\n",
       "      <td>0.01526</td>\n",
       "      <td>2.489</td>\n",
       "      <td>0.349</td>\n",
       "      <td>Aix</td>\n",
       "      <td>7.2422</td>\n",
       "      <td>-0.61864</td>\n",
       "    </tr>\n",
       "    <tr>\n",
       "      <th>30</th>\n",
       "      <td>0</td>\n",
       "      <td>131</td>\n",
       "      <td>140.5</td>\n",
       "      <td>30.2</td>\n",
       "      <td>0.00877</td>\n",
       "      <td>3.026</td>\n",
       "      <td>0.481</td>\n",
       "      <td>Aix</td>\n",
       "      <td>9.0000</td>\n",
       "      <td>-0.64350</td>\n",
       "    </tr>\n",
       "    <tr>\n",
       "      <th>31</th>\n",
       "      <td>0</td>\n",
       "      <td>169</td>\n",
       "      <td>149.9</td>\n",
       "      <td>30.2</td>\n",
       "      <td>0.01134</td>\n",
       "      <td>2.198</td>\n",
       "      <td>0.314</td>\n",
       "      <td>Aix</td>\n",
       "      <td>5.7801</td>\n",
       "      <td>-0.52558</td>\n",
       "    </tr>\n",
       "    <tr>\n",
       "      <th>32</th>\n",
       "      <td>0</td>\n",
       "      <td>139</td>\n",
       "      <td>92.5</td>\n",
       "      <td>26.0</td>\n",
       "      <td>0.01426</td>\n",
       "      <td>23.822</td>\n",
       "      <td>7.510</td>\n",
       "      <td>Aix</td>\n",
       "      <td>5.3600</td>\n",
       "      <td>0.93103</td>\n",
       "    </tr>\n",
       "    <tr>\n",
       "      <th>33</th>\n",
       "      <td>0</td>\n",
       "      <td>104</td>\n",
       "      <td>97.9</td>\n",
       "      <td>25.4</td>\n",
       "      <td>0.00884</td>\n",
       "      <td>1.816</td>\n",
       "      <td>0.414</td>\n",
       "      <td>Aix</td>\n",
       "      <td>12.3907</td>\n",
       "      <td>-0.83678</td>\n",
       "    </tr>\n",
       "    <tr>\n",
       "      <th>34</th>\n",
       "      <td>1</td>\n",
       "      <td>127</td>\n",
       "      <td>96.1</td>\n",
       "      <td>26.2</td>\n",
       "      <td>0.00712</td>\n",
       "      <td>1.780</td>\n",
       "      <td>0.429</td>\n",
       "      <td>Aix</td>\n",
       "      <td>6.2266</td>\n",
       "      <td>-0.52114</td>\n",
       "    </tr>\n",
       "    <tr>\n",
       "      <th>35</th>\n",
       "      <td>1</td>\n",
       "      <td>163</td>\n",
       "      <td>123.7</td>\n",
       "      <td>25.4</td>\n",
       "      <td>0.01058</td>\n",
       "      <td>2.701</td>\n",
       "      <td>0.596</td>\n",
       "      <td>Aix</td>\n",
       "      <td>6.3008</td>\n",
       "      <td>0.01587</td>\n",
       "    </tr>\n",
       "    <tr>\n",
       "      <th>36</th>\n",
       "      <td>0</td>\n",
       "      <td>121</td>\n",
       "      <td>146.2</td>\n",
       "      <td>23.3</td>\n",
       "      <td>0.01343</td>\n",
       "      <td>18.234</td>\n",
       "      <td>3.773</td>\n",
       "      <td>Aix</td>\n",
       "      <td>4.7854</td>\n",
       "      <td>1.11649</td>\n",
       "    </tr>\n",
       "    <tr>\n",
       "      <th>37</th>\n",
       "      <td>0</td>\n",
       "      <td>93</td>\n",
       "      <td>126.1</td>\n",
       "      <td>26.6</td>\n",
       "      <td>0.01217</td>\n",
       "      <td>3.187</td>\n",
       "      <td>0.669</td>\n",
       "      <td>Aix</td>\n",
       "      <td>6.0133</td>\n",
       "      <td>-0.06657</td>\n",
       "    </tr>\n",
       "    <tr>\n",
       "      <th>38</th>\n",
       "      <td>0</td>\n",
       "      <td>108</td>\n",
       "      <td>122.4</td>\n",
       "      <td>22.1</td>\n",
       "      <td>0.01872</td>\n",
       "      <td>8.698</td>\n",
       "      <td>2.038</td>\n",
       "      <td>Aix</td>\n",
       "      <td>6.4444</td>\n",
       "      <td>0.73051</td>\n",
       "    </tr>\n",
       "    <tr>\n",
       "      <th>39</th>\n",
       "      <td>0</td>\n",
       "      <td>91</td>\n",
       "      <td>99.7</td>\n",
       "      <td>24.7</td>\n",
       "      <td>0.00754</td>\n",
       "      <td>2.109</td>\n",
       "      <td>0.502</td>\n",
       "      <td>Aix</td>\n",
       "      <td>11.2058</td>\n",
       "      <td>-0.57563</td>\n",
       "    </tr>\n",
       "    <tr>\n",
       "      <th>40</th>\n",
       "      <td>0</td>\n",
       "      <td>129</td>\n",
       "      <td>122.4</td>\n",
       "      <td>24.5</td>\n",
       "      <td>0.00921</td>\n",
       "      <td>5.359</td>\n",
       "      <td>1.146</td>\n",
       "      <td>Aix</td>\n",
       "      <td>6.9354</td>\n",
       "      <td>0.74460</td>\n",
       "    </tr>\n",
       "    <tr>\n",
       "      <th>41</th>\n",
       "      <td>1</td>\n",
       "      <td>89</td>\n",
       "      <td>146.5</td>\n",
       "      <td>24.9</td>\n",
       "      <td>0.01134</td>\n",
       "      <td>2.336</td>\n",
       "      <td>0.362</td>\n",
       "      <td>Aix</td>\n",
       "      <td>6.5765</td>\n",
       "      <td>-0.49085</td>\n",
       "    </tr>\n",
       "    <tr>\n",
       "      <th>42</th>\n",
       "      <td>1</td>\n",
       "      <td>145</td>\n",
       "      <td>145.2</td>\n",
       "      <td>28.1</td>\n",
       "      <td>0.01342</td>\n",
       "      <td>4.691</td>\n",
       "      <td>0.808</td>\n",
       "      <td>Aix</td>\n",
       "      <td>7.4653</td>\n",
       "      <td>0.68102</td>\n",
       "    </tr>\n",
       "    <tr>\n",
       "      <th>43</th>\n",
       "      <td>0</td>\n",
       "      <td>124</td>\n",
       "      <td>127.3</td>\n",
       "      <td>28.0</td>\n",
       "      <td>0.01123</td>\n",
       "      <td>6.486</td>\n",
       "      <td>1.292</td>\n",
       "      <td>Aix</td>\n",
       "      <td>7.1344</td>\n",
       "      <td>1.02557</td>\n",
       "    </tr>\n",
       "    <tr>\n",
       "      <th>44</th>\n",
       "      <td>0</td>\n",
       "      <td>132</td>\n",
       "      <td>125.9</td>\n",
       "      <td>26.9</td>\n",
       "      <td>0.01173</td>\n",
       "      <td>9.414</td>\n",
       "      <td>2.220</td>\n",
       "      <td>Aix</td>\n",
       "      <td>6.2936</td>\n",
       "      <td>0.77416</td>\n",
       "    </tr>\n",
       "    <tr>\n",
       "      <th>45</th>\n",
       "      <td>0</td>\n",
       "      <td>96</td>\n",
       "      <td>183.4</td>\n",
       "      <td>26.3</td>\n",
       "      <td>0.01483</td>\n",
       "      <td>4.334</td>\n",
       "      <td>0.580</td>\n",
       "      <td>Aix</td>\n",
       "      <td>5.4452</td>\n",
       "      <td>-0.12891</td>\n",
       "    </tr>\n",
       "    <tr>\n",
       "      <th>46</th>\n",
       "      <td>0</td>\n",
       "      <td>116</td>\n",
       "      <td>117.0</td>\n",
       "      <td>28.9</td>\n",
       "      <td>0.01007</td>\n",
       "      <td>2.743</td>\n",
       "      <td>0.541</td>\n",
       "      <td>Aix</td>\n",
       "      <td>6.3600</td>\n",
       "      <td>-0.28694</td>\n",
       "    </tr>\n",
       "    <tr>\n",
       "      <th>47</th>\n",
       "      <td>0</td>\n",
       "      <td>132</td>\n",
       "      <td>128.4</td>\n",
       "      <td>30.0</td>\n",
       "      <td>0.01023</td>\n",
       "      <td>2.810</td>\n",
       "      <td>0.508</td>\n",
       "      <td>Aix</td>\n",
       "      <td>6.5620</td>\n",
       "      <td>-0.13759</td>\n",
       "    </tr>\n",
       "    <tr>\n",
       "      <th>48</th>\n",
       "      <td>1</td>\n",
       "      <td>93</td>\n",
       "      <td>74.1</td>\n",
       "      <td>24.9</td>\n",
       "      <td>0.00984</td>\n",
       "      <td>1.045</td>\n",
       "      <td>0.337</td>\n",
       "      <td>Aix</td>\n",
       "      <td>9.4260</td>\n",
       "      <td>-0.71783</td>\n",
       "    </tr>\n",
       "    <tr>\n",
       "      <th>49</th>\n",
       "      <td>0</td>\n",
       "      <td>117</td>\n",
       "      <td>159.1</td>\n",
       "      <td>20.1</td>\n",
       "      <td>0.01962</td>\n",
       "      <td>3.127</td>\n",
       "      <td>0.432</td>\n",
       "      <td>Aix</td>\n",
       "      <td>5.4626</td>\n",
       "      <td>-0.41451</td>\n",
       "    </tr>\n",
       "    <tr>\n",
       "      <th>50</th>\n",
       "      <td>0</td>\n",
       "      <td>96</td>\n",
       "      <td>143.3</td>\n",
       "      <td>23.7</td>\n",
       "      <td>0.01534</td>\n",
       "      <td>2.125</td>\n",
       "      <td>0.362</td>\n",
       "      <td>Aix</td>\n",
       "      <td>12.1017</td>\n",
       "      <td>-0.74449</td>\n",
       "    </tr>\n",
       "    <tr>\n",
       "      <th>51</th>\n",
       "      <td>0</td>\n",
       "      <td>111</td>\n",
       "      <td>119.9</td>\n",
       "      <td>28.4</td>\n",
       "      <td>0.01138</td>\n",
       "      <td>1.823</td>\n",
       "      <td>0.334</td>\n",
       "      <td>Aix</td>\n",
       "      <td>10.6042</td>\n",
       "      <td>-0.67180</td>\n",
       "    </tr>\n",
       "    <tr>\n",
       "      <th>52</th>\n",
       "      <td>0</td>\n",
       "      <td>184</td>\n",
       "      <td>168.5</td>\n",
       "      <td>29.0</td>\n",
       "      <td>0.00900</td>\n",
       "      <td>3.827</td>\n",
       "      <td>0.612</td>\n",
       "      <td>Aix</td>\n",
       "      <td>6.7119</td>\n",
       "      <td>-0.05963</td>\n",
       "    </tr>\n",
       "    <tr>\n",
       "      <th>53</th>\n",
       "      <td>1</td>\n",
       "      <td>170</td>\n",
       "      <td>133.4</td>\n",
       "      <td>28.3</td>\n",
       "      <td>0.01188</td>\n",
       "      <td>4.647</td>\n",
       "      <td>0.807</td>\n",
       "      <td>Aix</td>\n",
       "      <td>6.7231</td>\n",
       "      <td>0.53022</td>\n",
       "    </tr>\n",
       "    <tr>\n",
       "      <th>54</th>\n",
       "      <td>1</td>\n",
       "      <td>148</td>\n",
       "      <td>125.6</td>\n",
       "      <td>28.5</td>\n",
       "      <td>0.01537</td>\n",
       "      <td>11.480</td>\n",
       "      <td>2.414</td>\n",
       "      <td>Aix</td>\n",
       "      <td>4.6615</td>\n",
       "      <td>0.61776</td>\n",
       "    </tr>\n",
       "    <tr>\n",
       "      <th>55</th>\n",
       "      <td>0</td>\n",
       "      <td>109</td>\n",
       "      <td>154.3</td>\n",
       "      <td>31.1</td>\n",
       "      <td>0.00833</td>\n",
       "      <td>3.415</td>\n",
       "      <td>0.472</td>\n",
       "      <td>Aix</td>\n",
       "      <td>5.8669</td>\n",
       "      <td>-0.51703</td>\n",
       "    </tr>\n",
       "    <tr>\n",
       "      <th>56</th>\n",
       "      <td>0</td>\n",
       "      <td>222</td>\n",
       "      <td>133.9</td>\n",
       "      <td>29.5</td>\n",
       "      <td>0.01456</td>\n",
       "      <td>3.339</td>\n",
       "      <td>0.572</td>\n",
       "      <td>Aix</td>\n",
       "      <td>5.7079</td>\n",
       "      <td>-0.05258</td>\n",
       "    </tr>\n",
       "    <tr>\n",
       "      <th>57</th>\n",
       "      <td>0</td>\n",
       "      <td>80</td>\n",
       "      <td>72.6</td>\n",
       "      <td>27.6</td>\n",
       "      <td>0.01205</td>\n",
       "      <td>1.051</td>\n",
       "      <td>0.290</td>\n",
       "      <td>Aix</td>\n",
       "      <td>12.4483</td>\n",
       "      <td>-0.80812</td>\n",
       "    </tr>\n",
       "    <tr>\n",
       "      <th>58</th>\n",
       "      <td>0</td>\n",
       "      <td>108</td>\n",
       "      <td>105.7</td>\n",
       "      <td>25.8</td>\n",
       "      <td>0.01035</td>\n",
       "      <td>1.704</td>\n",
       "      <td>0.358</td>\n",
       "      <td>Aix</td>\n",
       "      <td>12.5607</td>\n",
       "      <td>-0.70085</td>\n",
       "    </tr>\n",
       "    <tr>\n",
       "      <th>59</th>\n",
       "      <td>0</td>\n",
       "      <td>156</td>\n",
       "      <td>137.1</td>\n",
       "      <td>28.6</td>\n",
       "      <td>0.01256</td>\n",
       "      <td>2.686</td>\n",
       "      <td>0.452</td>\n",
       "      <td>Aix</td>\n",
       "      <td>5.5731</td>\n",
       "      <td>0.16220</td>\n",
       "    </tr>\n",
       "    <tr>\n",
       "      <th>60</th>\n",
       "      <td>1</td>\n",
       "      <td>126</td>\n",
       "      <td>136.8</td>\n",
       "      <td>27.1</td>\n",
       "      <td>0.01380</td>\n",
       "      <td>7.755</td>\n",
       "      <td>1.464</td>\n",
       "      <td>Aix</td>\n",
       "      <td>6.2968</td>\n",
       "      <td>0.81909</td>\n",
       "    </tr>\n",
       "    <tr>\n",
       "      <th>61</th>\n",
       "      <td>1</td>\n",
       "      <td>130</td>\n",
       "      <td>150.6</td>\n",
       "      <td>26.6</td>\n",
       "      <td>0.01577</td>\n",
       "      <td>4.650</td>\n",
       "      <td>0.768</td>\n",
       "      <td>Aix</td>\n",
       "      <td>5.6851</td>\n",
       "      <td>0.68573</td>\n",
       "    </tr>\n",
       "    <tr>\n",
       "      <th>62</th>\n",
       "      <td>0</td>\n",
       "      <td>182</td>\n",
       "      <td>229.2</td>\n",
       "      <td>22.1</td>\n",
       "      <td>0.02486</td>\n",
       "      <td>18.303</td>\n",
       "      <td>2.153</td>\n",
       "      <td>Aix</td>\n",
       "      <td>5.0931</td>\n",
       "      <td>0.81317</td>\n",
       "    </tr>\n",
       "    <tr>\n",
       "      <th>63</th>\n",
       "      <td>0</td>\n",
       "      <td>107</td>\n",
       "      <td>147.6</td>\n",
       "      <td>24.7</td>\n",
       "      <td>0.01716</td>\n",
       "      <td>6.163</td>\n",
       "      <td>1.073</td>\n",
       "      <td>Aix</td>\n",
       "      <td>5.4818</td>\n",
       "      <td>0.25825</td>\n",
       "    </tr>\n",
       "    <tr>\n",
       "      <th>64</th>\n",
       "      <td>0</td>\n",
       "      <td>148</td>\n",
       "      <td>155.2</td>\n",
       "      <td>30.0</td>\n",
       "      <td>0.01172</td>\n",
       "      <td>5.587</td>\n",
       "      <td>0.847</td>\n",
       "      <td>Aix</td>\n",
       "      <td>6.0440</td>\n",
       "      <td>0.67991</td>\n",
       "    </tr>\n",
       "    <tr>\n",
       "      <th>65</th>\n",
       "      <td>1</td>\n",
       "      <td>171</td>\n",
       "      <td>163.9</td>\n",
       "      <td>30.3</td>\n",
       "      <td>0.01441</td>\n",
       "      <td>7.945</td>\n",
       "      <td>1.181</td>\n",
       "      <td>Aix</td>\n",
       "      <td>6.1620</td>\n",
       "      <td>0.72799</td>\n",
       "    </tr>\n",
       "    <tr>\n",
       "      <th>66</th>\n",
       "      <td>0</td>\n",
       "      <td>157</td>\n",
       "      <td>148.5</td>\n",
       "      <td>32.2</td>\n",
       "      <td>0.01424</td>\n",
       "      <td>4.842</td>\n",
       "      <td>0.741</td>\n",
       "      <td>Aix</td>\n",
       "      <td>6.5947</td>\n",
       "      <td>0.71027</td>\n",
       "    </tr>\n",
       "    <tr>\n",
       "      <th>67</th>\n",
       "      <td>0</td>\n",
       "      <td>181</td>\n",
       "      <td>146.6</td>\n",
       "      <td>32.7</td>\n",
       "      <td>0.01151</td>\n",
       "      <td>5.193</td>\n",
       "      <td>0.809</td>\n",
       "      <td>Aix</td>\n",
       "      <td>7.0831</td>\n",
       "      <td>0.53316</td>\n",
       "    </tr>\n",
       "    <tr>\n",
       "      <th>68</th>\n",
       "      <td>0</td>\n",
       "      <td>155</td>\n",
       "      <td>157.5</td>\n",
       "      <td>32.2</td>\n",
       "      <td>0.01790</td>\n",
       "      <td>5.705</td>\n",
       "      <td>0.984</td>\n",
       "      <td>Aix</td>\n",
       "      <td>5.7689</td>\n",
       "      <td>0.58800</td>\n",
       "    </tr>\n",
       "    <tr>\n",
       "      <th>69</th>\n",
       "      <td>0</td>\n",
       "      <td>191</td>\n",
       "      <td>149.6</td>\n",
       "      <td>31.8</td>\n",
       "      <td>0.01520</td>\n",
       "      <td>7.863</td>\n",
       "      <td>1.276</td>\n",
       "      <td>Aix</td>\n",
       "      <td>6.3702</td>\n",
       "      <td>0.82981</td>\n",
       "    </tr>\n",
       "    <tr>\n",
       "      <th>70</th>\n",
       "      <td>1</td>\n",
       "      <td>202</td>\n",
       "      <td>143.2</td>\n",
       "      <td>32.5</td>\n",
       "      <td>0.01549</td>\n",
       "      <td>4.628</td>\n",
       "      <td>0.790</td>\n",
       "      <td>Aix</td>\n",
       "      <td>7.1610</td>\n",
       "      <td>0.62674</td>\n",
       "    </tr>\n",
       "    <tr>\n",
       "      <th>71</th>\n",
       "      <td>1</td>\n",
       "      <td>176</td>\n",
       "      <td>128.5</td>\n",
       "      <td>31.6</td>\n",
       "      <td>0.01332</td>\n",
       "      <td>4.274</td>\n",
       "      <td>0.768</td>\n",
       "      <td>Aix</td>\n",
       "      <td>7.1028</td>\n",
       "      <td>0.61534</td>\n",
       "    </tr>\n",
       "    <tr>\n",
       "      <th>72</th>\n",
       "      <td>0</td>\n",
       "      <td>183</td>\n",
       "      <td>184.0</td>\n",
       "      <td>32.8</td>\n",
       "      <td>0.01814</td>\n",
       "      <td>4.560</td>\n",
       "      <td>0.544</td>\n",
       "      <td>Aix</td>\n",
       "      <td>7.4404</td>\n",
       "      <td>0.63275</td>\n",
       "    </tr>\n",
       "    <tr>\n",
       "      <th>73</th>\n",
       "      <td>0</td>\n",
       "      <td>255</td>\n",
       "      <td>191.2</td>\n",
       "      <td>34.1</td>\n",
       "      <td>0.01693</td>\n",
       "      <td>10.559</td>\n",
       "      <td>1.254</td>\n",
       "      <td>Aix</td>\n",
       "      <td>7.0725</td>\n",
       "      <td>0.80540</td>\n",
       "    </tr>\n",
       "    <tr>\n",
       "      <th>74</th>\n",
       "      <td>0</td>\n",
       "      <td>185</td>\n",
       "      <td>176.9</td>\n",
       "      <td>32.6</td>\n",
       "      <td>0.02004</td>\n",
       "      <td>10.608</td>\n",
       "      <td>1.396</td>\n",
       "      <td>Aix</td>\n",
       "      <td>7.2863</td>\n",
       "      <td>0.75628</td>\n",
       "    </tr>\n",
       "    <tr>\n",
       "      <th>75</th>\n",
       "      <td>0</td>\n",
       "      <td>193</td>\n",
       "      <td>207.7</td>\n",
       "      <td>32.5</td>\n",
       "      <td>0.01941</td>\n",
       "      <td>8.263</td>\n",
       "      <td>0.981</td>\n",
       "      <td>Aix</td>\n",
       "      <td>6.7417</td>\n",
       "      <td>0.56332</td>\n",
       "    </tr>\n",
       "    <tr>\n",
       "      <th>76</th>\n",
       "      <td>1</td>\n",
       "      <td>197</td>\n",
       "      <td>205.9</td>\n",
       "      <td>32.1</td>\n",
       "      <td>0.01722</td>\n",
       "      <td>7.736</td>\n",
       "      <td>0.856</td>\n",
       "      <td>Aix</td>\n",
       "      <td>6.5307</td>\n",
       "      <td>0.44310</td>\n",
       "    </tr>\n",
       "    <tr>\n",
       "      <th>77</th>\n",
       "      <td>0</td>\n",
       "      <td>136</td>\n",
       "      <td>126.1</td>\n",
       "      <td>32.5</td>\n",
       "      <td>0.01247</td>\n",
       "      <td>1.968</td>\n",
       "      <td>0.319</td>\n",
       "      <td>Aix</td>\n",
       "      <td>7.9076</td>\n",
       "      <td>-0.16515</td>\n",
       "    </tr>\n",
       "    <tr>\n",
       "      <th>78</th>\n",
       "      <td>1</td>\n",
       "      <td>141</td>\n",
       "      <td>91.8</td>\n",
       "      <td>23.3</td>\n",
       "      <td>0.00714</td>\n",
       "      <td>13.654</td>\n",
       "      <td>4.015</td>\n",
       "      <td>Aix</td>\n",
       "      <td>6.0803</td>\n",
       "      <td>0.93716</td>\n",
       "    </tr>\n",
       "    <tr>\n",
       "      <th>79</th>\n",
       "      <td>0</td>\n",
       "      <td>103</td>\n",
       "      <td>130.0</td>\n",
       "      <td>25.1</td>\n",
       "      <td>0.00431</td>\n",
       "      <td>6.631</td>\n",
       "      <td>1.206</td>\n",
       "      <td>Aix</td>\n",
       "      <td>6.1033</td>\n",
       "      <td>-1.53802</td>\n",
       "    </tr>\n",
       "    <tr>\n",
       "      <th>80</th>\n",
       "      <td>0</td>\n",
       "      <td>90</td>\n",
       "      <td>95.8</td>\n",
       "      <td>21.1</td>\n",
       "      <td>0.00442</td>\n",
       "      <td>2.756</td>\n",
       "      <td>0.745</td>\n",
       "      <td>Aix</td>\n",
       "      <td>8.6833</td>\n",
       "      <td>-0.50486</td>\n",
       "    </tr>\n",
       "    <tr>\n",
       "      <th>81</th>\n",
       "      <td>1</td>\n",
       "      <td>91</td>\n",
       "      <td>121.5</td>\n",
       "      <td>18.0</td>\n",
       "      <td>0.00558</td>\n",
       "      <td>3.785</td>\n",
       "      <td>0.855</td>\n",
       "      <td>Aix</td>\n",
       "      <td>12.5495</td>\n",
       "      <td>-0.71208</td>\n",
       "    </tr>\n",
       "    <tr>\n",
       "      <th>82</th>\n",
       "      <td>0</td>\n",
       "      <td>93</td>\n",
       "      <td>110.1</td>\n",
       "      <td>19.8</td>\n",
       "      <td>0.00373</td>\n",
       "      <td>4.416</td>\n",
       "      <td>1.101</td>\n",
       "      <td>Aix</td>\n",
       "      <td>7.3055</td>\n",
       "      <td>-0.33474</td>\n",
       "    </tr>\n",
       "    <tr>\n",
       "      <th>83</th>\n",
       "      <td>0</td>\n",
       "      <td>93</td>\n",
       "      <td>163.1</td>\n",
       "      <td>19.0</td>\n",
       "      <td>0.00690</td>\n",
       "      <td>30.934</td>\n",
       "      <td>5.006</td>\n",
       "      <td>Aix</td>\n",
       "      <td>3.9319</td>\n",
       "      <td>0.12751</td>\n",
       "    </tr>\n",
       "    <tr>\n",
       "      <th>84</th>\n",
       "      <td>0</td>\n",
       "      <td>119</td>\n",
       "      <td>119.4</td>\n",
       "      <td>20.9</td>\n",
       "      <td>0.00414</td>\n",
       "      <td>4.848</td>\n",
       "      <td>1.069</td>\n",
       "      <td>Aix</td>\n",
       "      <td>4.3463</td>\n",
       "      <td>-0.40187</td>\n",
       "    </tr>\n",
       "    <tr>\n",
       "      <th>85</th>\n",
       "      <td>0</td>\n",
       "      <td>124</td>\n",
       "      <td>129.6</td>\n",
       "      <td>22.0</td>\n",
       "      <td>0.00569</td>\n",
       "      <td>2.584</td>\n",
       "      <td>0.483</td>\n",
       "      <td>Aix</td>\n",
       "      <td>7.5180</td>\n",
       "      <td>-0.49935</td>\n",
       "    </tr>\n",
       "    <tr>\n",
       "      <th>86</th>\n",
       "      <td>1</td>\n",
       "      <td>87</td>\n",
       "      <td>102.5</td>\n",
       "      <td>18.9</td>\n",
       "      <td>0.00956</td>\n",
       "      <td>4.836</td>\n",
       "      <td>1.289</td>\n",
       "      <td>Aix</td>\n",
       "      <td>5.3535</td>\n",
       "      <td>-0.57246</td>\n",
       "    </tr>\n",
       "    <tr>\n",
       "      <th>87</th>\n",
       "      <td>1</td>\n",
       "      <td>107</td>\n",
       "      <td>116.9</td>\n",
       "      <td>20.0</td>\n",
       "      <td>0.00637</td>\n",
       "      <td>6.632</td>\n",
       "      <td>1.635</td>\n",
       "      <td>Aix</td>\n",
       "      <td>6.3789</td>\n",
       "      <td>0.23737</td>\n",
       "    </tr>\n",
       "    <tr>\n",
       "      <th>88</th>\n",
       "      <td>0</td>\n",
       "      <td>106</td>\n",
       "      <td>81.4</td>\n",
       "      <td>14.5</td>\n",
       "      <td>0.00969</td>\n",
       "      <td>22.496</td>\n",
       "      <td>8.513</td>\n",
       "      <td>Aix</td>\n",
       "      <td>0.9434</td>\n",
       "      <td>-0.55860</td>\n",
       "    </tr>\n",
       "    <tr>\n",
       "      <th>89</th>\n",
       "      <td>0</td>\n",
       "      <td>77</td>\n",
       "      <td>122.0</td>\n",
       "      <td>16.0</td>\n",
       "      <td>0.01097</td>\n",
       "      <td>4.776</td>\n",
       "      <td>0.940</td>\n",
       "      <td>Aix</td>\n",
       "      <td>3.9205</td>\n",
       "      <td>-0.65881</td>\n",
       "    </tr>\n",
       "    <tr>\n",
       "      <th>90</th>\n",
       "      <td>0</td>\n",
       "      <td>82</td>\n",
       "      <td>101.0</td>\n",
       "      <td>15.6</td>\n",
       "      <td>0.00599</td>\n",
       "      <td>3.834</td>\n",
       "      <td>1.098</td>\n",
       "      <td>Aix</td>\n",
       "      <td>11.9808</td>\n",
       "      <td>-0.65519</td>\n",
       "    </tr>\n",
       "    <tr>\n",
       "      <th>91</th>\n",
       "      <td>0</td>\n",
       "      <td>93</td>\n",
       "      <td>131.5</td>\n",
       "      <td>22.9</td>\n",
       "      <td>0.00404</td>\n",
       "      <td>5.167</td>\n",
       "      <td>1.057</td>\n",
       "      <td>Aix</td>\n",
       "      <td>5.9464</td>\n",
       "      <td>-0.34302</td>\n",
       "    </tr>\n",
       "    <tr>\n",
       "      <th>92</th>\n",
       "      <td>0</td>\n",
       "      <td>117</td>\n",
       "      <td>118.1</td>\n",
       "      <td>21.6</td>\n",
       "      <td>0.00650</td>\n",
       "      <td>19.528</td>\n",
       "      <td>4.996</td>\n",
       "      <td>Aix</td>\n",
       "      <td>6.4382</td>\n",
       "      <td>0.75244</td>\n",
       "    </tr>\n",
       "    <tr>\n",
       "      <th>93</th>\n",
       "      <td>1</td>\n",
       "      <td>115</td>\n",
       "      <td>93.4</td>\n",
       "      <td>22.0</td>\n",
       "      <td>0.00555</td>\n",
       "      <td>12.768</td>\n",
       "      <td>4.025</td>\n",
       "      <td>Aix</td>\n",
       "      <td>6.1294</td>\n",
       "      <td>1.07796</td>\n",
       "    </tr>\n",
       "    <tr>\n",
       "      <th>94</th>\n",
       "      <td>1</td>\n",
       "      <td>117</td>\n",
       "      <td>134.9</td>\n",
       "      <td>23.2</td>\n",
       "      <td>0.00540</td>\n",
       "      <td>2.606</td>\n",
       "      <td>0.498</td>\n",
       "      <td>Aix</td>\n",
       "      <td>4.8260</td>\n",
       "      <td>-0.97705</td>\n",
       "    </tr>\n",
       "    <tr>\n",
       "      <th>95</th>\n",
       "      <td>0</td>\n",
       "      <td>87</td>\n",
       "      <td>102.0</td>\n",
       "      <td>20.5</td>\n",
       "      <td>0.00635</td>\n",
       "      <td>2.886</td>\n",
       "      <td>0.758</td>\n",
       "      <td>Aix</td>\n",
       "      <td>11.6825</td>\n",
       "      <td>-0.66405</td>\n",
       "    </tr>\n",
       "    <tr>\n",
       "      <th>96</th>\n",
       "      <td>0</td>\n",
       "      <td>111</td>\n",
       "      <td>117.9</td>\n",
       "      <td>24.0</td>\n",
       "      <td>0.00669</td>\n",
       "      <td>4.662</td>\n",
       "      <td>1.072</td>\n",
       "      <td>Aix</td>\n",
       "      <td>6.0166</td>\n",
       "      <td>-0.26917</td>\n",
       "    </tr>\n",
       "    <tr>\n",
       "      <th>97</th>\n",
       "      <td>0</td>\n",
       "      <td>116</td>\n",
       "      <td>169.5</td>\n",
       "      <td>24.8</td>\n",
       "      <td>0.01190</td>\n",
       "      <td>11.374</td>\n",
       "      <td>1.846</td>\n",
       "      <td>Aix</td>\n",
       "      <td>4.7011</td>\n",
       "      <td>0.51123</td>\n",
       "    </tr>\n",
       "    <tr>\n",
       "      <th>98</th>\n",
       "      <td>0</td>\n",
       "      <td>144</td>\n",
       "      <td>190.1</td>\n",
       "      <td>24.5</td>\n",
       "      <td>0.01167</td>\n",
       "      <td>7.578</td>\n",
       "      <td>1.031</td>\n",
       "      <td>Aix</td>\n",
       "      <td>5.0567</td>\n",
       "      <td>0.42826</td>\n",
       "    </tr>\n",
       "    <tr>\n",
       "      <th>99</th>\n",
       "      <td>0</td>\n",
       "      <td>155</td>\n",
       "      <td>150.8</td>\n",
       "      <td>25.3</td>\n",
       "      <td>0.01021</td>\n",
       "      <td>9.947</td>\n",
       "      <td>1.778</td>\n",
       "      <td>Aix</td>\n",
       "      <td>5.5866</td>\n",
       "      <td>0.77274</td>\n",
       "    </tr>\n",
       "  </tbody>\n",
       "</table>\n",
       "</div>"
      ],
      "text/plain": [
       "    JOUR  O3obs  MOCAGE  TEMPE    RMH2O     NO2     NO STATION  VentMOD  \\\n",
       "0      1     91    93.2   21.5  0.00847   1.602  0.424     Aix   9.5000   \n",
       "1      1    100   104.6   20.2  0.00881   2.121  0.531     Aix   8.0100   \n",
       "2      0     82   103.6   17.4  0.00951   1.657  0.467     Aix   9.3771   \n",
       "3      0     94    94.8   18.8  0.00855   2.350  0.701     Aix   9.4578   \n",
       "4      0    107    99.0   23.7  0.00731   1.653  0.452     Aix   7.8791   \n",
       "5      0    150   114.3   23.6  0.01182   5.316  1.343     Aix   6.3127   \n",
       "6      0    164   127.7   26.6  0.00937   2.841  0.550     Aix   4.8042   \n",
       "7      1    135   164.3   23.5  0.01087  15.733  2.911     Aix   4.8795   \n",
       "8      1    121   144.1   23.3  0.01168   8.807  1.867     Aix   5.1088   \n",
       "9      0    129   112.8   23.7  0.01091  18.911  4.700     Aix   5.4406   \n",
       "10     0    118    72.6   22.2  0.01626   4.258  1.304     Aix   5.9641   \n",
       "11     0     48   146.0   14.3  0.01453  13.664  2.976     Aix   5.8034   \n",
       "12     0     97    87.5   18.5  0.00959   4.126  1.271     Aix   7.5273   \n",
       "13     1     83   158.9   15.4  0.01456  10.254  1.839     Aix   2.5942   \n",
       "14     1     73   112.6   19.6  0.01220   1.955  0.445     Aix   8.8752   \n",
       "15     0     91    76.9   21.7  0.00685   1.382  0.429     Aix  12.3004   \n",
       "16     0     70    81.8   24.4  0.00890   1.567  0.443     Aix   9.5000   \n",
       "17     0    125   178.6   24.8  0.01206   8.216  1.139     Aix   6.5192   \n",
       "18     0    168   127.9   28.2  0.01387   4.632  0.861     Aix   7.1309   \n",
       "19     0    113   109.3   26.0  0.01220  12.290  2.958     Aix   5.9816   \n",
       "20     1    118   113.0   26.2  0.01064   4.615  0.995     Aix   6.2769   \n",
       "21     1    130   136.3   27.2  0.00912   4.276  0.827     Aix   6.0033   \n",
       "22     0    179   141.1   27.8  0.01010   7.656  1.750     Aix   5.1313   \n",
       "23     0    196   131.4   29.1  0.00919   5.208  1.016     Aix   6.0902   \n",
       "24     0    160   141.1   29.5  0.01033   5.043  0.900     Aix   6.1221   \n",
       "25     0    180   163.6   29.5  0.00789   8.520  1.385     Aix   5.5227   \n",
       "26     0    103   141.6   29.1  0.00663   6.654  1.341     Aix   5.2839   \n",
       "27     1    214   159.9   33.2  0.01431   4.122  0.563     Aix   7.2615   \n",
       "28     1    178   138.1   30.5  0.01509   6.835  1.174     Aix   6.0877   \n",
       "29     0    160   155.1   30.9  0.01526   2.489  0.349     Aix   7.2422   \n",
       "30     0    131   140.5   30.2  0.00877   3.026  0.481     Aix   9.0000   \n",
       "31     0    169   149.9   30.2  0.01134   2.198  0.314     Aix   5.7801   \n",
       "32     0    139    92.5   26.0  0.01426  23.822  7.510     Aix   5.3600   \n",
       "33     0    104    97.9   25.4  0.00884   1.816  0.414     Aix  12.3907   \n",
       "34     1    127    96.1   26.2  0.00712   1.780  0.429     Aix   6.2266   \n",
       "35     1    163   123.7   25.4  0.01058   2.701  0.596     Aix   6.3008   \n",
       "36     0    121   146.2   23.3  0.01343  18.234  3.773     Aix   4.7854   \n",
       "37     0     93   126.1   26.6  0.01217   3.187  0.669     Aix   6.0133   \n",
       "38     0    108   122.4   22.1  0.01872   8.698  2.038     Aix   6.4444   \n",
       "39     0     91    99.7   24.7  0.00754   2.109  0.502     Aix  11.2058   \n",
       "40     0    129   122.4   24.5  0.00921   5.359  1.146     Aix   6.9354   \n",
       "41     1     89   146.5   24.9  0.01134   2.336  0.362     Aix   6.5765   \n",
       "42     1    145   145.2   28.1  0.01342   4.691  0.808     Aix   7.4653   \n",
       "43     0    124   127.3   28.0  0.01123   6.486  1.292     Aix   7.1344   \n",
       "44     0    132   125.9   26.9  0.01173   9.414  2.220     Aix   6.2936   \n",
       "45     0     96   183.4   26.3  0.01483   4.334  0.580     Aix   5.4452   \n",
       "46     0    116   117.0   28.9  0.01007   2.743  0.541     Aix   6.3600   \n",
       "47     0    132   128.4   30.0  0.01023   2.810  0.508     Aix   6.5620   \n",
       "48     1     93    74.1   24.9  0.00984   1.045  0.337     Aix   9.4260   \n",
       "49     0    117   159.1   20.1  0.01962   3.127  0.432     Aix   5.4626   \n",
       "50     0     96   143.3   23.7  0.01534   2.125  0.362     Aix  12.1017   \n",
       "51     0    111   119.9   28.4  0.01138   1.823  0.334     Aix  10.6042   \n",
       "52     0    184   168.5   29.0  0.00900   3.827  0.612     Aix   6.7119   \n",
       "53     1    170   133.4   28.3  0.01188   4.647  0.807     Aix   6.7231   \n",
       "54     1    148   125.6   28.5  0.01537  11.480  2.414     Aix   4.6615   \n",
       "55     0    109   154.3   31.1  0.00833   3.415  0.472     Aix   5.8669   \n",
       "56     0    222   133.9   29.5  0.01456   3.339  0.572     Aix   5.7079   \n",
       "57     0     80    72.6   27.6  0.01205   1.051  0.290     Aix  12.4483   \n",
       "58     0    108   105.7   25.8  0.01035   1.704  0.358     Aix  12.5607   \n",
       "59     0    156   137.1   28.6  0.01256   2.686  0.452     Aix   5.5731   \n",
       "60     1    126   136.8   27.1  0.01380   7.755  1.464     Aix   6.2968   \n",
       "61     1    130   150.6   26.6  0.01577   4.650  0.768     Aix   5.6851   \n",
       "62     0    182   229.2   22.1  0.02486  18.303  2.153     Aix   5.0931   \n",
       "63     0    107   147.6   24.7  0.01716   6.163  1.073     Aix   5.4818   \n",
       "64     0    148   155.2   30.0  0.01172   5.587  0.847     Aix   6.0440   \n",
       "65     1    171   163.9   30.3  0.01441   7.945  1.181     Aix   6.1620   \n",
       "66     0    157   148.5   32.2  0.01424   4.842  0.741     Aix   6.5947   \n",
       "67     0    181   146.6   32.7  0.01151   5.193  0.809     Aix   7.0831   \n",
       "68     0    155   157.5   32.2  0.01790   5.705  0.984     Aix   5.7689   \n",
       "69     0    191   149.6   31.8  0.01520   7.863  1.276     Aix   6.3702   \n",
       "70     1    202   143.2   32.5  0.01549   4.628  0.790     Aix   7.1610   \n",
       "71     1    176   128.5   31.6  0.01332   4.274  0.768     Aix   7.1028   \n",
       "72     0    183   184.0   32.8  0.01814   4.560  0.544     Aix   7.4404   \n",
       "73     0    255   191.2   34.1  0.01693  10.559  1.254     Aix   7.0725   \n",
       "74     0    185   176.9   32.6  0.02004  10.608  1.396     Aix   7.2863   \n",
       "75     0    193   207.7   32.5  0.01941   8.263  0.981     Aix   6.7417   \n",
       "76     1    197   205.9   32.1  0.01722   7.736  0.856     Aix   6.5307   \n",
       "77     0    136   126.1   32.5  0.01247   1.968  0.319     Aix   7.9076   \n",
       "78     1    141    91.8   23.3  0.00714  13.654  4.015     Aix   6.0803   \n",
       "79     0    103   130.0   25.1  0.00431   6.631  1.206     Aix   6.1033   \n",
       "80     0     90    95.8   21.1  0.00442   2.756  0.745     Aix   8.6833   \n",
       "81     1     91   121.5   18.0  0.00558   3.785  0.855     Aix  12.5495   \n",
       "82     0     93   110.1   19.8  0.00373   4.416  1.101     Aix   7.3055   \n",
       "83     0     93   163.1   19.0  0.00690  30.934  5.006     Aix   3.9319   \n",
       "84     0    119   119.4   20.9  0.00414   4.848  1.069     Aix   4.3463   \n",
       "85     0    124   129.6   22.0  0.00569   2.584  0.483     Aix   7.5180   \n",
       "86     1     87   102.5   18.9  0.00956   4.836  1.289     Aix   5.3535   \n",
       "87     1    107   116.9   20.0  0.00637   6.632  1.635     Aix   6.3789   \n",
       "88     0    106    81.4   14.5  0.00969  22.496  8.513     Aix   0.9434   \n",
       "89     0     77   122.0   16.0  0.01097   4.776  0.940     Aix   3.9205   \n",
       "90     0     82   101.0   15.6  0.00599   3.834  1.098     Aix  11.9808   \n",
       "91     0     93   131.5   22.9  0.00404   5.167  1.057     Aix   5.9464   \n",
       "92     0    117   118.1   21.6  0.00650  19.528  4.996     Aix   6.4382   \n",
       "93     1    115    93.4   22.0  0.00555  12.768  4.025     Aix   6.1294   \n",
       "94     1    117   134.9   23.2  0.00540   2.606  0.498     Aix   4.8260   \n",
       "95     0     87   102.0   20.5  0.00635   2.886  0.758     Aix  11.6825   \n",
       "96     0    111   117.9   24.0  0.00669   4.662  1.072     Aix   6.0166   \n",
       "97     0    116   169.5   24.8  0.01190  11.374  1.846     Aix   4.7011   \n",
       "98     0    144   190.1   24.5  0.01167   7.578  1.031     Aix   5.0567   \n",
       "99     0    155   150.8   25.3  0.01021   9.947  1.778     Aix   5.5866   \n",
       "\n",
       "    VentANG  \n",
       "0  -0.64350  \n",
       "1  -0.04996  \n",
       "2  -0.12832  \n",
       "3  -0.34516  \n",
       "4  -0.41822  \n",
       "5   0.06341  \n",
       "6   0.04164  \n",
       "7   0.79989  \n",
       "8   0.70226  \n",
       "9   0.94200  \n",
       "10 -0.60661  \n",
       "11 -0.03447  \n",
       "12  0.33856  \n",
       "13  0.48089  \n",
       "14 -0.58488  \n",
       "15 -0.63537  \n",
       "16 -0.64350  \n",
       "17  0.72027  \n",
       "18  0.38832  \n",
       "19  0.66691  \n",
       "20  0.53496  \n",
       "21  0.52328  \n",
       "22  0.57719  \n",
       "23  0.51507  \n",
       "24  0.66964  \n",
       "25  0.55284  \n",
       "26  0.51445  \n",
       "27  0.39585  \n",
       "28  0.73892  \n",
       "29 -0.61864  \n",
       "30 -0.64350  \n",
       "31 -0.52558  \n",
       "32  0.93103  \n",
       "33 -0.83678  \n",
       "34 -0.52114  \n",
       "35  0.01587  \n",
       "36  1.11649  \n",
       "37 -0.06657  \n",
       "38  0.73051  \n",
       "39 -0.57563  \n",
       "40  0.74460  \n",
       "41 -0.49085  \n",
       "42  0.68102  \n",
       "43  1.02557  \n",
       "44  0.77416  \n",
       "45 -0.12891  \n",
       "46 -0.28694  \n",
       "47 -0.13759  \n",
       "48 -0.71783  \n",
       "49 -0.41451  \n",
       "50 -0.74449  \n",
       "51 -0.67180  \n",
       "52 -0.05963  \n",
       "53  0.53022  \n",
       "54  0.61776  \n",
       "55 -0.51703  \n",
       "56 -0.05258  \n",
       "57 -0.80812  \n",
       "58 -0.70085  \n",
       "59  0.16220  \n",
       "60  0.81909  \n",
       "61  0.68573  \n",
       "62  0.81317  \n",
       "63  0.25825  \n",
       "64  0.67991  \n",
       "65  0.72799  \n",
       "66  0.71027  \n",
       "67  0.53316  \n",
       "68  0.58800  \n",
       "69  0.82981  \n",
       "70  0.62674  \n",
       "71  0.61534  \n",
       "72  0.63275  \n",
       "73  0.80540  \n",
       "74  0.75628  \n",
       "75  0.56332  \n",
       "76  0.44310  \n",
       "77 -0.16515  \n",
       "78  0.93716  \n",
       "79 -1.53802  \n",
       "80 -0.50486  \n",
       "81 -0.71208  \n",
       "82 -0.33474  \n",
       "83  0.12751  \n",
       "84 -0.40187  \n",
       "85 -0.49935  \n",
       "86 -0.57246  \n",
       "87  0.23737  \n",
       "88 -0.55860  \n",
       "89 -0.65881  \n",
       "90 -0.65519  \n",
       "91 -0.34302  \n",
       "92  0.75244  \n",
       "93  1.07796  \n",
       "94 -0.97705  \n",
       "95 -0.66405  \n",
       "96 -0.26917  \n",
       "97  0.51123  \n",
       "98  0.42826  \n",
       "99  0.77274  "
      ]
     },
     "execution_count": 78,
     "metadata": {},
     "output_type": "execute_result"
    }
   ],
   "source": [
    "path_Home = \"/home/malick/Bureau/Data/Statistique_en_grande_dimension\"\n",
    "path = \"/users/mmath/wade/Bureau/Data/Statistique_en_grande_dimension\"\n",
    "\n",
    "df = pd.read_csv(path + \"/ozone.dat\",  sep=' ')\n",
    "df.head(100)"
   ]
  },
  {
   "cell_type": "code",
   "execution_count": 83,
   "metadata": {},
   "outputs": [
    {
     "data": {
      "text/plain": [
       "0.00285"
      ]
     },
     "execution_count": 83,
     "metadata": {},
     "output_type": "execute_result"
    }
   ],
   "source": [
    "df.RMH2O.min()"
   ]
  },
  {
   "cell_type": "raw",
   "metadata": {},
   "source": [
    "A faire:\n",
    "1. Nettoyer les données ( labelEncoding(STATION), RMH2O ....."
   ]
  },
  {
   "cell_type": "code",
   "execution_count": null,
   "metadata": {},
   "outputs": [],
   "source": []
  },
  {
   "cell_type": "code",
   "execution_count": null,
   "metadata": {},
   "outputs": [],
   "source": []
  },
  {
   "cell_type": "code",
   "execution_count": null,
   "metadata": {},
   "outputs": [],
   "source": []
  },
  {
   "cell_type": "markdown",
   "metadata": {},
   "source": [
    "## Exercice 4"
   ]
  },
  {
   "cell_type": "markdown",
   "metadata": {},
   "source": [
    "### 1. Traitement des données"
   ]
  },
  {
   "cell_type": "code",
   "execution_count": null,
   "metadata": {},
   "outputs": [],
   "source": [
    "path_Home = \"/home/malick/Bureau/Data/Statistique_en_grande_dimension/Donnees_knn\"\n",
    "path = \"/users/mmath/wade/Bureau/Data/Statistique_en_grande_dimension/Donnees_knn\"\n",
    "\n",
    "df_train = pd.read_csv(path + \"/mnist_train.csv\",  sep=',')\n",
    "df_test = pd.read_csv(path + \"/mnist_test.csv\",  sep=',')"
   ]
  },
  {
   "cell_type": "code",
   "execution_count": null,
   "metadata": {
    "scrolled": false
   },
   "outputs": [],
   "source": [
    "# On sépare la variable cible des variables explicatives\n",
    "Xtrain = df_train.iloc[:,1:df_train.shape[1]]\n",
    "Ytrain = df_train.iloc[:,0:1]\n",
    "\n",
    "Xtest = df_test.iloc[:,1:df_train.shape[1]]\n",
    "Ytest = df_test.iloc[:,0:1]"
   ]
  },
  {
   "cell_type": "code",
   "execution_count": null,
   "metadata": {},
   "outputs": [],
   "source": [
    "# 500 individus pour l'entrainement\n",
    "Xtrain_1000 = Xtrain.sample(n=500, random_state=1, replace=False)\n",
    "X_train = Xtrain_1000.reset_index(drop=True)\n",
    "\n",
    "Ytrain_1000 = Ytrain.sample(n=500, random_state=1, replace=False)\n",
    "y_train = Ytrain_1000.reset_index(drop=True)\n",
    "\n",
    "# 500 individus pour le test\n",
    "Xtest_500 = Xtest.sample(n=500, random_state=2, replace=False)\n",
    "X_test = Xtest_500.reset_index(drop=True)\n",
    "\n",
    "Ytest_500 = Ytest.sample(n=500, random_state=2, replace=False)\n",
    "y_test = Ytest_500.reset_index(drop=True)"
   ]
  },
  {
   "cell_type": "markdown",
   "metadata": {},
   "source": [
    "### 2. Modéles SVM"
   ]
  },
  {
   "cell_type": "markdown",
   "metadata": {},
   "source": [
    "### a. SVM Linear "
   ]
  },
  {
   "cell_type": "code",
   "execution_count": null,
   "metadata": {},
   "outputs": [],
   "source": [
    "import time\n",
    "\n",
    "#on crée un nouveau modèle SVM à noyau Polynomiale\n",
    "svmLINEAR = SVC(kernel='linear')\n",
    "\n",
    "#on crée un dictionnaire de toutes les valeurs que nous voulons tester\n",
    "param_grid_LINEAR = {\"C\": np.arange(0.1, 100)}\n",
    "\n",
    "#on utilise gridsearch pour tester toutes les valeurs\n",
    "svmLINEAR_gscv = GridSearchCV(svmLINEAR, param_grid_LINEAR, cv=5, n_jobs=-1, verbose=10)\n",
    "\n",
    "#ajustement du modèle aux données\n",
    "t_debut = time.time()\n",
    "svmLINEAR_gscv.fit(X_train, y_train)\n",
    "t_fin = time.time()\n",
    "\n",
    "temps_SVM_Linear = (t_fin - t_debut)/60\n",
    "\n",
    "print(\"Précision Train: \",round(svmLINEAR_gscv.score(X_train, y_train),3))\n",
    "print(\"Précision Test: \",round(svmLINEAR_gscv.score(X_test, y_test),3))\n",
    "print(\"\\n\")\n",
    "print(svmLINEAR_gscv.best_params_)"
   ]
  },
  {
   "cell_type": "markdown",
   "metadata": {},
   "source": [
    "### b. SVM Poly"
   ]
  },
  {
   "cell_type": "code",
   "execution_count": null,
   "metadata": {
    "scrolled": true
   },
   "outputs": [],
   "source": [
    "#on crée un nouveau modèle SVM à noyau Polynomiale\n",
    "svmPOLY = SVC(kernel='poly')\n",
    "\n",
    "#on crée un dictionnaire de toutes les valeurs que nous voulons tester\n",
    "param_grid_POLY = {\"C\": np.arange(0.1, 20), \"gamma\" : np.arange(0,1,0.05), \"degree\": [2,3,4], \"coef0\": np.arange(0,1,0.5)}\n",
    "\n",
    "#on utilise gridsearch pour tester toutes les valeurs\n",
    "svmPOLY_gscv = GridSearchCV(svmPOLY, param_grid_POLY, cv=5, n_jobs=-1, verbose=10)\n",
    "\n",
    "#ajustement du modèle aux données\n",
    "t_debut = time.time()\n",
    "svmPOLY_gscv.fit(X_train, y_train)\n",
    "t_fin = time.time()\n",
    "\n",
    "temps_SVM_Poly = (t_fin - t_debut)/60\n",
    "\n",
    "print(\"Précision Train: \",round(svmPOLY_gscv.score(X_train, y_train),3))\n",
    "print(\"Précision Test: \",round(svmPOLY_gscv.score(X_test, y_test),3))\n",
    "print(\"\\n\")\n",
    "print(svmPOLY_gscv.best_params_)"
   ]
  },
  {
   "cell_type": "markdown",
   "metadata": {},
   "source": [
    "### c. SMV Rbf"
   ]
  },
  {
   "cell_type": "code",
   "execution_count": null,
   "metadata": {},
   "outputs": [],
   "source": [
    "from sklearn.model_selection import GridSearchCV\n",
    "\n",
    "#on crée un nouveau modèle SVM à noyau Gaussien\n",
    "svmRBF = SVC(kernel='rbf')\n",
    "\n",
    "#on crée un dictionnaire de toutes les valeurs que nous voulons tester\n",
    "param_grid_RBF = {\"C\": np.arange(0.1, 20), \"gamma\" : np.arange(0,1,0.05)}\n",
    "\n",
    "#on utilise gridsearch pour tester toutes les valeurs de param_grid\n",
    "svmRBF_gscv = GridSearchCV(svmRBF, param_grid_RBF, cv=5, n_jobs=-1, verbose=10)\n",
    "\n",
    "#ajustement du modèle aux données\n",
    "t_debut = time.time()\n",
    "svmRBF_gscv.fit(X_train,y_train)\n",
    "t_fin = time.time()\n",
    "\n",
    "temps_SVM_Rbf = (t_fin - t_debut)/60\n",
    "\n",
    "print(\"Précision Train: \",round(svmRBF_gscv.score(X_train,y_train),3))\n",
    "print(\"Précision Test: \",round(svmRBF_gscv.score(X_test,y_test),3))\n",
    "print(\"\\n\")\n",
    "\n",
    "print(svmRBF_gscv.best_params_)"
   ]
  },
  {
   "cell_type": "code",
   "execution_count": null,
   "metadata": {},
   "outputs": [],
   "source": [
    "Precision_MNIST = pd.DataFrame({'SVM_Linear' :[round(svmLINEAR_gscv.score(X_test, y_test),3),temps_SVM_Linear],\n",
    "                               'SVM_Poly' :[round(svmPOLY_gscv.score(X_test, y_test),3),temps_SVM_Poly],\n",
    "                               'SVM_Rbf' :[round(svmRBF_gscv.score(X_test,y_test),3),temps_SVM_Rbf]},\n",
    "                                index = ['Précision', \"temps d'entrainement\"])\n",
    "Precision_MNIST.head()"
   ]
  }
 ],
 "metadata": {
  "kernelspec": {
   "display_name": "Python 3",
   "language": "python",
   "name": "python3"
  },
  "language_info": {
   "codemirror_mode": {
    "name": "ipython",
    "version": 3
   },
   "file_extension": ".py",
   "mimetype": "text/x-python",
   "name": "python",
   "nbconvert_exporter": "python",
   "pygments_lexer": "ipython3",
   "version": "3.7.3"
  }
 },
 "nbformat": 4,
 "nbformat_minor": 2
}
