{
 "cells": [
  {
   "cell_type": "markdown",
   "metadata": {},
   "source": [
    "# Exercice 3 du TD2"
   ]
  },
  {
   "cell_type": "markdown",
   "metadata": {},
   "source": [
    "# a."
   ]
  },
  {
   "cell_type": "code",
   "execution_count": 12,
   "metadata": {},
   "outputs": [],
   "source": [
    "import numpy as np\n",
    "import matplotlib.pyplot as plt\n",
    "\n",
    "mu = 0\n",
    "sigma = 1\n",
    "p = 5000\n",
    "p1 = 4800\n",
    "\n",
    "n = 50\n",
    "\n",
    "def Simul(mu,sigma,p,p1,n):\n",
    "    M = np.zeros([n,p]) \n",
    "    for i in range(n):\n",
    "        d1 = np.random.randn(p1) * sigma + mu\n",
    "        d2 = np.random.randn(p-p1) * sigma + mu\n",
    "        data = np.concatenate((d1, d2), axis=None)\n",
    "        M[i,:] = data\n",
    "    \n",
    "    return M\n",
    "\n",
    "#hx, hy, _ = plt.hist(data_1, bins=50, normed=1,color=\"lightblue\")\n",
    "\n",
    "#plt.ylim(0.0,max(hx)+0.05)\n",
    "#plt.title('Generate random numbers \\n from a normal distribution with python')\n",
    "#plt.grid()"
   ]
  },
  {
   "cell_type": "code",
   "execution_count": 11,
   "metadata": {},
   "outputs": [
    {
     "data": {
      "text/plain": [
       "(5000,)"
      ]
     },
     "execution_count": 11,
     "metadata": {},
     "output_type": "execute_result"
    }
   ],
   "source": [
    "for "
   ]
  },
  {
   "cell_type": "code",
   "execution_count": null,
   "metadata": {},
   "outputs": [],
   "source": []
  },
  {
   "cell_type": "code",
   "execution_count": null,
   "metadata": {},
   "outputs": [],
   "source": []
  },
  {
   "cell_type": "code",
   "execution_count": null,
   "metadata": {},
   "outputs": [],
   "source": []
  },
  {
   "cell_type": "code",
   "execution_count": null,
   "metadata": {},
   "outputs": [],
   "source": []
  }
 ],
 "metadata": {
  "kernelspec": {
   "display_name": "Python 3",
   "language": "python",
   "name": "python3"
  },
  "language_info": {
   "codemirror_mode": {
    "name": "ipython",
    "version": 3
   },
   "file_extension": ".py",
   "mimetype": "text/x-python",
   "name": "python",
   "nbconvert_exporter": "python",
   "pygments_lexer": "ipython3",
   "version": "3.7.3"
  }
 },
 "nbformat": 4,
 "nbformat_minor": 2
}
